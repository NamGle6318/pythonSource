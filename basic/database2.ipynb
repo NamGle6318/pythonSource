{
 "cells": [
  {
   "cell_type": "markdown",
   "id": "82f42922",
   "metadata": {},
   "source": [
    "### DB 연동\n",
    "    - oracle 연동\n",
    "        - pip install oracledb 로 외부 라이브러리 다운로드 받아야함"
   ]
  },
  {
   "cell_type": "code",
   "execution_count": 1,
   "id": "8c95759d",
   "metadata": {},
   "outputs": [],
   "source": [
    "import oracledb\n",
    "from datetime import datetime\n",
    "\n"
   ]
  },
  {
   "cell_type": "code",
   "execution_count": 2,
   "id": "fbe2dffa",
   "metadata": {},
   "outputs": [],
   "source": [
    "conn = oracledb.connect(user='c##java', password='12345', dsn='localhost/xe')\n",
    "cursor = conn.cursor()"
   ]
  },
  {
   "cell_type": "code",
   "execution_count": 3,
   "id": "0c0cb467",
   "metadata": {},
   "outputs": [
    {
     "data": {
      "text/plain": [
       "datetime.datetime(2025, 6, 10, 11, 40, 36, 236773)"
      ]
     },
     "execution_count": 3,
     "metadata": {},
     "output_type": "execute_result"
    }
   ],
   "source": [
    "now = datetime.today()\n",
    "now"
   ]
  },
  {
   "cell_type": "code",
   "execution_count": 6,
   "id": "e64f04d3",
   "metadata": {},
   "outputs": [
    {
     "data": {
      "text/plain": [
       "<oracledb.Cursor on <oracledb.Connection to c##java@localhost/xe>>"
      ]
     },
     "execution_count": 6,
     "metadata": {},
     "output_type": "execute_result"
    }
   ],
   "source": [
    "sql = \"select * from board_tbl where bno between 1 and 10\"\n",
    "cursor.execute(sql)"
   ]
  },
  {
   "cell_type": "code",
   "execution_count": 7,
   "id": "eac7b3c6",
   "metadata": {},
   "outputs": [
    {
     "name": "stdout",
     "output_type": "stream",
     "text": [
      "(1, datetime.datetime(2025, 5, 12, 16, 37, 22, 569378), datetime.datetime(2025, 5, 12, 16, 37, 22, 569378), '1컷 만화', 'user5@gmail.com', '맛있는 만화1편')\n",
      "(2, datetime.datetime(2025, 5, 12, 16, 37, 22, 717287), datetime.datetime(2025, 5, 12, 16, 37, 22, 717287), '2컷 만화', 'user3@gmail.com', '맛있는 만화2편')\n",
      "(3, datetime.datetime(2025, 5, 12, 16, 37, 22, 736266), datetime.datetime(2025, 5, 12, 16, 37, 22, 736266), '3컷 만화', 'user5@gmail.com', '맛있는 만화3편')\n",
      "(4, datetime.datetime(2025, 5, 12, 16, 37, 22, 749260), datetime.datetime(2025, 5, 12, 16, 37, 22, 749260), '4컷 만화', 'user5@gmail.com', '맛있는 만화4편')\n",
      "(5, datetime.datetime(2025, 5, 12, 16, 37, 22, 764251), datetime.datetime(2025, 5, 12, 16, 37, 22, 764251), '5컷 만화', 'user9@gmail.com', '맛있는 만화5편')\n",
      "(6, datetime.datetime(2025, 5, 12, 16, 37, 22, 776244), datetime.datetime(2025, 5, 12, 16, 37, 22, 776244), '6컷 만화', 'user5@gmail.com', '맛있는 만화6편')\n",
      "(7, datetime.datetime(2025, 5, 12, 16, 37, 22, 787238), datetime.datetime(2025, 5, 12, 16, 37, 22, 787238), '7컷 만화', 'user8@gmail.com', '맛있는 만화7편')\n",
      "(8, datetime.datetime(2025, 5, 12, 16, 37, 22, 796233), datetime.datetime(2025, 5, 12, 16, 37, 22, 796233), '8컷 만화', 'user7@gmail.com', '맛있는 만화8편')\n",
      "(9, datetime.datetime(2025, 5, 12, 16, 37, 22, 840208), datetime.datetime(2025, 5, 12, 16, 37, 22, 840208), '9컷 만화', 'user1@gmail.com', '맛있는 만화9편')\n",
      "(10, datetime.datetime(2025, 5, 12, 16, 37, 22, 872189), datetime.datetime(2025, 5, 12, 16, 37, 22, 872189), '10컷 만화', 'user3@gmail.com', '맛있는 만화10편')\n"
     ]
    }
   ],
   "source": [
    "for row in cursor.fetchall():\n",
    "    print(row)"
   ]
  },
  {
   "cell_type": "code",
   "execution_count": 9,
   "id": "74c42b9f",
   "metadata": {},
   "outputs": [
    {
     "data": {
      "text/plain": [
       "(1,\n",
       " datetime.datetime(2025, 5, 12, 16, 37, 22, 569378),\n",
       " datetime.datetime(2025, 5, 12, 16, 37, 22, 569378),\n",
       " '1컷 만화',\n",
       " 'user5@gmail.com',\n",
       " '맛있는 만화1편')"
      ]
     },
     "execution_count": 9,
     "metadata": {},
     "output_type": "execute_result"
    }
   ],
   "source": [
    "sql = \"select * from board_tbl where bno=:bno\"\n",
    "\n",
    "# cursor.execute(sql, (1,)) # oracledb는 물음표 안됨\n",
    "cursor.execute(sql,(1,))\n",
    "cursor.fetchone()"
   ]
  },
  {
   "cell_type": "code",
   "execution_count": 13,
   "id": "27f19116",
   "metadata": {},
   "outputs": [],
   "source": [
    "sql = \"insert into board_tbl(title, content, member_id, created_date, updated_date) \"\n",
    "sql += \"values(:1, :2, :3, :4, :5)\"\n",
    "\n",
    "data = ('python', 'python data', 'user1@gmail.com', now, now)\n",
    "\n",
    "cursor.execute(sql, data)\n",
    "conn.commit()"
   ]
  },
  {
   "cell_type": "code",
   "execution_count": null,
   "id": "96700860",
   "metadata": {},
   "outputs": [],
   "source": [
    "sql = \"update board_tbl set title=:1, updated_date=:2 where bno=:3\"\n",
    "\n",
    "data= (\"밥묵자\", datetime.today(), 141)\n",
    "\n",
    "cursor.execute(sql, data)\n",
    "conn.commit()"
   ]
  },
  {
   "cell_type": "code",
   "execution_count": 21,
   "id": "b2e2e96d",
   "metadata": {},
   "outputs": [],
   "source": [
    "sql = \"delete from board_tbl where bno=:1\"\n",
    "\n",
    "cursor.execute(sql, (141, ))\n",
    "conn.commit()"
   ]
  }
 ],
 "metadata": {
  "kernelspec": {
   "display_name": "venv",
   "language": "python",
   "name": "python3"
  },
  "language_info": {
   "codemirror_mode": {
    "name": "ipython",
    "version": 3
   },
   "file_extension": ".py",
   "mimetype": "text/x-python",
   "name": "python",
   "nbconvert_exporter": "python",
   "pygments_lexer": "ipython3",
   "version": "3.13.3"
  }
 },
 "nbformat": 4,
 "nbformat_minor": 5
}
