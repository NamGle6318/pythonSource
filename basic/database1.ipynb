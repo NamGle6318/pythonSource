{
 "cells": [
  {
   "cell_type": "markdown",
   "id": "5dfeca4f",
   "metadata": {},
   "source": [
    "### DB 연동\n",
    "- 내장 DB : SQLite(Python, 휴대폰 등 공간이 넉넉치 못한곳에서 주로 쓰임)\n",
    "    - RDBMS : 테이블 형태의 DB"
   ]
  },
  {
   "cell_type": "code",
   "execution_count": 1,
   "id": "e3354bf8",
   "metadata": {},
   "outputs": [],
   "source": [
    "import sqlite3\n",
    "from datetime import datetime\n"
   ]
  },
  {
   "cell_type": "code",
   "execution_count": 5,
   "id": "5360f906",
   "metadata": {},
   "outputs": [
    {
     "name": "stdout",
     "output_type": "stream",
     "text": [
      " sqlite3 version :  3.49.1\n"
     ]
    }
   ],
   "source": [
    "print(\" sqlite3 version : \", sqlite3.sqlite_version)"
   ]
  },
  {
   "cell_type": "code",
   "execution_count": 13,
   "id": "6d244f01",
   "metadata": {},
   "outputs": [
    {
     "name": "stdout",
     "output_type": "stream",
     "text": [
      "<class 'datetime.datetime'>\n",
      "2025-06-10 10:49:16\n",
      "<class 'str'>\n"
     ]
    }
   ],
   "source": [
    "now = datetime.now()\n",
    "print(type(now))\n",
    "\n",
    "# 원하는 형식으로 변경 = (datetime.datetime).strftime(\"형식\")\n",
    "nowDateTime =now.strftime(\"%Y-%m-%d %H:%M:%S\")\n",
    "print(nowDateTime)\n",
    "print(type(nowDateTime))\n"
   ]
  },
  {
   "cell_type": "code",
   "execution_count": null,
   "id": "495a2cce",
   "metadata": {},
   "outputs": [],
   "source": [
    "# 데이터베이스 생성\n",
    "\n",
    "conn = sqlite3.connect(\"./test.db\", isolation_level=None) # isolation_level=None : AutoCommit 비활성화"
   ]
  },
  {
   "cell_type": "code",
   "execution_count": null,
   "id": "057941a8",
   "metadata": {},
   "outputs": [],
   "source": [
    "# cursor() : table을 가리키고 있는 포인터?\n",
    "cursor = conn.cursor()"
   ]
  },
  {
   "cell_type": "code",
   "execution_count": 17,
   "id": "b08f2faa",
   "metadata": {},
   "outputs": [
    {
     "data": {
      "text/plain": [
       "<sqlite3.Cursor at 0x27df7d72340>"
      ]
     },
     "execution_count": 17,
     "metadata": {},
     "output_type": "execute_result"
    }
   ],
   "source": [
    "# 테이블 생성하기\n",
    "# type : integer(정수), text(문자)\n",
    "\n",
    "sql = \"create table if not exists users(id integer primary key, username text, email text, phone text, website text, regdate text)\"\n",
    "\n",
    "cursor.execute(sql)"
   ]
  },
  {
   "cell_type": "code",
   "execution_count": null,
   "id": "249305c9",
   "metadata": {},
   "outputs": [],
   "source": []
  },
  {
   "cell_type": "code",
   "execution_count": 22,
   "id": "c2f3698e",
   "metadata": {},
   "outputs": [
    {
     "data": {
      "text/plain": [
       "<sqlite3.Cursor at 0x27df7d72340>"
      ]
     },
     "execution_count": 22,
     "metadata": {},
     "output_type": "execute_result"
    }
   ],
   "source": [
    "# create(insert)\n",
    "# inser into table명(속성) values(값, ?)\n",
    "# ? 값 넣기 : 튜플로 지정하기 (values)\n",
    "\n",
    "\n",
    "sql = \"insert into users(id, username, email, phone, website, regdate) \"\n",
    "sql += \"values(?, ?, ?, ?, ?, ?)\"\n",
    "\n",
    "#execute() 실행의 의미 실행이 insert든 select든\n",
    "cursor.execute(sql, (2,'sans' ,'skull@gmail.com' ,'1557-1577' ,'www.naver.com' , nowDateTime))"
   ]
  },
  {
   "cell_type": "code",
   "execution_count": 24,
   "id": "cc9704d3",
   "metadata": {},
   "outputs": [
    {
     "data": {
      "text/plain": [
       "<sqlite3.Cursor at 0x27df7d72340>"
      ]
     },
     "execution_count": 24,
     "metadata": {},
     "output_type": "execute_result"
    }
   ],
   "source": [
    "# 한꺼번에 insert 하기\n",
    "\n",
    "userList = [\n",
    "    (3,'Kimbokum' ,'bokum@gmail.com' ,'010-1234-5678' ,'www.naver.com' , nowDateTime),\n",
    "    (4,'KimJaBan' ,'jaban@gmail.com' ,'010-1357-9123' ,'www.google.com' , nowDateTime),\n",
    "    (5,'KimChiGuk' ,'chiguk@gmail.com' ,'010-1244-5346' ,'www.daum.net' , nowDateTime)\n",
    "]\n",
    "\n",
    "# executemany() 여러번 실행해야함\n",
    "cursor.executemany(sql, userList)"
   ]
  },
  {
   "cell_type": "code",
   "execution_count": 34,
   "id": "46037537",
   "metadata": {},
   "outputs": [
    {
     "data": {
      "text/plain": [
       "<sqlite3.Cursor at 0x27df7d72340>"
      ]
     },
     "execution_count": 34,
     "metadata": {},
     "output_type": "execute_result"
    }
   ],
   "source": [
    "# 조회(read) - fetchone(), fetchmany(), fetchall() 들이 있음\n",
    "\n",
    "sql = \"select * from users\"\n",
    "\n",
    "cursor.execute(sql)"
   ]
  },
  {
   "cell_type": "code",
   "execution_count": 36,
   "id": "5e103627",
   "metadata": {},
   "outputs": [
    {
     "data": {
      "text/plain": [
       "(3,\n",
       " 'Kimbokum',\n",
       " 'bokum@gmail.com',\n",
       " '010-1234-5678',\n",
       " 'www.naver.com',\n",
       " '2025-06-10 10:49:16')"
      ]
     },
     "execution_count": 36,
     "metadata": {},
     "output_type": "execute_result"
    }
   ],
   "source": [
    "cursor.fetchone() "
   ]
  },
  {
   "cell_type": "code",
   "execution_count": 35,
   "id": "7fdd3888",
   "metadata": {},
   "outputs": [
    {
     "data": {
      "text/plain": [
       "[(1,\n",
       "  'kim',\n",
       "  'kimchi@gmail.com',\n",
       "  '010-1234-5678',\n",
       "  'http://localhost:8080',\n",
       "  '2025-06-10 10:49:16'),\n",
       " (2,\n",
       "  'sans',\n",
       "  'skull@gmail.com',\n",
       "  '1557-1577',\n",
       "  'www.naver.com',\n",
       "  '2025-06-10 10:49:16')]"
      ]
     },
     "execution_count": 35,
     "metadata": {},
     "output_type": "execute_result"
    }
   ],
   "source": [
    "cursor.fetchmany(size=2) "
   ]
  },
  {
   "cell_type": "code",
   "execution_count": 37,
   "id": "afd3922a",
   "metadata": {},
   "outputs": [
    {
     "data": {
      "text/plain": [
       "[(4,\n",
       "  'KimJaBan',\n",
       "  'jaban@gmail.com',\n",
       "  '010-1357-9123',\n",
       "  'www.google.com',\n",
       "  '2025-06-10 10:49:16'),\n",
       " (5,\n",
       "  'KimChiGuk',\n",
       "  'chiguk@gmail.com',\n",
       "  '010-1244-5346',\n",
       "  'www.daum.net',\n",
       "  '2025-06-10 10:49:16')]"
      ]
     },
     "execution_count": 37,
     "metadata": {},
     "output_type": "execute_result"
    }
   ],
   "source": [
    "cursor.fetchall()"
   ]
  },
  {
   "cell_type": "code",
   "execution_count": 38,
   "id": "fd446fa9",
   "metadata": {},
   "outputs": [
    {
     "name": "stdout",
     "output_type": "stream",
     "text": [
      "(1, 'kim', 'kimchi@gmail.com', '010-1234-5678', 'http://localhost:8080', '2025-06-10 10:49:16')\n",
      "(2, 'sans', 'skull@gmail.com', '1557-1577', 'www.naver.com', '2025-06-10 10:49:16')\n",
      "(3, 'Kimbokum', 'bokum@gmail.com', '010-1234-5678', 'www.naver.com', '2025-06-10 10:49:16')\n",
      "(4, 'KimJaBan', 'jaban@gmail.com', '010-1357-9123', 'www.google.com', '2025-06-10 10:49:16')\n",
      "(5, 'KimChiGuk', 'chiguk@gmail.com', '010-1244-5346', 'www.daum.net', '2025-06-10 10:49:16')\n"
     ]
    }
   ],
   "source": [
    "sql = \"select * from users\"\n",
    "\n",
    "cursor.execute(sql)\n",
    "\n",
    "for row in cursor.fetchall():\n",
    "    print(row)"
   ]
  },
  {
   "cell_type": "code",
   "execution_count": 41,
   "id": "29257013",
   "metadata": {},
   "outputs": [
    {
     "data": {
      "text/plain": [
       "[(3,\n",
       "  'Kimbokum',\n",
       "  'bokum@gmail.com',\n",
       "  '010-1234-5678',\n",
       "  'www.naver.com',\n",
       "  '2025-06-10 10:49:16')]"
      ]
     },
     "execution_count": 41,
     "metadata": {},
     "output_type": "execute_result"
    }
   ],
   "source": [
    "sql = \"select * from users where id=?\"\n",
    "\n",
    "cursor.execute(sql,(3,)) # tuple 특징 : 값이 하나면 , 를 써줘야함\n",
    "cursor.fetchall() # all 은 값이 몇개든 무조건 list로 반환"
   ]
  },
  {
   "cell_type": "code",
   "execution_count": 42,
   "id": "47b05f5b",
   "metadata": {},
   "outputs": [
    {
     "data": {
      "text/plain": [
       "[(3,\n",
       "  'Kimbokum',\n",
       "  'bokum@gmail.com',\n",
       "  '010-1234-5678',\n",
       "  'www.naver.com',\n",
       "  '2025-06-10 10:49:16'),\n",
       " (5,\n",
       "  'KimChiGuk',\n",
       "  'chiguk@gmail.com',\n",
       "  '010-1244-5346',\n",
       "  'www.daum.net',\n",
       "  '2025-06-10 10:49:16')]"
      ]
     },
     "execution_count": 42,
     "metadata": {},
     "output_type": "execute_result"
    }
   ],
   "source": [
    "sql = \"select * from users where id in (?,?)\"\n",
    "\n",
    "cursor.execute(sql, (3,5))\n",
    "cursor.fetchall()"
   ]
  },
  {
   "cell_type": "code",
   "execution_count": 47,
   "id": "f786db69",
   "metadata": {},
   "outputs": [
    {
     "data": {
      "text/plain": [
       "[(2,\n",
       "  'sans',\n",
       "  'skull@gmail.com',\n",
       "  '1557-1577',\n",
       "  'www.naver.com',\n",
       "  '2025-06-10 10:49:16')]"
      ]
     },
     "execution_count": 47,
     "metadata": {},
     "output_type": "execute_result"
    }
   ],
   "source": [
    "# username 이 sans인 사람을 조회해보자\n",
    "\n",
    "sql = \"select * from users where username like ?\"\n",
    "\n",
    "cursor.execute(sql, ('sans',))\n",
    "cursor.fetchall()"
   ]
  },
  {
   "cell_type": "code",
   "execution_count": 51,
   "id": "3b8d9297",
   "metadata": {},
   "outputs": [
    {
     "data": {
      "text/plain": [
       "<sqlite3.Cursor at 0x27df7d72340>"
      ]
     },
     "execution_count": 51,
     "metadata": {},
     "output_type": "execute_result"
    }
   ],
   "source": [
    "# 수정 : update\n",
    "sql = \"update users set phone=? where id=?\"\n",
    "\n",
    "cursor.execute(sql,('042-8282', 1))\n"
   ]
  },
  {
   "cell_type": "code",
   "execution_count": 52,
   "id": "8b238f0e",
   "metadata": {},
   "outputs": [
    {
     "data": {
      "text/plain": [
       "<sqlite3.Cursor at 0x27df7d72340>"
      ]
     },
     "execution_count": 52,
     "metadata": {},
     "output_type": "execute_result"
    }
   ],
   "source": [
    "# 삭제 : delete \n",
    "sql = \"delete from users where id=?\"\n",
    "\n",
    "cursor.execute(sql,(5,))"
   ]
  }
 ],
 "metadata": {
  "kernelspec": {
   "display_name": "venv",
   "language": "python",
   "name": "python3"
  },
  "language_info": {
   "codemirror_mode": {
    "name": "ipython",
    "version": 3
   },
   "file_extension": ".py",
   "mimetype": "text/x-python",
   "name": "python",
   "nbconvert_exporter": "python",
   "pygments_lexer": "ipython3",
   "version": "3.13.3"
  }
 },
 "nbformat": 4,
 "nbformat_minor": 5
}
