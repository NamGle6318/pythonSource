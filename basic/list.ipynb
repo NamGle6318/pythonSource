{
 "cells": [
  {
   "cell_type": "markdown",
   "id": "36f3aa05",
   "metadata": {},
   "source": [
    "# 리스트\n",
    "\n",
    "    * java/js 의 배열과 개념 동일\n",
    "    * js의 배열과 동작방식 동일함(데이터를 통일시키지 않아도 됨)"
   ]
  },
  {
   "cell_type": "code",
   "execution_count": 1,
   "id": "b147fb4f",
   "metadata": {},
   "outputs": [
    {
     "name": "stdout",
     "output_type": "stream",
     "text": [
      "['a', 10, True, <class 'object'>]\n",
      "[]\n",
      "[1, 2, ['Life', 'is', 'a', 'dream']]\n",
      "['3', '4']\n"
     ]
    }
   ],
   "source": [
    "list1 = [\"a\", 10, True, object] # 정말 다양한 타입들\n",
    "list2 = [] # 공백\n",
    "list3 = [1, 2, [\"Life\", \"is\", \"a\", \"dream\"]] # 2차원 리스트\n",
    "list4 = list('34') # list() 함수\n",
    "\n",
    "print(list1)\n",
    "print(list2)\n",
    "print(list3)\n",
    "print(list4)"
   ]
  },
  {
   "cell_type": "code",
   "execution_count": 2,
   "id": "2859698c",
   "metadata": {},
   "outputs": [
    {
     "name": "stdout",
     "output_type": "stream",
     "text": [
      "3\n",
      "True\n",
      "<class 'object'>\n",
      "['a', 10]\n"
     ]
    }
   ],
   "source": [
    "# list index 접근\n",
    "print(list4[0])\n",
    "print(list1[-2])\n",
    "print(list1[3])\n",
    "\n",
    "# list도 슬라이싱 가능\n",
    "print(list1[0:2])"
   ]
  },
  {
   "cell_type": "code",
   "execution_count": 3,
   "id": "1b8ca7dd",
   "metadata": {},
   "outputs": [
    {
     "name": "stdout",
     "output_type": "stream",
     "text": [
      "is\n",
      "[['Life', 'is']]\n"
     ]
    }
   ],
   "source": [
    "# 다차원 리스트 접근 방법\n",
    "list6 = [1,2,[\"a\",\"b\",[\"Life\",\"is\"]]]\n",
    "print(list6[-1][-1][-1]) # 다차원 리스트 접근 시 n차원 = [index] * n\n",
    "print(list6[2][2:])"
   ]
  },
  {
   "cell_type": "code",
   "execution_count": 4,
   "id": "b4968f34",
   "metadata": {},
   "outputs": [
    {
     "name": "stdout",
     "output_type": "stream",
     "text": [
      "['a', 10, True, <class 'object'>, 1, 2, ['Life', 'is', 'a', 'dream']]\n",
      "[1, 2, ['Life', 'is', 'a', 'dream'], 1, 2, ['Life', 'is', 'a', 'dream'], 1, 2, ['Life', 'is', 'a', 'dream']]\n"
     ]
    }
   ],
   "source": [
    "# + : 연결\n",
    "# * : 반복\n",
    "print(list1 + list3)\n",
    "print(list3 * 3)\n"
   ]
  },
  {
   "cell_type": "code",
   "execution_count": 5,
   "id": "d8687656",
   "metadata": {},
   "outputs": [
    {
     "data": {
      "text/plain": [
       "[1, 'd', ['Life', 'is', 'a', 'dream']]"
      ]
     },
     "execution_count": 5,
     "metadata": {},
     "output_type": "execute_result"
    }
   ],
   "source": [
    "# 인덱스 접근하여 값 변경\n",
    "list3[1] = 'd'\n",
    "list3"
   ]
  },
  {
   "cell_type": "code",
   "execution_count": 6,
   "id": "b227d24b",
   "metadata": {},
   "outputs": [
    {
     "name": "stdout",
     "output_type": "stream",
     "text": [
      "['변', '신', ['Life', 'is', 'a', 'dream']]\n",
      "['변', ['변', '신'], ['Life', 'is', 'a', 'dream']]\n"
     ]
    }
   ],
   "source": [
    "# 슬라이싱 접근하여 값 변경\n",
    "list3[:2] = ['변', '신']\n",
    "print(list3)\n",
    "\n",
    "list3[1] = ['변', '신']\n",
    "print(list3)"
   ]
  },
  {
   "cell_type": "code",
   "execution_count": 7,
   "id": "dd83203c",
   "metadata": {},
   "outputs": [
    {
     "name": "stdout",
     "output_type": "stream",
     "text": [
      "['변', ['Life', 'is', 'a', 'dream']]\n"
     ]
    },
    {
     "data": {
      "text/plain": [
       "2"
      ]
     },
     "execution_count": 7,
     "metadata": {},
     "output_type": "execute_result"
    }
   ],
   "source": [
    "# 리스트 요소 삭제\n",
    "\n",
    "\n",
    "del list3[1]\n",
    "print(list3)\n",
    "\n",
    "len(list3)"
   ]
  },
  {
   "cell_type": "code",
   "execution_count": 8,
   "id": "8417f902",
   "metadata": {},
   "outputs": [
    {
     "name": "stdout",
     "output_type": "stream",
     "text": [
      "a 10 True <class 'object'> "
     ]
    }
   ],
   "source": [
    "# for문 (사실상 forEach)\n",
    "for i in list1:\n",
    "    print(i, end=\" \")"
   ]
  },
  {
   "cell_type": "markdown",
   "id": "4353d033",
   "metadata": {},
   "source": [
    "# 리스트 함수\n",
    "\n"
   ]
  },
  {
   "cell_type": "code",
   "execution_count": 9,
   "id": "07f5ea55",
   "metadata": {},
   "outputs": [
    {
     "name": "stdout",
     "output_type": "stream",
     "text": [
      "['a', 'd', 'f', 'e', '5']\n",
      "['a', 'd', 'f', 'e', '5', [6, 7, 8]]\n"
     ]
    }
   ],
   "source": [
    "# append() : 리스트의 끝에 요소 추가\n",
    "# append로 추가할 요소는 무조건 1개여야함. 데이터 여러개 넣고 싶으면 리스트로 묶어야함\n",
    "list6 = ['a','d','f','e']\n",
    "list6.append(\"5\")\n",
    "print(list6)\n",
    "list6.append([6,7,8])\n",
    "print(list6)\n"
   ]
  },
  {
   "cell_type": "code",
   "execution_count": 10,
   "id": "94da0a7a",
   "metadata": {},
   "outputs": [
    {
     "name": "stdout",
     "output_type": "stream",
     "text": [
      "[2, 4, 6, 8, 10, 12, 14, 16, 18, 20, 22, 24, 26, 28, 30, 32, 34, 36, 38, 40, 42, 44, 46, 48, 50, 52, 54, 56, 58, 60, 62, 64, 66, 68, 70, 72, 74, 76, 78, 80, 82, 84, 86, 88, 90, 92, 94, 96, 98, 100]\n"
     ]
    }
   ],
   "source": [
    "# 1에서 100 사이의 숫자 중에서 짝수만 리스트로 생성\n",
    "even = []\n",
    "# range(시작, 끝, 증감) : range(1, 100) = 1부터 100까지\n",
    "# 종료는 포함하지 않음\n",
    "for i in range(2, 101, 2):\n",
    "    even.append(i)\n",
    "print(even, sep=\" \")\n",
    "del even"
   ]
  },
  {
   "cell_type": "code",
   "execution_count": 11,
   "id": "25397167",
   "metadata": {},
   "outputs": [
    {
     "data": {
      "text/plain": [
       "[1, 2, 3, 4]"
      ]
     },
     "execution_count": 11,
     "metadata": {},
     "output_type": "execute_result"
    }
   ],
   "source": [
    "# 리스트 정렬\n",
    "# sort() : 원본의 데이터를 (기본 오름차순)정렬시킨다. 원본을 변조시킨다.    \n",
    "# 정렬 시 int 와 str 와 list 동시에 정렬 불가능 하나로 통일\n",
    "\n",
    "list1 = [1,4,3,2]\n",
    "list1.sort()\n",
    "list1"
   ]
  },
  {
   "cell_type": "code",
   "execution_count": 12,
   "id": "ad87ac6b",
   "metadata": {},
   "outputs": [
    {
     "data": {
      "text/plain": [
       "['Z', 'b', 'c', 'j']"
      ]
     },
     "execution_count": 12,
     "metadata": {},
     "output_type": "execute_result"
    }
   ],
   "source": [
    "# 문자 정렬 (unicode 기준 대문자 -> 소문자)\n",
    "listnum = ['c','b','Z','j']\n",
    "listnum.sort()\n",
    "listnum"
   ]
  },
  {
   "cell_type": "code",
   "execution_count": 13,
   "id": "ee97353f",
   "metadata": {},
   "outputs": [
    {
     "name": "stdout",
     "output_type": "stream",
     "text": [
      "['j', 'c', 'b', 'Z']\n"
     ]
    }
   ],
   "source": [
    "# 내림차순 정렬\n",
    "listnum.sort(reverse=True)\n",
    "print(listnum)"
   ]
  },
  {
   "cell_type": "code",
   "execution_count": 14,
   "id": "a267d0b8",
   "metadata": {},
   "outputs": [
    {
     "name": "stdout",
     "output_type": "stream",
     "text": [
      "[1, 2, 3, 4, 5.5, 6.5]\n",
      "[6.5, 5.5, 4, 3, 2, 1]\n"
     ]
    }
   ],
   "source": [
    "# reverse() : 뒤집기\n",
    "listnum2 = [1,2,3,4,5.5,6.5]\n",
    "print(listnum2)\n",
    "listnum2.reverse()\n",
    "print(listnum2)"
   ]
  },
  {
   "cell_type": "code",
   "execution_count": null,
   "id": "4fdf2283",
   "metadata": {},
   "outputs": [
    {
     "data": {
      "text/plain": [
       "0"
      ]
     },
     "execution_count": 29,
     "metadata": {},
     "output_type": "execute_result"
    }
   ],
   "source": [
    "# index() = 해당 데이터와 일치하는 인덱스 값을 반환, 찾지 못할 경우 에러를 반환\n",
    "\n",
    "list3.index('변')\n"
   ]
  },
  {
   "cell_type": "code",
   "execution_count": null,
   "id": "cfff500b",
   "metadata": {},
   "outputs": [
    {
     "name": "stdout",
     "output_type": "stream",
     "text": [
      "['변', ['Life', 'is', 'a', 'dream'], 35]\n",
      "['신', '변', ['Life', 'is', 'a', 'dream'], 35]\n"
     ]
    }
   ],
   "source": [
    "# insert(index, value) : 해당 index에 value 삽입\n",
    "print(list3)\n",
    "list3.insert(0, \"신\")\n",
    "print(list3)\n"
   ]
  },
  {
   "cell_type": "code",
   "execution_count": null,
   "id": "25cec340",
   "metadata": {},
   "outputs": [
    {
     "data": {
      "text/plain": [
       "['변', ['Life', 'is', 'a', 'dream'], 35]"
      ]
     },
     "execution_count": 34,
     "metadata": {},
     "output_type": "execute_result"
    }
   ],
   "source": [
    "# remove(value) : 해당 list의 value를 삭제 \n",
    "# 존재하지 않을 시 에러 \n",
    "# 값이 여러개일 경우 첫번째만 삭제\n",
    "list3.remove('신')\n",
    "list3"
   ]
  },
  {
   "cell_type": "code",
   "execution_count": null,
   "id": "25ab8539",
   "metadata": {},
   "outputs": [
    {
     "name": "stdout",
     "output_type": "stream",
     "text": [
      "[2, 1]\n",
      "1\n",
      "[2]\n"
     ]
    }
   ],
   "source": [
    "# pop() : 리스트 맨 마지막 요소를 반환하고 그 요소는 삭제\n",
    "# index 값을 지정할 수 있긴 하다.\n",
    "print(list3)\n",
    "print(list3.pop())\n",
    "print(list3)"
   ]
  },
  {
   "cell_type": "code",
   "execution_count": null,
   "id": "83fa5b0b",
   "metadata": {},
   "outputs": [
    {
     "name": "stdout",
     "output_type": "stream",
     "text": [
      "6\n"
     ]
    }
   ],
   "source": [
    "# count(value) : list 안에 해당 value의 개수를 반환\n",
    "print(list3.count(3))\n",
    "list3.insert(0, 3)"
   ]
  },
  {
   "cell_type": "code",
   "execution_count": null,
   "id": "4fc3fc2b",
   "metadata": {},
   "outputs": [
    {
     "data": {
      "text/plain": [
       "[3,\n",
       " 3,\n",
       " 3,\n",
       " 3,\n",
       " 3,\n",
       " 3,\n",
       " 3,\n",
       " 2,\n",
       " 16,\n",
       " 17,\n",
       " 18,\n",
       " 16,\n",
       " 17,\n",
       " 18,\n",
       " 16,\n",
       " 17,\n",
       " 18,\n",
       " 16,\n",
       " 17,\n",
       " 18,\n",
       " 16,\n",
       " 17,\n",
       " 18,\n",
       " 16,\n",
       " 17,\n",
       " 18,\n",
       " 16,\n",
       " 17,\n",
       " 18,\n",
       " 16,\n",
       " 17,\n",
       " 18]"
      ]
     },
     "execution_count": 58,
     "metadata": {},
     "output_type": "execute_result"
    }
   ],
   "source": [
    "# extend(values) : 여러개의 값을 한번에 추가 할 수 있다.\n",
    "# 추가 된 값은 묶인 상태로 추가되는 것이 아닌 낱개로 추가된다. [1, 2, 3] => 1, 2, 3 \n",
    "list3.extend([16,17,18])\n",
    "list3"
   ]
  },
  {
   "cell_type": "code",
   "execution_count": null,
   "id": "f02ac94f",
   "metadata": {},
   "outputs": [
    {
     "name": "stdout",
     "output_type": "stream",
     "text": [
      "False\n"
     ]
    },
    {
     "data": {
      "text/plain": [
       "[]"
      ]
     },
     "execution_count": 61,
     "metadata": {},
     "output_type": "execute_result"
    }
   ],
   "source": [
    "# list를 조건으로 사용 시 : 요소가 존재함 => True, 존재하지 않음 => False\n",
    "if list2:\n",
    "    print(True)\n",
    "else:\n",
    "    print(False)\n",
    "\n",
    "list2"
   ]
  },
  {
   "cell_type": "code",
   "execution_count": 62,
   "id": "41296678",
   "metadata": {},
   "outputs": [
    {
     "name": "stdout",
     "output_type": "stream",
     "text": [
      "[2, 4, 6, 8]\n"
     ]
    }
   ],
   "source": [
    "# list1의 각 요소에 *2 를 한 후 새로운 리스트로 반환\n",
    "\n",
    "list1 = [1,2,3,4]\n",
    "list2 = []\n",
    "for i in list1:\n",
    "    list2.append(i * 2)\n",
    "\n",
    "print(list2)"
   ]
  },
  {
   "cell_type": "code",
   "execution_count": 63,
   "id": "73445a57",
   "metadata": {},
   "outputs": [
    {
     "data": {
      "text/plain": [
       "[2, 4, 6, 8]"
      ]
     },
     "execution_count": 63,
     "metadata": {},
     "output_type": "execute_result"
    }
   ],
   "source": [
    "list3 = [x * 2 for x in list1 ] \n",
    "list3\n",
    "\n"
   ]
  },
  {
   "cell_type": "code",
   "execution_count": 65,
   "id": "d46adce5",
   "metadata": {},
   "outputs": [
    {
     "name": "stdout",
     "output_type": "stream",
     "text": [
      "[0, 1, 4, 9, 16]\n"
     ]
    }
   ],
   "source": [
    "print([x * x for x in range(5)])\n",
    "\n",
    "\n"
   ]
  },
  {
   "cell_type": "code",
   "execution_count": 13,
   "id": "c0779705",
   "metadata": {},
   "outputs": [
    {
     "name": "stdout",
     "output_type": "stream",
     "text": [
      "주차장 상태 ['A']\n",
      "주차장 상태 []\n"
     ]
    }
   ],
   "source": [
    "# 주차장 프로그램 작성\n",
    "\n",
    "# 메뉴 선택 => 1\n",
    "# A 자동차 들어감. 주차장 상태 ==> ['A']\n",
    "# B 자동차 들어감. 주차장 상태 ==> ['A', 'B']\n",
    "\n",
    "# 메뉴 선택 => 2\n",
    "# B 자동차 나감. 주차장 상태 ==> ['A']\n",
    "\n",
    "parking_lot = []\n",
    "top, car_name = 0, \"A\"\n",
    "\n",
    "\n",
    "while True:\n",
    "    no = int(input(\"[1] 자동차 넣기 | [2] 빼기 | [3] 종료\"))\n",
    "\n",
    "    if no > 3:\n",
    "        print(\"메뉴를 확인해 주세요\")\n",
    "        continue\n",
    "\n",
    "    if no == 1:\n",
    "        # 주차장에 차가 5대 이상일 경우 추가 제한\n",
    "        if top >= 5:\n",
    "            print(\"주차장 꽉 찼음\")\n",
    "            continue\n",
    "\n",
    "        parking_lot.append(car_name)\n",
    "\n",
    "        # 상태 수정\n",
    "        car_name = chr(ord(car_name) + 1)\n",
    "        top += 1\n",
    "\n",
    "    elif no == 2:\n",
    "\n",
    "        # 주차장에 차가 없을 경우 삭제 제한\n",
    "        if top == 0:\n",
    "            print(\"자동차가 없어요\")\n",
    "            continue\n",
    "\n",
    "        parking_lot.pop()\n",
    "\n",
    "        # 상태 수정\n",
    "        car_name = chr(ord(car_name) - 1)\n",
    "        top -= 1\n",
    "\n",
    "    if no == 3:\n",
    "        break\n",
    "\n",
    "    # 주차장 상태 출력\n",
    "    print(f\"주차장 상태 {parking_lot}\")"
   ]
  },
  {
   "cell_type": "code",
   "execution_count": null,
   "id": "fb09f43b",
   "metadata": {},
   "outputs": [
    {
     "name": "stdout",
     "output_type": "stream",
     "text": [
      "C\n"
     ]
    }
   ],
   "source": [
    "# ord() :  문자를 유니코드 값으로 반환\n",
    "ord(\"A\")\n",
    "alpa = chr(ord(\"A\") + 2)\n",
    "print(alpa)"
   ]
  },
  {
   "cell_type": "markdown",
   "id": "a8dab97e",
   "metadata": {},
   "source": [
    "# List Comprehension\n"
   ]
  },
  {
   "cell_type": "code",
   "execution_count": 16,
   "id": "01622791",
   "metadata": {},
   "outputs": [
    {
     "name": "stdout",
     "output_type": "stream",
     "text": [
      "['갑', '을', '병']\n"
     ]
    }
   ],
   "source": [
    "list1 = [\"갑\", \"을\", \"병\", \"정\"]\n",
    "# 정 글자만 제외하고 새로운 리스트로 생성하기\n",
    "\n",
    "list2 = []\n",
    "for s in list1:\n",
    "    if s != \"정\":\n",
    "        list2.append(s)\n",
    "\n",
    "\n",
    "print(list2)"
   ]
  },
  {
   "cell_type": "code",
   "execution_count": 17,
   "id": "8bb3deb3",
   "metadata": {},
   "outputs": [
    {
     "data": {
      "text/plain": [
       "['갑', '을', '병']"
      ]
     },
     "execution_count": 17,
     "metadata": {},
     "output_type": "execute_result"
    }
   ],
   "source": [
    "list2 = [s for s in list1 if s != \"정\"]\n",
    "list2"
   ]
  },
  {
   "cell_type": "code",
   "execution_count": null,
   "id": "e3e11cba",
   "metadata": {},
   "outputs": [
    {
     "data": {
      "text/plain": [
       "[1,\n",
       " 3,\n",
       " 5,\n",
       " 7,\n",
       " 9,\n",
       " 11,\n",
       " 13,\n",
       " 15,\n",
       " 17,\n",
       " 19,\n",
       " 21,\n",
       " 23,\n",
       " 25,\n",
       " 27,\n",
       " 29,\n",
       " 31,\n",
       " 33,\n",
       " 35,\n",
       " 37,\n",
       " 39,\n",
       " 41,\n",
       " 43,\n",
       " 45,\n",
       " 47,\n",
       " 49,\n",
       " 51,\n",
       " 53,\n",
       " 55,\n",
       " 57,\n",
       " 59,\n",
       " 61,\n",
       " 63,\n",
       " 65,\n",
       " 67,\n",
       " 69,\n",
       " 71,\n",
       " 73,\n",
       " 75,\n",
       " 77,\n",
       " 79,\n",
       " 81,\n",
       " 83,\n",
       " 85,\n",
       " 87,\n",
       " 89,\n",
       " 91,\n",
       " 93,\n",
       " 95,\n",
       " 97,\n",
       " 99]"
      ]
     },
     "execution_count": 18,
     "metadata": {},
     "output_type": "execute_result"
    }
   ],
   "source": [
    "# 1 ~ 100 숫자 중에서 홀수만 리스트로 생성\n",
    "\n",
    "# list2 = list(range(1, 101, 2)) 도 가능\n",
    "list1 = [num for num in range(1, 101, 2)]\n",
    "list1"
   ]
  }
 ],
 "metadata": {
  "kernelspec": {
   "display_name": "venv",
   "language": "python",
   "name": "python3"
  },
  "language_info": {
   "codemirror_mode": {
    "name": "ipython",
    "version": 3
   },
   "file_extension": ".py",
   "mimetype": "text/x-python",
   "name": "python",
   "nbconvert_exporter": "python",
   "pygments_lexer": "ipython3",
   "version": "3.13.3"
  }
 },
 "nbformat": 4,
 "nbformat_minor": 5
}
