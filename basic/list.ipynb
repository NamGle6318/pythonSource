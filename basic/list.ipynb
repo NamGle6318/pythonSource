{
 "cells": [
  {
   "cell_type": "markdown",
   "id": "36f3aa05",
   "metadata": {},
   "source": [
    "# 리스트\n",
    "\n",
    "    * java/js 의 배열과 개념 동일\n",
    "    * js의 배열과 동작방식 동일함(데이터를 통일시키지 않아도 됨)"
   ]
  },
  {
   "cell_type": "code",
   "execution_count": 53,
   "id": "b147fb4f",
   "metadata": {},
   "outputs": [
    {
     "name": "stdout",
     "output_type": "stream",
     "text": [
      "['a', 10, True, <class 'object'>]\n",
      "[]\n",
      "[1, 2, ['Life', 'is', 'a', 'dream']]\n",
      "['3', '4']\n"
     ]
    }
   ],
   "source": [
    "list1 = [\"a\", 10, True, object] # 정말 다양한 타입들\n",
    "list2 = [] # 공백\n",
    "list3 = [1, 2, [\"Life\", \"is\", \"a\", \"dream\"]] # 2차원 리스트\n",
    "list4 = list('34') # list() 함수\n",
    "\n",
    "print(list1)\n",
    "print(list2)\n",
    "print(list3)\n",
    "print(list4)"
   ]
  },
  {
   "cell_type": "code",
   "execution_count": null,
   "id": "2859698c",
   "metadata": {},
   "outputs": [
    {
     "name": "stdout",
     "output_type": "stream",
     "text": [
      "3\n",
      "True\n",
      "<class 'object'>\n",
      "['a', 10]\n"
     ]
    }
   ],
   "source": [
    "# list index 접근\n",
    "print(list4[0])\n",
    "print(list1[-2])\n",
    "print(list1[3])\n",
    "\n",
    "# list도 슬라이싱 가능\n",
    "print(list1[0:2])"
   ]
  },
  {
   "cell_type": "code",
   "execution_count": 25,
   "id": "1b8ca7dd",
   "metadata": {},
   "outputs": [
    {
     "name": "stdout",
     "output_type": "stream",
     "text": [
      "is\n",
      "[['Life', 'is']]\n"
     ]
    }
   ],
   "source": [
    "# 다차원 리스트 접근 방법\n",
    "list6 = [1,2,[\"a\",\"b\",[\"Life\",\"is\"]]]\n",
    "print(list6[-1][-1][-1]) # 다차원 리스트 접근 시 n차원 = [index] * n\n",
    "print(list6[2][2:])"
   ]
  },
  {
   "cell_type": "code",
   "execution_count": 29,
   "id": "b4968f34",
   "metadata": {},
   "outputs": [
    {
     "name": "stdout",
     "output_type": "stream",
     "text": [
      "['a', 10, True, <class 'object'>, 1, 2, ['Life', 'is', 'a', 'dream']]\n",
      "[1, 2, ['Life', 'is', 'a', 'dream'], 1, 2, ['Life', 'is', 'a', 'dream'], 1, 2, ['Life', 'is', 'a', 'dream']]\n"
     ]
    }
   ],
   "source": [
    "# + : 연결\n",
    "# * : 반복\n",
    "print(list1 + list3)\n",
    "print(list3 * 3)\n"
   ]
  },
  {
   "cell_type": "code",
   "execution_count": null,
   "id": "d8687656",
   "metadata": {},
   "outputs": [
    {
     "data": {
      "text/plain": [
       "[1, 'd', ['Life', 'is', 'a', 'dream']]"
      ]
     },
     "execution_count": 36,
     "metadata": {},
     "output_type": "execute_result"
    }
   ],
   "source": [
    "# 인덱스 접근하여 값 변경\n",
    "list3[1] = 'd'\n",
    "list3"
   ]
  },
  {
   "cell_type": "code",
   "execution_count": 50,
   "id": "b227d24b",
   "metadata": {},
   "outputs": [
    {
     "name": "stdout",
     "output_type": "stream",
     "text": [
      "['변', '신', ['Life', 'is', 'a', 'dream']]\n",
      "['변', ['변', '신'], ['Life', 'is', 'a', 'dream']]\n"
     ]
    }
   ],
   "source": [
    "# 슬라이싱 접근하여 값 변경\n",
    "list3[:2] = ['변', '신']\n",
    "print(list3)\n",
    "\n",
    "list3[1] = ['변', '신']\n",
    "print(list3)"
   ]
  },
  {
   "cell_type": "code",
   "execution_count": 54,
   "id": "dd83203c",
   "metadata": {},
   "outputs": [
    {
     "name": "stdout",
     "output_type": "stream",
     "text": [
      "[1, ['Life', 'is', 'a', 'dream']]\n"
     ]
    },
    {
     "data": {
      "text/plain": [
       "2"
      ]
     },
     "execution_count": 54,
     "metadata": {},
     "output_type": "execute_result"
    }
   ],
   "source": [
    "# 리스트 요소 삭제\n",
    "\n",
    "\n",
    "del list3[1]\n",
    "print(list3)\n",
    "\n",
    "len(list3)"
   ]
  },
  {
   "cell_type": "code",
   "execution_count": 57,
   "id": "8417f902",
   "metadata": {},
   "outputs": [
    {
     "name": "stdout",
     "output_type": "stream",
     "text": [
      "a 10 True <class 'object'> "
     ]
    }
   ],
   "source": [
    "# for문 (사실상 forEach)\n",
    "for i in list1:\n",
    "    print(i, end=\" \")"
   ]
  },
  {
   "cell_type": "markdown",
   "id": "4353d033",
   "metadata": {},
   "source": [
    "# 리스트 함수\n",
    "\n"
   ]
  },
  {
   "cell_type": "code",
   "execution_count": null,
   "id": "07f5ea55",
   "metadata": {},
   "outputs": [
    {
     "name": "stdout",
     "output_type": "stream",
     "text": [
      "['a', 'd', 'f', 'e', '5']\n",
      "['a', 'd', 'f', 'e', '5', [6, 7, 8]]\n"
     ]
    }
   ],
   "source": [
    "# append() : 리스트의 끝에 요소 추가\n",
    "# append로 추가할 요소는 무조건 1개여야함. 데이터 여러개 넣고 싶으면 리스트로 묶어야함\n",
    "list6 = ['a','d','f','e']\n",
    "list6.append(\"5\")\n",
    "print(list6)\n",
    "list6.append([6,7,8])\n",
    "print(list6)\n"
   ]
  },
  {
   "cell_type": "code",
   "execution_count": 94,
   "id": "94da0a7a",
   "metadata": {},
   "outputs": [
    {
     "name": "stdout",
     "output_type": "stream",
     "text": [
      "[2, 4, 6, 8, 10, 12, 14, 16, 18, 20, 22, 24, 26, 28, 30, 32, 34, 36, 38, 40, 42, 44, 46, 48, 50, 52, 54, 56, 58, 60, 62, 64, 66, 68, 70, 72, 74, 76, 78, 80, 82, 84, 86, 88, 90, 92, 94, 96, 98, 100]\n"
     ]
    }
   ],
   "source": [
    "# 1에서 100 사이의 숫자 중에서 짝수만 리스트로 생성\n",
    "even = []\n",
    "# range(시작, 끝, 증감) : range(1, 100) = 1부터 100까지\n",
    "# 종료는 포함하지 않음\n",
    "for i in range(2, 101, 2):\n",
    "    even.append(i)\n",
    "print(even, sep=\" \")\n",
    "del even"
   ]
  },
  {
   "cell_type": "code",
   "execution_count": null,
   "id": "25397167",
   "metadata": {},
   "outputs": [
    {
     "data": {
      "text/plain": [
       "[1, 2, 3, 4]"
      ]
     },
     "execution_count": 109,
     "metadata": {},
     "output_type": "execute_result"
    }
   ],
   "source": [
    "# 리스트 정렬\n",
    "# sort() : 원본의 데이터를 (기본 오름차순)정렬시킨다. 원본을 변조시킨다.    \n",
    "# 정렬 시 int 와 str 와 list 동시에 정렬 불가능 하나로 통일\n",
    "\n",
    "list1 = [1,4,3,2]\n",
    "list1.sort()\n",
    "list1"
   ]
  },
  {
   "cell_type": "code",
   "execution_count": null,
   "id": "ad87ac6b",
   "metadata": {},
   "outputs": [
    {
     "data": {
      "text/plain": [
       "['Z', 'b', 'c', 'j']"
      ]
     },
     "execution_count": 108,
     "metadata": {},
     "output_type": "execute_result"
    }
   ],
   "source": [
    "# 문자 정렬 (unicode 기준 대문자 -> 소문자)\n",
    "listnum = ['c','b','Z','j']\n",
    "listnum.sort()\n",
    "listnum"
   ]
  },
  {
   "cell_type": "code",
   "execution_count": null,
   "id": "ee97353f",
   "metadata": {},
   "outputs": [
    {
     "name": "stdout",
     "output_type": "stream",
     "text": [
      "['j', 'c', 'b', 'Z']\n"
     ]
    }
   ],
   "source": [
    "# 내림차순 정렬\n",
    "listnum.sort(reverse=True)\n",
    "print(listnum)"
   ]
  },
  {
   "cell_type": "code",
   "execution_count": null,
   "id": "a267d0b8",
   "metadata": {},
   "outputs": [
    {
     "name": "stdout",
     "output_type": "stream",
     "text": [
      "[1, 2, 3, 4, 5.5, 6.5]\n",
      "[6.5, 5.5, 4, 3, 2, 1]\n"
     ]
    }
   ],
   "source": [
    "# reverse() : 뒤집기\n",
    "listnum2 = [1,2,3,4,5.5,6.5]\n",
    "print(listnum2)\n",
    "listnum2.reverse()\n",
    "print(listnum2)"
   ]
  }
 ],
 "metadata": {
  "kernelspec": {
   "display_name": "venv",
   "language": "python",
   "name": "python3"
  },
  "language_info": {
   "codemirror_mode": {
    "name": "ipython",
    "version": 3
   },
   "file_extension": ".py",
   "mimetype": "text/x-python",
   "name": "python",
   "nbconvert_exporter": "python",
   "pygments_lexer": "ipython3",
   "version": "3.13.3"
  }
 },
 "nbformat": 4,
 "nbformat_minor": 5
}
