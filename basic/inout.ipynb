{
 "cells": [
  {
   "cell_type": "markdown",
   "id": "c421049a",
   "metadata": {},
   "source": [
    "## 파일입출력"
   ]
  },
  {
   "cell_type": "code",
   "execution_count": null,
   "id": "97bc7299",
   "metadata": {},
   "outputs": [],
   "source": [
    "# 키보드 입력 : input() / 화면출력 : print()\n",
    "\n",
    "# open(\"경로\",\"모드\")\n",
    "# w : 새로 작성\n",
    "# a : 추가(append) 쓰기\n",
    "\n",
    "f = open(\"data/test1.txt\", \"w\")\n",
    "f.write(\"Hello Python\")\n",
    "f.close()\n",
    "\n",
    "# with = close()를 명시하지 않아도 됨 = 내부적으로 알아서 처리해줌\n",
    "with open(\"data/test1.txt\", \"w\") as f:\n",
    "    f.write(\"Hello Python\")"
   ]
  },
  {
   "cell_type": "code",
   "execution_count": 9,
   "id": "8fd0ddad",
   "metadata": {},
   "outputs": [],
   "source": [
    "f = open(\"data/test1.txt\", \"w\", encoding=\"utf-8\")\n",
    "f.write(\"안녕하세요\")\n",
    "f.write(\"반갑습니다\")\n",
    "f.close()"
   ]
  },
  {
   "cell_type": "code",
   "execution_count": 10,
   "id": "838ec2e0",
   "metadata": {},
   "outputs": [],
   "source": [
    "f = open(\"data/test1.txt\", \"a\", encoding=\"utf-8\")\n",
    "f.write(\"안녕하세요\")\n",
    "f.write(\"반갑습니다\")\n",
    "f.close()"
   ]
  },
  {
   "cell_type": "code",
   "execution_count": 11,
   "id": "f1d1238a",
   "metadata": {},
   "outputs": [],
   "source": [
    "f = open(\"data/test1.txt\", \"w\", encoding=\"utf-8\")\n",
    "for i in range(1,11):\n",
    "    data = \"%d 번째 줄입니다\\n\" % i\n",
    "    f.write(data)\n",
    "f.close()"
   ]
  },
  {
   "cell_type": "code",
   "execution_count": 14,
   "id": "74a5cb2f",
   "metadata": {},
   "outputs": [],
   "source": [
    "list1 = [\"Kim\",\"Park\",\"Hong\",\"Choi\"]\n",
    "\n",
    "f = open(\"data/test2.txt\", \"w\", encoding=\"utf-8\")\n",
    "for i in list1:\n",
    "    f.write(i + \"\\n\")\n",
    "f.close()"
   ]
  },
  {
   "cell_type": "code",
   "execution_count": 15,
   "id": "cf6e62e4",
   "metadata": {},
   "outputs": [],
   "source": [
    "f = open(\"data/test2.txt\", \"w\", encoding=\"utf-8\")\n",
    "f.writelines(list1)\n",
    "f.close()"
   ]
  },
  {
   "cell_type": "code",
   "execution_count": 16,
   "id": "6db124e1",
   "metadata": {},
   "outputs": [],
   "source": [
    "dict1 = {\"name\":\"hong\", \"age\":25, \"addr\":\"서울\"}\n",
    "\n",
    "f = open(\"data/test2.txt\", \"w\", encoding=\"utf-8\")\n",
    "f.writelines(dict1) # 키 값만 작성\n",
    "f.close()"
   ]
  },
  {
   "cell_type": "code",
   "execution_count": 17,
   "id": "59abdcab",
   "metadata": {},
   "outputs": [],
   "source": [
    "f = open(\"data/test2.txt\", \"w\", encoding=\"utf-8\")\n",
    "\n",
    "for k,v in dict1.items():\n",
    "    f.write(\"{} : {}\\n\".format(k,v))\n",
    "\n",
    "f.close()"
   ]
  },
  {
   "cell_type": "code",
   "execution_count": 18,
   "id": "9d292cc6",
   "metadata": {},
   "outputs": [],
   "source": [
    "import random\n",
    "\n",
    "hanguls = list(\"가나다라마바사아자차카타파하\")\n",
    "f = open(\"data/info.txt\",\"w\", encoding=\"utf-8\")\n",
    "for i in range(500):\n",
    "    name = random.choice(hanguls) + random.choice(hanguls)\n",
    "    weight = random.randrange(40,100)\n",
    "    height = random.randrange(140,200)\n",
    "    f.write(\"{}, {}, {}\\n\".format(name,weight,height))\n",
    "f.close()"
   ]
  },
  {
   "cell_type": "code",
   "execution_count": 19,
   "id": "afe16870",
   "metadata": {},
   "outputs": [
    {
     "name": "stdout",
     "output_type": "stream",
     "text": [
      "1 번째 줄입니다\n",
      "2 번째 줄입니다\n",
      "3 번째 줄입니다\n",
      "4 번째 줄입니다\n",
      "5 번째 줄입니다\n",
      "6 번째 줄입니다\n",
      "7 번째 줄입니다\n",
      "8 번째 줄입니다\n",
      "9 번째 줄입니다\n",
      "10 번째 줄입니다\n",
      "\n"
     ]
    }
   ],
   "source": [
    "f = open(\"data/test1.txt\",\"r\", encoding=\"utf-8\")\n",
    "content = f.read()\n",
    "print(content)\n",
    "f.close()"
   ]
  },
  {
   "cell_type": "code",
   "execution_count": 20,
   "id": "90b33e66",
   "metadata": {},
   "outputs": [
    {
     "name": "stdout",
     "output_type": "stream",
     "text": [
      "['1 번째 줄입니다\\n', '2 번째 줄입니다\\n', '3 번째 줄입니다\\n', '4 번째 줄입니다\\n', '5 번째 줄입니다\\n', '6 번째 줄입니다\\n', '7 번째 줄입니다\\n', '8 번째 줄입니다\\n', '9 번째 줄입니다\\n', '10 번째 줄입니다\\n']\n"
     ]
    }
   ],
   "source": [
    "f = open(\"data/test1.txt\",\"r\", encoding=\"utf-8\")\n",
    "content = f.readlines() # 리스트로 가져옴\n",
    "print(content)\n",
    "f.close()"
   ]
  },
  {
   "cell_type": "code",
   "execution_count": 34,
   "id": "7dbd28ba",
   "metadata": {},
   "outputs": [
    {
     "name": "stdout",
     "output_type": "stream",
     "text": [
      "1 번째 줄입니다\n",
      "\n"
     ]
    }
   ],
   "source": [
    "f = open(\"data/test1.txt\",\"r\", encoding=\"utf-8\")\n",
    "content = f.readline() # 줄 단위로 읽어오기\n",
    "print(content)\n",
    "f.close()"
   ]
  },
  {
   "cell_type": "code",
   "execution_count": 35,
   "id": "80fc3238",
   "metadata": {},
   "outputs": [
    {
     "name": "stdout",
     "output_type": "stream",
     "text": [
      "1 번째 줄입니다\n",
      "\n",
      "2 번째 줄입니다\n",
      "\n",
      "3 번째 줄입니다\n",
      "\n",
      "4 번째 줄입니다\n",
      "\n"
     ]
    }
   ],
   "source": [
    "f = open(\"data/test1.txt\",\"r\", encoding=\"utf-8\")\n",
    "\n",
    "print(f.readline())\n",
    "print(f.readline())\n",
    "print(f.readline())\n",
    "print(f.readline())\n",
    "f.close()"
   ]
  },
  {
   "cell_type": "code",
   "execution_count": null,
   "id": "8f3248b1",
   "metadata": {},
   "outputs": [
    {
     "name": "stdout",
     "output_type": "stream",
     "text": [
      "88\n",
      "\n",
      "77\n",
      "\n",
      "64\n",
      "\n",
      "15\n",
      "\n",
      "37\n",
      "\n",
      "100\n",
      "\n",
      "\n"
     ]
    }
   ],
   "source": [
    "# score 읽어와서 평균,총점 출력\n",
    "\n",
    "scores = []\n",
    "\n",
    "f = open(\"data/score.txt\",\"r\", encoding=\"utf-8\")\n",
    "line = f.readline() # 줄 단위로 읽어오기\n",
    "while line:    \n",
    "    scores.append(int(line))\n",
    "    line = f.readline()\n",
    "f.close()\n",
    "\n"
   ]
  },
  {
   "cell_type": "code",
   "execution_count": 46,
   "id": "33ee8f14",
   "metadata": {},
   "outputs": [
    {
     "name": "stdout",
     "output_type": "stream",
     "text": [
      "[95, 88, 77, 64, 15, 37, 100]\n",
      "합계 :  476\n",
      "평균 : 68.00\n",
      "평균 :   68.0\n"
     ]
    }
   ],
   "source": [
    "print(scores)\n",
    "print(\"합계 : \",sum(scores))\n",
    "print(\"평균 : %.2f\" % (sum(scores)/len(scores)))\n",
    "print(\"평균 : {:6.3}\".format(sum(scores)/len(scores)))"
   ]
  },
  {
   "cell_type": "code",
   "execution_count": 47,
   "id": "83826cee",
   "metadata": {},
   "outputs": [
    {
     "name": "stdout",
     "output_type": "stream",
     "text": [
      "95\n",
      "88\n",
      "77\n",
      "64\n",
      "15\n",
      "37\n",
      "100\n"
     ]
    }
   ],
   "source": [
    "f = open(\"data/score.txt\",\"r\", encoding=\"utf-8\")\n",
    "for num in f:\n",
    "    print(num.strip())\n"
   ]
  },
  {
   "cell_type": "code",
   "execution_count": 17,
   "id": "a49e3bfa",
   "metadata": {},
   "outputs": [
    {
     "name": "stdout",
     "output_type": "stream",
     "text": [
      "['1', '김정수', '2017-01-19 11:30:00', '25']\n",
      "['2', '박민구', '2017-02-07 10:22:00', '35']\n",
      "['3', '정순미', '2017-01-22 09:10:00', '33']\n",
      "['4', '김정현', '2017-02-22 14:09:00', '45']\n",
      "['5', '홍미진', '2017-04-01 18:00:00', '17']\n",
      "['6', '김순철', '2017-05-14 22:33:07', '22']\n",
      "['7', '이동철', '2017-03-01 23:44:45', '27']\n",
      "['8', '박지숙', '2017-01-11 06:04:18', '30']\n",
      "['9', '김은미', '2017-02-08 07:44:33', '51']\n",
      "['10', '장혁철', '2017-12-01 13:01:11', '16']\n"
     ]
    }
   ],
   "source": [
    "import csv\n",
    "\n",
    "with open(\"./data/python/sample1.csv\", \"r\") as f:\n",
    "    reader = csv.reader(f, delimiter=\",\")\n",
    "    # 제목 행 제외\n",
    "    next(reader)\n",
    "\n",
    "    for c in reader:\n",
    "        print(c)"
   ]
  },
  {
   "cell_type": "code",
   "execution_count": 26,
   "id": "f795a2be",
   "metadata": {},
   "outputs": [
    {
     "name": "stdout",
     "output_type": "stream",
     "text": [
      "--------------------\n",
      "번호 1\n",
      "이름 김정수\n",
      "가입일시 2017-01-19 11:30:00\n",
      "나이 25\n",
      "--------------------\n",
      "번호 2\n",
      "이름 박민구\n",
      "가입일시 2017-02-07 10:22:00\n",
      "나이 35\n",
      "--------------------\n",
      "번호 3\n",
      "이름 정순미\n",
      "가입일시 2017-01-22 09:10:00\n",
      "나이 33\n",
      "--------------------\n",
      "번호 4\n",
      "이름 김정현\n",
      "가입일시 2017-02-22 14:09:00\n",
      "나이 45\n",
      "--------------------\n",
      "번호 5\n",
      "이름 홍미진\n",
      "가입일시 2017-04-01 18:00:00\n",
      "나이 17\n",
      "--------------------\n",
      "번호 6\n",
      "이름 김순철\n",
      "가입일시 2017-05-14 22:33:07\n",
      "나이 22\n",
      "--------------------\n",
      "번호 7\n",
      "이름 이동철\n",
      "가입일시 2017-03-01 23:44:45\n",
      "나이 27\n",
      "--------------------\n",
      "번호 8\n",
      "이름 박지숙\n",
      "가입일시 2017-01-11 06:04:18\n",
      "나이 30\n",
      "--------------------\n",
      "번호 9\n",
      "이름 김은미\n",
      "가입일시 2017-02-08 07:44:33\n",
      "나이 51\n",
      "--------------------\n",
      "번호 10\n",
      "이름 장혁철\n",
      "가입일시 2017-12-01 13:01:11\n",
      "나이 16\n"
     ]
    }
   ],
   "source": [
    "import csv\n",
    "\n",
    "with open(\"./data/python/sample1.csv\", \"r\") as f:\n",
    "    reader = csv.DictReader(f, delimiter=\",\") # delimiter = 구분자 \n",
    "    \n",
    "\n",
    "    for c in reader:\n",
    "        print(\"-\" * 20)\n",
    "        for k, v in c.items(): # items : dictionary의 key value를 다 가져옴\n",
    "            print(k,v)"
   ]
  },
  {
   "cell_type": "code",
   "execution_count": 43,
   "id": "c26be589",
   "metadata": {},
   "outputs": [
    {
     "name": "stdout",
     "output_type": "stream",
     "text": [
      "['1', '김정수', '2017-01-18 11:30:00', '25']\n",
      "['2', '박민구', '2017-02-07 10:22:00', '35']\n",
      "['3', '정순미', '2017-01-22 09:10:00', '33']\n",
      "['4', '김정현', '2017-02-22 14:30:00', '45']\n",
      "['5', '홍미진', '2017-01-18 11:30:00', '24']\n",
      "['6', '이동철', '2017-03-01 23:30:00', '27']\n",
      "['7', '김은미', '2017-04-01 23:30:00', '25']\n"
     ]
    }
   ],
   "source": [
    "import csv\n",
    "\n",
    "with open(\"./data/python/sample3.csv\", \"r\") as f:\n",
    "    reader = csv.reader(f, delimiter=\"|\")\n",
    "    \n",
    "        # 제목 행 제외\n",
    "    # next(reader)\n",
    "\n",
    "    for c in reader:\n",
    "        print(c)"
   ]
  },
  {
   "cell_type": "code",
   "execution_count": 42,
   "id": "9001595c",
   "metadata": {},
   "outputs": [],
   "source": [
    "list1 = [\n",
    "    [1, 2, 3],\n",
    "    [4, 5, 6],\n",
    "    [7, 8, 9],\n",
    "    [10, 11, 12],\n",
    "    [13, 14, 15]\n",
    "]\n",
    "\n",
    "with open(\"./data/python/sample2.csv\", \"w\", newline=\"\") as f: # newline=\"\" 을 사용하여 줄바꿈 시 엔터를 방지\n",
    "    write = csv.writer(f)\n",
    "    # for item in list1:\n",
    "        # write.writerow(item)\n",
    "    write.writerows(list1) # sample2.csv 파일에 list1의 내용을 전부 주입"
   ]
  },
  {
   "cell_type": "code",
   "execution_count": 54,
   "id": "b5c86c10",
   "metadata": {},
   "outputs": [
    {
     "name": "stdout",
     "output_type": "stream",
     "text": [
      "<class 'str'>\n",
      "<class 'dict'>\n",
      "hong\n",
      "python\n",
      "Guido van rossum\n"
     ]
    }
   ],
   "source": [
    "import json\n",
    "\n",
    "# 파이썬에서 json 타입으로 변환시 \n",
    "# dict <=> json\n",
    "\n",
    "# js에서 객체 타입으로 변환 시\n",
    "# json <=> 객체\n",
    "\n",
    "data = '{\"id\": \"hong\", \"language\": \"python\", \"edition\":\"Guido van rossum\"}'\n",
    "\n",
    "print(type(data)) # str\n",
    "\n",
    "jsondata = json.loads(data) # str => dict\n",
    "print(type(jsondata)) # dict\n",
    "\n",
    "print(jsondata['id'])\n",
    "print(jsondata['language'])\n",
    "print(jsondata['edition'])"
   ]
  },
  {
   "cell_type": "code",
   "execution_count": 58,
   "id": "0ff10ed2",
   "metadata": {},
   "outputs": [
    {
     "name": "stdout",
     "output_type": "stream",
     "text": [
      "<class 'dict'>\n",
      "<class 'str'>\n"
     ]
    }
   ],
   "source": [
    "data2 = {\"id\": \"hong\", \"language\": \"python\", \"edition\":\"Guido van rossum\"}\n",
    "\n",
    "print(type(data2))\n",
    "\n",
    "jsondata = json.dumps(data2) # dict => str\n",
    "\n",
    "print(type(jsondata)) # str"
   ]
  },
  {
   "cell_type": "code",
   "execution_count": null,
   "id": "78fa419d",
   "metadata": {},
   "outputs": [],
   "source": [
    "with open(\"./data/python/test.json\", \"w\") as f:\n",
    "    # json.dump(dict, file, params) : dict => json\n",
    "    json.dump(data2, f, indent=2) # indent = 들여쓰기\n",
    "\n",
    "    "
   ]
  },
  {
   "cell_type": "code",
   "execution_count": 63,
   "id": "1c98cd87",
   "metadata": {},
   "outputs": [
    {
     "name": "stdout",
     "output_type": "stream",
     "text": [
      "{'id': 'hong', 'language': 'python', 'edition': 'Guido van rossum'}\n"
     ]
    }
   ],
   "source": [
    "with open(\"./data/python/test.json\", \"r\") as f:\n",
    "    \n",
    "    # json.load(file) : json file => dict\n",
    "    print(json.load(f)) \n",
    "\n",
    "    "
   ]
  },
  {
   "cell_type": "markdown",
   "id": "f137b2b4",
   "metadata": {},
   "source": [
    "## json 정리\n",
    "* json\n",
    "    * loads : load + str, 문자열을 dict 구조로 처리 \n",
    "    * dumps : dump + str, dict 구조를 문자열로 처리\n",
    "    * load : json 파일을 읽어서 dict 타입으로 반환\n",
    "    * dump : dict 구조를 읽어서 json으로 처리"
   ]
  }
 ],
 "metadata": {
  "kernelspec": {
   "display_name": "venv",
   "language": "python",
   "name": "python3"
  },
  "language_info": {
   "codemirror_mode": {
    "name": "ipython",
    "version": 3
   },
   "file_extension": ".py",
   "mimetype": "text/x-python",
   "name": "python",
   "nbconvert_exporter": "python",
   "pygments_lexer": "ipython3",
   "version": "3.13.3"
  }
 },
 "nbformat": 4,
 "nbformat_minor": 5
}
