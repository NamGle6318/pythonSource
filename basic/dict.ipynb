{
 "cells": [
  {
   "cell_type": "markdown",
   "id": "84225638",
   "metadata": {},
   "source": [
    "# dictionary\n",
    "    - 자바의 map과 같은 개념 = {key:value}\n",
    "    - JSON의 형태와 동일해서 자주 쓰인다\n",
    "    \n",
    "    "
   ]
  },
  {
   "cell_type": "code",
   "execution_count": 7,
   "id": "463169c1",
   "metadata": {},
   "outputs": [
    {
     "name": "stdout",
     "output_type": "stream",
     "text": [
      "{'name': 'Kim', 'age': 12}\n",
      "Kim\n",
      "12\n"
     ]
    }
   ],
   "source": [
    "dict1 = {\"name\" : \"Kim\", \"age\":12}\n",
    "dict2 = {0 : \"Kim\", 1:12}\n",
    "dict3 = {\"arr\" : [1,2,3,4,5], \"person\" : True} # 타입 다 담을 수 있음\n",
    "\n",
    "print(dict1)\n",
    "print(dict1[\"name\"])\n",
    "print(dict2[1])\n",
    "\n"
   ]
  },
  {
   "cell_type": "code",
   "execution_count": null,
   "id": "246295fc",
   "metadata": {},
   "outputs": [
    {
     "data": {
      "text/plain": [
       "{'arr': [1, 2, 3, 4, 5], 'person': True, 'rank': (16, 17, 18)}"
      ]
     },
     "execution_count": 19,
     "metadata": {},
     "output_type": "execute_result"
    }
   ],
   "source": [
    "# 추가\n",
    "dict3[\"rank\"] = (16, 17, 18)\n",
    "dict3"
   ]
  },
  {
   "cell_type": "code",
   "execution_count": 20,
   "id": "c60eb123",
   "metadata": {},
   "outputs": [
    {
     "name": "stdout",
     "output_type": "stream",
     "text": [
      "{1: 3, 2: 3, 3: 4, 4: 3, 5: 2, 6: 3, 7: 4, 8: 3, 9: 2, 10: 1, 11: 3, 12: 1, 13: 3, 14: 4, 15: 2, 16: 2, 17: 4, 18: 3, 19: 3, 20: 3, 21: 3, 22: 3}\n"
     ]
    }
   ],
   "source": [
    "numbers = [1,5,4,5,6,3,4,7,8,9,1,2,3,4,8,6,4,3,7,1,5,7]\n",
    "counter = {}\n",
    "\n",
    "num = 1\n",
    "for i in numbers:\n",
    "    counter[num] = numbers.count(i)\n",
    "    num += 1\n",
    "    \n",
    "\n",
    "print(counter)"
   ]
  },
  {
   "cell_type": "code",
   "execution_count": null,
   "id": "41640bc3",
   "metadata": {},
   "outputs": [
    {
     "name": "stdout",
     "output_type": "stream",
     "text": [
      "{'name': 'Kim'}\n"
     ]
    }
   ],
   "source": [
    "# 삭제\n",
    "del dict1[\"age\"]\n",
    "print(dict1)"
   ]
  },
  {
   "cell_type": "code",
   "execution_count": null,
   "id": "e136a517",
   "metadata": {},
   "outputs": [
    {
     "name": "stdout",
     "output_type": "stream",
     "text": [
      "Kim\n",
      "None\n"
     ]
    }
   ],
   "source": [
    "# get() : 존재하지 않는 값일 경우 에러가 아닌 None를 반환해줌\n",
    "\n",
    "print(dict1.get(\"name\"))\n",
    "print(dict1.get(\"age\"))"
   ]
  },
  {
   "cell_type": "code",
   "execution_count": null,
   "id": "6c6fba88",
   "metadata": {},
   "outputs": [
    {
     "name": "stdout",
     "output_type": "stream",
     "text": [
      "dict_keys(['name'])\n",
      "dict_values(['Kim'])\n",
      "dict_items([('name', 'Kim')])\n"
     ]
    }
   ],
   "source": [
    "# keys(), values(), items()\n",
    "\n",
    "print(dict1.keys()) # dict1의 key값들만 불러옴\n",
    "print(dict1.values()) # dict1의 value값들만 가져옴\n",
    "print(dict1.items()) # dict1의 key, value를 다 가져옴"
   ]
  }
 ],
 "metadata": {
  "kernelspec": {
   "display_name": "venv",
   "language": "python",
   "name": "python3"
  },
  "language_info": {
   "codemirror_mode": {
    "name": "ipython",
    "version": 3
   },
   "file_extension": ".py",
   "mimetype": "text/x-python",
   "name": "python",
   "nbconvert_exporter": "python",
   "pygments_lexer": "ipython3",
   "version": "3.13.3"
  }
 },
 "nbformat": 4,
 "nbformat_minor": 5
}
