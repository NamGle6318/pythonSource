{
 "cells": [
  {
   "cell_type": "markdown",
   "id": "7dc06d66",
   "metadata": {},
   "source": [
    "# 자료형\n",
    "- 숫자형 : 정수, 실수, 8진수, 16진수\n"
   ]
  },
  {
   "cell_type": "code",
   "execution_count": null,
   "id": "67a8c094",
   "metadata": {},
   "outputs": [
    {
     "name": "stdout",
     "output_type": "stream",
     "text": [
      "127\n"
     ]
    }
   ],
   "source": [
    "a = 123\n",
    "b = -123\n",
    "\n",
    "# 8 진수 표현 방식 : 앞자리에 (0o)가 붙음\n",
    "# 16 진수 표현 방식 : 앞자리에 (0x)가 붙음\n",
    "\n",
    "c = 0o177   # (1 * 7) + (8 * 7) + (64 * 1) = 7 + 56 + 64 \n",
    "c # == print(c)"
   ]
  },
  {
   "cell_type": "code",
   "execution_count": null,
   "id": "88f224bc",
   "metadata": {},
   "outputs": [
    {
     "name": "stdout",
     "output_type": "stream",
     "text": [
      "7\n",
      "-1\n",
      "12\n",
      "0.75\n",
      "0\n",
      "3\n",
      "3.3333333333333335\n"
     ]
    }
   ],
   "source": [
    "# 사칙연산 : +, -, *, /, //, %\n",
    "\n",
    "a = 3\n",
    "b = 4\n",
    "print(a + b)\n",
    "print(a - b)\n",
    "print(a * b)\n",
    "print(a / b) # 기본적으로 소수점까지 나눗셈 실행\n",
    "print(a //b) # 소수점 계산 X\n",
    "print(a % b)\n"
   ]
  },
  {
   "cell_type": "markdown",
   "id": "ffbe614e",
   "metadata": {},
   "source": [
    "- 문자열 자료형\n",
    "    - ' ', \" \", \"\"\" \"\"\", ''' '''"
   ]
  },
  {
   "cell_type": "code",
   "execution_count": 18,
   "id": "71418592",
   "metadata": {},
   "outputs": [
    {
     "data": {
      "text/plain": [
       "\"Python's favorite food is perl\""
      ]
     },
     "execution_count": 18,
     "metadata": {},
     "output_type": "execute_result"
    }
   ],
   "source": [
    "food = \"Python's favorite food is perl\"\n",
    "food"
   ]
  },
  {
   "cell_type": "code",
   "execution_count": 19,
   "id": "4df8f070",
   "metadata": {},
   "outputs": [
    {
     "data": {
      "text/plain": [
       "\"'Python's favorite food is perl\""
      ]
     },
     "execution_count": 19,
     "metadata": {},
     "output_type": "execute_result"
    }
   ],
   "source": [
    "food = \"'Python's favorite food is perl\"\n",
    "food"
   ]
  },
  {
   "cell_type": "code",
   "execution_count": 20,
   "id": "5c1736dd",
   "metadata": {},
   "outputs": [
    {
     "data": {
      "text/plain": [
       "\"'Python's favorite food is perl\""
      ]
     },
     "execution_count": 20,
     "metadata": {},
     "output_type": "execute_result"
    }
   ],
   "source": [
    "food = '\\'Python\\'s favorite food is perl'\n",
    "food"
   ]
  },
  {
   "cell_type": "code",
   "execution_count": 27,
   "id": "8730d5fd",
   "metadata": {},
   "outputs": [
    {
     "name": "stdout",
     "output_type": "stream",
     "text": [
      "Pythons favorite\n",
      "food is perl\n"
     ]
    }
   ],
   "source": [
    "multi_line = \"Pythons favorite\\nfood is perl\"\n",
    "print(multi_line)"
   ]
  },
  {
   "cell_type": "code",
   "execution_count": 31,
   "id": "e2a081f9",
   "metadata": {},
   "outputs": [
    {
     "name": "stdout",
     "output_type": "stream",
     "text": [
      "Pythons favorite\n",
      "food is perl\n"
     ]
    }
   ],
   "source": [
    "# \"\"\"\n",
    "multi_line = \"\"\"Pythons favorite\n",
    "food is perl\"\"\"\n",
    "print(multi_line)"
   ]
  },
  {
   "cell_type": "code",
   "execution_count": 30,
   "id": "705ac61d",
   "metadata": {},
   "outputs": [
    {
     "name": "stdout",
     "output_type": "stream",
     "text": [
      "Pythons favorite\n",
      "food is perl\n"
     ]
    }
   ],
   "source": [
    "# '''\n",
    "multi_line = '''Pythons favorite\n",
    "food is perl'''\n",
    "print(multi_line)"
   ]
  },
  {
   "cell_type": "markdown",
   "id": "d4438a94",
   "metadata": {},
   "source": [
    "```\n",
    "문자열 연산\n",
    "    + : 두 문자열을 연결\n",
    "    * : 문자열을 반복\n",
    "```"
   ]
  },
  {
   "cell_type": "code",
   "execution_count": 32,
   "id": "de173fde",
   "metadata": {},
   "outputs": [
    {
     "name": "stdout",
     "output_type": "stream",
     "text": [
      "Python is fun\n"
     ]
    }
   ],
   "source": [
    "head = \"Python\"\n",
    "tail = \" is fun\"\n",
    "print(head + tail)"
   ]
  },
  {
   "cell_type": "code",
   "execution_count": 33,
   "id": "09c43fb2",
   "metadata": {},
   "outputs": [
    {
     "name": "stdout",
     "output_type": "stream",
     "text": [
      "PythonPython\n"
     ]
    }
   ],
   "source": [
    "head = \"Python\"\n",
    "print(head * 2)"
   ]
  },
  {
   "cell_type": "code",
   "execution_count": 34,
   "id": "bf927a3b",
   "metadata": {},
   "outputs": [
    {
     "name": "stdout",
     "output_type": "stream",
     "text": [
      "==================================================\n",
      "My Program\n",
      "==================================================\n"
     ]
    }
   ],
   "source": [
    "print(\"=\"*50)\n",
    "print(\"My Program\")\n",
    "print(\"=\"*50)"
   ]
  },
  {
   "cell_type": "markdown",
   "id": "b4ea4073",
   "metadata": {},
   "source": [
    "- 문자열의 인덱싱과 슬라이싱(★★★)\n",
    "    - 인덱스 : 0(왼쪽)부터 시작 | - 를 붙이면 오른쪽부터 접근"
   ]
  },
  {
   "cell_type": "code",
   "execution_count": 39,
   "id": "d496e226",
   "metadata": {},
   "outputs": [],
   "source": [
    "str1 = \"Pythons favorite food is perl\"\n"
   ]
  },
  {
   "cell_type": "code",
   "execution_count": null,
   "id": "6a43d095",
   "metadata": {},
   "outputs": [
    {
     "name": "stdout",
     "output_type": "stream",
     "text": [
      "o\n",
      "l\n"
     ]
    }
   ],
   "source": [
    "# 인덱스\n",
    "print(str1[4])\n",
    "print(str1[-1]) # 끝은 -1 부터 시작"
   ]
  },
  {
   "cell_type": "code",
   "execution_count": null,
   "id": "ae1b6bc4",
   "metadata": {},
   "outputs": [
    {
     "name": "stdout",
     "output_type": "stream",
     "text": [
      "hons favorite food is perl\n",
      "Python\n",
      "Pythons favorite food is perl\n",
      "Pythons favorite food \n"
     ]
    }
   ],
   "source": [
    "# 슬라이싱 [시작위치:종료위치] : \n",
    "# 위치를 지정 하지 않으면 무조건 끝까지 감\n",
    "# 종료위치는 출력에 포함되지 않음\n",
    "print(str1[3:])\n",
    "print(str1[:6])\n",
    "print(str1[:])\n",
    "print(str1[:-7])\n"
   ]
  },
  {
   "cell_type": "code",
   "execution_count": 51,
   "id": "c30d5035",
   "metadata": {},
   "outputs": [
    {
     "name": "stdout",
     "output_type": "stream",
     "text": [
      "2025\n",
      "0602\n",
      "Rainy\n"
     ]
    }
   ],
   "source": [
    "a = \"20250602Rainy\"\n",
    "\n",
    "# 연도와 날짜와 날씨를 구분\n",
    "year = a[:4]\n",
    "day = a[4:8]\n",
    "weather = a[-5:]\n",
    "print(year)\n",
    "print(day)\n",
    "print(weather)"
   ]
  },
  {
   "cell_type": "markdown",
   "id": "0582bf5a",
   "metadata": {},
   "source": [
    "* 문자열 포매팅 %d, %s, %f , ...\n",
    "    - %c : 문자\n",
    "    - %s : 문자열(어떤 데이터든 문자열로 받아들여서 만능)\n",
    "    - %d : 정수\n",
    "    - %f : 부동소수\n",
    "    - %% : \"%\" (Escape Sequence)"
   ]
  },
  {
   "cell_type": "code",
   "execution_count": 74,
   "id": "d68e694b",
   "metadata": {},
   "outputs": [
    {
     "name": "stdout",
     "output_type": "stream",
     "text": [
      "I eat 3 apples\n",
      "I eat five bananas\n",
      "I ate 5 watermalons so I was sick for three days\n",
      "I'm ready to 98%\n",
      "        hi\n",
      "hi        \n",
      "3.60\n",
      "    3.60\n"
     ]
    }
   ],
   "source": [
    "# %d 안에 넣을 데이터는 ',' 를 사용하는 대신 %를 사용\n",
    "print(\"I eat %d apples\" %3)\n",
    "print(\"I eat %s bananas\" %\"five\") #s 는 만능임\n",
    "print(\"I ate %d watermalons so I was sick for %s days\" %(5, \"three\"))  # 포매팅 2개 이상 사용 시 대입할 데이터를 괄호로 묶어야 함\n",
    "print(\"I'm ready to %d%%\" %98) # 문자열내에 %가 문자열 포매팅을 위해 사용 되는 순간 단순 \"%\"출력시 %%를 사용해야함\n",
    "print(\"%10s\" %'hi')\n",
    "print(\"%-10s\" %'hi')\n",
    "print(\"%.2f\" %3.598)\n",
    "print(\"%8.2f\" %3.598)"
   ]
  },
  {
   "cell_type": "markdown",
   "id": "df4cf433",
   "metadata": {},
   "source": [
    "# format 함수를 사용한 포매팅"
   ]
  },
  {
   "cell_type": "code",
   "execution_count": 79,
   "id": "cf9af7cd",
   "metadata": {},
   "outputs": [
    {
     "name": "stdout",
     "output_type": "stream",
     "text": [
      "I eat 3 apples\n",
      "I eat five bananas\n",
      "I ate 3 watermalons so I was sick for five days\n"
     ]
    }
   ],
   "source": [
    "\n",
    "print(\"I eat {0} apples\".format(3))\n",
    "print(\"I eat {0} bananas\".format('five')) \n",
    "print(\"I ate {0} watermalons so I was sick for {1} days\" .format(3,'five')) # .format(data) : data가 여러개일 경우 {date's index}\n"
   ]
  },
  {
   "cell_type": "code",
   "execution_count": 88,
   "id": "2252d093",
   "metadata": {},
   "outputs": [
    {
     "name": "stdout",
     "output_type": "stream",
     "text": [
      "I eat 3 apples\n",
      "I eat 3 apples\n",
      "I eat 3 apples\n"
     ]
    }
   ],
   "source": [
    "# 정리\n",
    "number = 3\n",
    "print(\"I eat\", number, \"apples\")\n",
    "print(\"I eat %d apples\" % number)\n",
    "print(\"I eat {0} apples\".format(number))\n"
   ]
  },
  {
   "cell_type": "markdown",
   "id": "51c8578b",
   "metadata": {},
   "source": [
    "f 문자열포매팅"
   ]
  },
  {
   "cell_type": "code",
   "execution_count": 92,
   "id": "561a29f6",
   "metadata": {},
   "outputs": [
    {
     "name": "stdout",
     "output_type": "stream",
     "text": [
      "나의 이름은 홍길동입니다. 나이는 30살 입니다.\n",
      "나의 이름은 홍길동입니다. 나이는 31살 입니다.\n"
     ]
    }
   ],
   "source": [
    "name = '홍길동'\n",
    "age = 30\n",
    "print(f\"나의 이름은 {name}입니다. 나이는 {age}살 입니다.\")\n",
    "print(f\"나의 이름은 {name}입니다. 나이는 {age + 1}살 입니다.\")"
   ]
  },
  {
   "cell_type": "markdown",
   "id": "5a8e8382",
   "metadata": {},
   "source": [
    "## 문자열 관련 함수\n",
    "+ count() : 특정 문자열 개수 출력\n",
    "+ len() : 해당 데이터의 길이\n",
    "+ find() : 문자열 내 특정 문자열의 index 값을 출력, 존재하지 않을 경우 -1 반환\n",
    "+ index() : find와 동일하나 찾는 문자가 존재하지 않을 경우 error를 반환함\n",
    "+ startswith() : 문자열의 시작부분이 데이터와 일치하는지 true&false\n",
    "+ endwith() : 문자열의 종료부분이 데이터와 일치하는지 true&false\n",
    "+ join() : 이어지는 부분을 해당 데이터로 변환하여 반환 \n",
    "+ upper() : 대문자로 반환\n",
    "+ lower() : 소문자로 반환\n",
    "+ swapcase() : 대문자 <-> 소문자로 반환\n",
    "+ lstrip(), rstrip(), strip() : (시작, 끝, 양쪽) 공백 제거\n",
    "+ replace() : 문자열 변환\n",
    "+ split() : 해당 문자를 기준으로 분리"
   ]
  },
  {
   "cell_type": "code",
   "execution_count": 107,
   "id": "7ee4c323",
   "metadata": {},
   "outputs": [
    {
     "name": "stdout",
     "output_type": "stream",
     "text": [
      "0\n"
     ]
    }
   ],
   "source": [
    "a = \"hobby\"\n",
    "\n",
    "a.count('b')\n",
    "print(a.find('h'))"
   ]
  },
  {
   "cell_type": "code",
   "execution_count": 99,
   "id": "2c4e8831",
   "metadata": {},
   "outputs": [
    {
     "data": {
      "text/plain": [
       "5"
      ]
     },
     "execution_count": 99,
     "metadata": {},
     "output_type": "execute_result"
    }
   ],
   "source": [
    "len(a)"
   ]
  },
  {
   "cell_type": "code",
   "execution_count": null,
   "id": "413c9ea3",
   "metadata": {},
   "outputs": [
    {
     "name": "stdout",
     "output_type": "stream",
     "text": [
      "14\n",
      "23\n",
      "14\n",
      "-1\n"
     ]
    }
   ],
   "source": [
    "test = \"Python is the best choice\"\n",
    "\n",
    "print(test.find('b'))\n",
    "print(test.rfind('c')) # 끝에서부터 탐색\n",
    "print(test.find('b', 10)) # index 10 번 부터 b를 탐색\n",
    "print(test.find('k'))\n"
   ]
  },
  {
   "cell_type": "code",
   "execution_count": 108,
   "id": "78dd644c",
   "metadata": {},
   "outputs": [
    {
     "name": "stdout",
     "output_type": "stream",
     "text": [
      "14\n"
     ]
    }
   ],
   "source": [
    "test = \"Python is the best choice\"\n",
    "\n",
    "print(test.index('b'))\n",
    "# print(a.index('salfsdaflksaddf')) -> error"
   ]
  },
  {
   "cell_type": "code",
   "execution_count": 113,
   "id": "7cfbd0f8",
   "metadata": {},
   "outputs": [
    {
     "name": "stdout",
     "output_type": "stream",
     "text": [
      "True\n",
      "False\n"
     ]
    }
   ],
   "source": [
    "# startswith()\n",
    "print(test.startswith(\"P\"))\n",
    "print(test.endswith(\"d\"))"
   ]
  },
  {
   "cell_type": "code",
   "execution_count": 115,
   "id": "24921b04",
   "metadata": {},
   "outputs": [
    {
     "name": "stdout",
     "output_type": "stream",
     "text": [
      "a,b,c,d,e\n",
      "ABCDE\n"
     ]
    }
   ],
   "source": [
    "# join()\n",
    "print(\",\".join(\"abcde\"))\n",
    "\n",
    "print(\"\".join([\"A\",\"B\",\"C\",\"D\",\"E\"]))"
   ]
  },
  {
   "cell_type": "code",
   "execution_count": 117,
   "id": "ca4796b5",
   "metadata": {},
   "outputs": [
    {
     "name": "stdout",
     "output_type": "stream",
     "text": [
      "ABCDE\n",
      "abcde\n",
      "aBcDe\n"
     ]
    }
   ],
   "source": [
    "# upper(), lower()\n",
    "a = \"abcde\"\n",
    "b = \"ABCDE\"\n",
    "print(a.upper())\n",
    "print(a.lower())\n",
    "# swapcase()\n",
    "a= \"AbCdE\"\n",
    "print(a.swapcase())"
   ]
  },
  {
   "cell_type": "code",
   "execution_count": 121,
   "id": "5330f0a8",
   "metadata": {},
   "outputs": [
    {
     "name": "stdout",
     "output_type": "stream",
     "text": [
      "hi\n",
      "bye\n",
      "hibye\n"
     ]
    }
   ],
   "source": [
    "# 공백 제거\n",
    "# lstrip() : 시작 부분 공백 제거\n",
    "# rstrip() : 끝 부분 공백 제거\n",
    "# strip() : 양쪽 공백 제거거\n",
    "\n",
    "start = \"        hi\"\n",
    "end = \"bye         \"\n",
    "tow = \"     hibye  \"\n",
    "print(start.lstrip())\n",
    "print(end.rstrip())\n",
    "print(tow.strip())"
   ]
  },
  {
   "cell_type": "code",
   "execution_count": 122,
   "id": "ce5395d1",
   "metadata": {},
   "outputs": [
    {
     "data": {
      "text/plain": [
       "'dream is a dream~'"
      ]
     },
     "execution_count": 122,
     "metadata": {},
     "output_type": "execute_result"
    }
   ],
   "source": [
    "# replace() 문자열 변경 \n",
    "a = \"Life is a dream~\"\n",
    "a.replace(\"Life\", \"dream\")"
   ]
  },
  {
   "cell_type": "code",
   "execution_count": null,
   "id": "f824e708",
   "metadata": {},
   "outputs": [
    {
     "name": "stdout",
     "output_type": "stream",
     "text": [
      "['Life', 'is', 'too', 'short']\n",
      "['L', 'fe ', 's too short']\n"
     ]
    }
   ],
   "source": [
    "# 문자열 나누어 리스트로 반환 : split\n",
    "\n",
    "a = \"Life is too short\"\n",
    "print(a.split())\n",
    "print(a.split(\"i\"))\n"
   ]
  },
  {
   "cell_type": "code",
   "execution_count": 143,
   "id": "7a41ee39",
   "metadata": {},
   "outputs": [
    {
     "name": "stdout",
     "output_type": "stream",
     "text": [
      "True\n",
      "False\n",
      "True\n",
      "True\n",
      "True\n",
      "True\n"
     ]
    }
   ],
   "source": [
    "# 문자열 구성 파악\n",
    "print(\"1234\".isdigit())\n",
    "print(\"1234\".isalpha()) # 알파벳\n",
    "print(\"a\".isalnum()) # 알파벳 or 숫자\n",
    "print(\"d\".islower())\n",
    "print(\"D\".isupper())\n",
    "print(\" \".isspace())"
   ]
  },
  {
   "cell_type": "code",
   "execution_count": null,
   "id": "41dbc61e",
   "metadata": {},
   "outputs": [
    {
     "name": "stdout",
     "output_type": "stream",
     "text": [
      "2035/05/28\n"
     ]
    }
   ],
   "source": [
    "# 사용자에게 2030/10/30 형태로 입력 받은 후 10년 후의 날짜를 계산하여 출력\n",
    "\n",
    "date = input(\"날짜 입력 (yyyy/mm/dd)\")\n",
    "\n",
    "date = date.split((\"/\"))\n",
    "year = int(date[0]) + 10 # 자료형() = type 변환\n",
    "month = date[1]\n",
    "day = date[2]\n",
    "print(year,month,day, sep=\"/\")\n"
   ]
  },
  {
   "cell_type": "code",
   "execution_count": null,
   "id": "ada05cfc",
   "metadata": {},
   "outputs": [
    {
     "name": "stdout",
     "output_type": "stream",
     "text": [
      "['', 'naver.com']\n",
      "['naver', 'com']\n",
      "nav51!\n"
     ]
    }
   ],
   "source": [
    "# http://naver.com\n",
    "\n",
    "# 암호 생성\n",
    "# 규칙 : \n",
    "# 1. http:// 부분은 제외 => naver.com\n",
    "# 2. 처음 나오는 '.'이후 부분은 제외 => naver\n",
    "# 3. 남은 글자 중 세자리 + 글자 개수 + 글자 내 'e'의 개수 + !로 구성 => nav51!\n",
    "\n",
    "\n",
    "url = \"http://naver.com\"\n",
    "sec = url.split(\"http://\")\n",
    "print(sec)\n",
    "sec = sec[1].split(\".\")\n",
    "print(sec)\n",
    "sec = (sec[0][:3])+ str(len(sec[0])) + str(sec[0].count('e'))+ '!'\n",
    "print(sec)\n",
    "\n",
    "\n",
    "\n"
   ]
  }
 ],
 "metadata": {
  "kernelspec": {
   "display_name": "venv",
   "language": "python",
   "name": "python3"
  },
  "language_info": {
   "codemirror_mode": {
    "name": "ipython",
    "version": 3
   },
   "file_extension": ".py",
   "mimetype": "text/x-python",
   "name": "python",
   "nbconvert_exporter": "python",
   "pygments_lexer": "ipython3",
   "version": "3.13.3"
  }
 },
 "nbformat": 4,
 "nbformat_minor": 5
}
