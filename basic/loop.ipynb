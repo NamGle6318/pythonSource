{
 "cells": [
  {
   "cell_type": "markdown",
   "id": "8b4dccaf",
   "metadata": {},
   "source": [
    "# 제어문과 반복문"
   ]
  },
  {
   "cell_type": "markdown",
   "id": "3ba530f2",
   "metadata": {},
   "source": [
    "## 제어문\n",
    "### 종류\n",
    "    - if\n",
    "    - elif\n",
    "    - 삼항연산자"
   ]
  },
  {
   "cell_type": "markdown",
   "id": "7b4afc31",
   "metadata": {
    "vscode": {
     "languageId": "plaintext"
    }
   },
   "source": [
    "### if"
   ]
  },
  {
   "cell_type": "code",
   "execution_count": null,
   "id": "2441f302",
   "metadata": {},
   "outputs": [
    {
     "name": "stdout",
     "output_type": "stream",
     "text": [
      "a > 1\n"
     ]
    }
   ],
   "source": [
    "# if 조건식: \n",
    "# tab 실행문\n",
    "\n",
    "a= 200\n",
    "if a > 1:\n",
    "    print(\"a > 1\")"
   ]
  },
  {
   "cell_type": "code",
   "execution_count": null,
   "id": "dd220204",
   "metadata": {},
   "outputs": [
    {
     "name": "stdout",
     "output_type": "stream",
     "text": [
      " 205 > a > 1\n",
      " 205 > a > 1\n"
     ]
    }
   ],
   "source": [
    "# if의 조건식을 1개 이상 동시에 사용 가능 \n",
    "\n",
    "a= 200\n",
    "\n",
    "# &&, ||, !는 사용 불가하며 and, or, not으로 사용해야함\n",
    "if  205 > a and a > 1:\n",
    "    print(\" 205 > a > 1\")\n",
    "\n",
    "if  205 > a > 1:\n",
    "    print(\" 205 > a > 1\")\n"
   ]
  },
  {
   "cell_type": "code",
   "execution_count": 10,
   "id": "5afcdaa1",
   "metadata": {},
   "outputs": [
    {
     "name": "stdout",
     "output_type": "stream",
     "text": [
      "가장 큰 수 : 18\n"
     ]
    }
   ],
   "source": [
    "# 가장 큰 수 출력하기\n",
    "a = 12\n",
    "b = 6\n",
    "c = 18\n",
    "if b < c > a:\n",
    "    max = c\n",
    "if c < b > a:\n",
    "    max = b\n",
    "if b < a > c:\n",
    "    max = a\n",
    "\n",
    "print(f\"가장 큰 수 : {max}\")\n"
   ]
  },
  {
   "cell_type": "code",
   "execution_count": null,
   "id": "314d391c",
   "metadata": {},
   "outputs": [
    {
     "name": "stdout",
     "output_type": "stream",
     "text": [
      "a 는 100보다 크다\n"
     ]
    }
   ],
   "source": [
    "a== 105\n",
    "\n",
    "if a>100:\n",
    "    print(\"a 는 100보다 작다\")\n",
    "else:\n",
    "    print(\"a 는 100보다 크다\")"
   ]
  },
  {
   "cell_type": "code",
   "execution_count": 26,
   "id": "96ccc660",
   "metadata": {},
   "outputs": [
    {
     "name": "stdout",
     "output_type": "stream",
     "text": [
      "19 = 홀수\n"
     ]
    }
   ],
   "source": [
    "# 사용자한테 입력받은 숫자가 짝,홀인지 출력\n",
    "number = int(input(\"숫자를 입력하세요\"))\n",
    "if number == 0:\n",
    "    print(\"0\")\n",
    "else:\n",
    "    if number % 2:\n",
    "        print(f\"{number} = 홀수\")\n",
    "    else:\n",
    "        print(f\"{number} = 짝수\")"
   ]
  },
  {
   "cell_type": "code",
   "execution_count": 30,
   "id": "e1511308",
   "metadata": {},
   "outputs": [
    {
     "name": "stdout",
     "output_type": "stream",
     "text": [
      "너의 등급은 B\n"
     ]
    }
   ],
   "source": [
    "# elif = else if\n",
    "score = 86\n",
    "\n",
    "if score >= 90:\n",
    "    grade = \"A\"\n",
    "elif score >= 80:\n",
    "    grade = \"B\"\n",
    "elif score >= 70:\n",
    "    grade = \"C\"\n",
    "elif score >= 60:\n",
    "    grade = \"D\"\n",
    "else:\n",
    "    grade = \"F\"\n",
    "\n",
    "print(f\"너의 등급은 {grade}\")"
   ]
  },
  {
   "cell_type": "code",
   "execution_count": 35,
   "id": "b793356f",
   "metadata": {},
   "outputs": [
    {
     "name": "stdout",
     "output_type": "stream",
     "text": [
      "입력 제대로 해주세요\n"
     ]
    }
   ],
   "source": [
    "# 숫자 2개 입력, 연산자(+, -, *, /, //) 입력\n",
    "\n",
    "num1 = int(input(\"숫자 1개 입력\"))\n",
    "num2 = int(input(\"숫자 1개 입력\"))\n",
    "op = input(\"연산자 입력\")\n",
    "\n",
    "if op == \"+\":\n",
    "    print(f\"{num1}{op}{num2} = {num1 + num2}\")\n",
    "elif op == \"-\":\n",
    "    print(f\"{num1}{op}{num2} = {num1 - num2}\")\n",
    "elif op == \"*\":\n",
    "    print(f\"{num1}{op}{num2} = {num1 * num2}\")\n",
    "elif op == \"/\":\n",
    "    print(f\"{num1}{op}{num2} = {num1 / num2}\")\n",
    "elif op == \"//\":\n",
    "    print(f\"{num1}{op}{num2} = {num1 // num2}\")\n",
    "else:\n",
    "    print(\"입력 제대로 해주세요\")"
   ]
  },
  {
   "cell_type": "code",
   "execution_count": null,
   "id": "6b71aa99",
   "metadata": {},
   "outputs": [
    {
     "name": "stdout",
     "output_type": "stream",
     "text": [
      "True\n",
      "False\n",
      "True\n"
     ]
    }
   ],
   "source": [
    "# in 조건식 \n",
    "# 1. x in list = x가 list의 list안에 포함되어 있는지에 따라 T,F 반환\n",
    "print(1 in [1,2,3]) # true\n",
    "print(1 not in [1,2,3]) # false\n",
    "\n",
    "# 2. x in str = x가 문자열안에 포함되어 있는지 T,F 반환 \n",
    "print(\"a\" in \"abc\") # true"
   ]
  },
  {
   "cell_type": "code",
   "execution_count": null,
   "id": "bca2650b",
   "metadata": {},
   "outputs": [
    {
     "name": "stdout",
     "output_type": "stream",
     "text": [
      "money 보유 중\n"
     ]
    }
   ],
   "source": [
    "pocket = [\"paper\", \"money\", \"cellphone\"]\n",
    "\n",
    "if \"money\" in pocket:\n",
    "    print(\"money 보유 중\")\n",
    "else:\n",
    "    print(\"money 없음\")"
   ]
  },
  {
   "cell_type": "code",
   "execution_count": null,
   "id": "9c61189d",
   "metadata": {},
   "outputs": [
    {
     "name": "stdout",
     "output_type": "stream",
     "text": [
      "success\n",
      "success\n"
     ]
    }
   ],
   "source": [
    "# 파이썬에 삼항 연산자(조건 ? 참 : 거짓)는 없음\n",
    "\n",
    "score = 89\n",
    "message = \"\"\n",
    "if score >= 60:\n",
    "    message = \"success\"\n",
    "else:\n",
    "    message = \"fail\"\n",
    "\n",
    "print(message)\n",
    "\n",
    "# 참 if 조건식 else 거짓\n",
    "\n",
    "message = \"success\" if score >= 60 else \"fail\"\n",
    "print(message)\n",
    "\n"
   ]
  },
  {
   "cell_type": "markdown",
   "id": "e246977a",
   "metadata": {},
   "source": [
    "# loop 문"
   ]
  },
  {
   "cell_type": "markdown",
   "id": "2671c3fa",
   "metadata": {},
   "source": [
    "## 반복문 종류\n",
    "    - while\n",
    "    - for"
   ]
  },
  {
   "cell_type": "code",
   "execution_count": 48,
   "id": "ff498eed",
   "metadata": {},
   "outputs": [
    {
     "name": "stdout",
     "output_type": "stream",
     "text": [
      "0 1 2 3 4 5 6 7 8 9 10 "
     ]
    }
   ],
   "source": [
    "# while 조건문:\n",
    "i =0\n",
    "while i < 11:\n",
    "    print(i,end =\" \")\n",
    "    i += 1\n",
    "    # 증감연산자 사용 불가능(++, --)"
   ]
  },
  {
   "cell_type": "code",
   "execution_count": null,
   "id": "a604e530",
   "metadata": {},
   "outputs": [
    {
     "name": "stdout",
     "output_type": "stream",
     "text": [
      "5050\n",
      "5050\n"
     ]
    }
   ],
   "source": [
    "# 1 ~ 100 합계 구하기\n",
    "\n",
    "\n",
    "hap = 0\n",
    "i = 1\n",
    "while i < 101:\n",
    "    hap += i\n",
    "    i += 1\n",
    "print(hap)\n"
   ]
  },
  {
   "cell_type": "code",
   "execution_count": null,
   "id": "2eeeb238",
   "metadata": {},
   "outputs": [
    {
     "name": "stdout",
     "output_type": "stream",
     "text": [
      "range(0, 5)\n",
      "[0, 1, 2, 3, 4]\n",
      "10\n",
      "5050\n"
     ]
    }
   ],
   "source": [
    "# range(start, end, 증감(DEFAULT = 1)) \n",
    "print(range(5))\n",
    "print(list(range(5)))\n",
    "print(sum(list(range(5))))\n",
    "\n",
    "# range + sum 쓰면 1~100 합계 1줄로 구해짐\n",
    "print(sum(range(1, 101)))"
   ]
  },
  {
   "cell_type": "code",
   "execution_count": null,
   "id": "87b81b9e",
   "metadata": {},
   "outputs": [
    {
     "name": "stdout",
     "output_type": "stream",
     "text": [
      "1 2 3 4 5 6 7 8 9 10 "
     ]
    }
   ],
   "source": [
    "# for문 \n",
    "for i in range(1, 11):\n",
    "    print(i, end= \" \")\n",
    "\n",
    "# python에서 for과 while의 차이는 for는 변수하나를 선언하고 들어갈 수 있다. 또한 for을 list로 사용할 경우 for Each처럼 변수가 index로써 사용될 수 있다."
   ]
  },
  {
   "cell_type": "code",
   "execution_count": null,
   "id": "b12ab4a2",
   "metadata": {},
   "outputs": [
    {
     "name": "stdout",
     "output_type": "stream",
     "text": [
      "10\n"
     ]
    }
   ],
   "source": [
    "# 1 ~ 사용자가 입력한 숫자까지 합계 구하기\n",
    "num = int(input(\"수 입력\"))\n",
    "\n",
    "hap = 0\n",
    "for i in range(1, num + 1):\n",
    "    hap += i\n",
    "print(hap)"
   ]
  },
  {
   "cell_type": "code",
   "execution_count": 72,
   "id": "c512f69c",
   "metadata": {},
   "outputs": [
    {
     "name": "stdout",
     "output_type": "stream",
     "text": [
      "5 4 3 2 1 0 "
     ]
    }
   ],
   "source": [
    "for i in range(5, -1, -1):\n",
    "    print(i, end= \" \")"
   ]
  },
  {
   "cell_type": "code",
   "execution_count": 74,
   "id": "c96d6660",
   "metadata": {},
   "outputs": [
    {
     "name": "stdout",
     "output_type": "stream",
     "text": [
      "사과\n",
      "딸기\n",
      "바나나\n",
      "포도\n"
     ]
    }
   ],
   "source": [
    "list1 = [\"사과\",\"딸기\",\"바나나\",\"포도\"]\n",
    "for fruit in list1:\n",
    "    print(fruit)"
   ]
  },
  {
   "cell_type": "code",
   "execution_count": null,
   "id": "da7b7244",
   "metadata": {},
   "outputs": [
    {
     "name": "stdout",
     "output_type": "stream",
     "text": [
      "사과\n",
      "0 사과\n",
      "딸기\n",
      "1 딸기\n",
      "바나나\n",
      "2 바나나\n",
      "포도\n",
      "3 포도\n"
     ]
    }
   ],
   "source": [
    "# tuple : (idx, value)의 형태로 됨\n",
    "\n",
    "# enumerate(리스트, 문자열, set,tuple, 딕셔너리)\n",
    "for idx, fruit in enumerate(list1):\n",
    "    print(fruit)\n",
    "    print(idx, fruit)"
   ]
  },
  {
   "cell_type": "code",
   "execution_count": null,
   "id": "18e480bc",
   "metadata": {},
   "outputs": [
    {
     "name": "stdout",
     "output_type": "stream",
     "text": [
      "평균 : 78.89\n"
     ]
    }
   ],
   "source": [
    "a_class = [70,60,55,75,95,90,80,85,100]\n",
    "\n",
    "\n",
    "# a_class의 중간고사 점수에 대해서 평균 구하기\n",
    "\n",
    "total = 0\n",
    "for num in a_class:\n",
    "    total += num\n",
    "\n",
    "print(\"평균 : %.2f\" %(total / len(a_class)))\n",
    "\n"
   ]
  },
  {
   "cell_type": "code",
   "execution_count": 90,
   "id": "008d9954",
   "metadata": {},
   "outputs": [
    {
     "name": "stdout",
     "output_type": "stream",
     "text": [
      "평균 : 78.89\n"
     ]
    }
   ],
   "source": [
    "total =0\n",
    "total = sum(a_class)\n",
    "\n",
    "print(\"평균 : %.2f\" %(total / len(a_class)))"
   ]
  }
 ],
 "metadata": {
  "kernelspec": {
   "display_name": "venv",
   "language": "python",
   "name": "python3"
  },
  "language_info": {
   "codemirror_mode": {
    "name": "ipython",
    "version": 3
   },
   "file_extension": ".py",
   "mimetype": "text/x-python",
   "name": "python",
   "nbconvert_exporter": "python",
   "pygments_lexer": "ipython3",
   "version": "3.13.3"
  }
 },
 "nbformat": 4,
 "nbformat_minor": 5
}
