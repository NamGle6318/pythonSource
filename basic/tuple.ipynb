{
 "cells": [
  {
   "cell_type": "markdown",
   "id": "25c72641",
   "metadata": {},
   "source": [
    "#### tuple\n",
    "    - list와 유사함\n",
    "    - ()로 감싼다\n",
    "    - 튜플은 요소값 변경이 불가능하다 = 읽기만 가능\n",
    "    - 위 특징 때문에 접근이 빠르다\n"
   ]
  },
  {
   "cell_type": "code",
   "execution_count": null,
   "id": "7543b71f",
   "metadata": {},
   "outputs": [
    {
     "name": "stdout",
     "output_type": "stream",
     "text": [
      "()\n",
      "(1, 2, 3)\n",
      "(1,)\n",
      "(1, 2, 3)\n",
      "('a', 'b', ('an', 'cd'))\n"
     ]
    }
   ],
   "source": [
    "# 튜플 생성\n",
    "\n",
    "t1 = ()\n",
    "t2 = 1, 2, 3\n",
    "t3 = (1,) # 1개의 요소만을 가질 때 반드시 ','가 있어야 함\n",
    "t4 = (1, 2, 3)\n",
    "t5 = ('a', 'b', ('an', 'cd'))\n",
    "print(t1)\n",
    "print(t2)\n",
    "print(t3)\n",
    "print(t4)\n",
    "print(t5)"
   ]
  }
 ],
 "metadata": {
  "kernelspec": {
   "display_name": "venv",
   "language": "python",
   "name": "python3"
  },
  "language_info": {
   "codemirror_mode": {
    "name": "ipython",
    "version": 3
   },
   "file_extension": ".py",
   "mimetype": "text/x-python",
   "name": "python",
   "nbconvert_exporter": "python",
   "pygments_lexer": "ipython3",
   "version": "3.13.3"
  }
 },
 "nbformat": 4,
 "nbformat_minor": 5
}
