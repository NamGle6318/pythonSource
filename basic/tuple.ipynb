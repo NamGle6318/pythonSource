{
 "cells": [
  {
   "cell_type": "markdown",
   "id": "25c72641",
   "metadata": {},
   "source": [
    "#### tuple\n",
    "    - list와 유사함\n",
    "    - ()로 감싼다\n",
    "    - 튜플은 요소값 변경이 불가능하다 = 읽기만 가능\n",
    "    - 위 특징 때문에 접근이 빠르다\n"
   ]
  },
  {
   "cell_type": "code",
   "execution_count": 8,
   "id": "7543b71f",
   "metadata": {},
   "outputs": [
    {
     "name": "stdout",
     "output_type": "stream",
     "text": [
      "()\n",
      "(1, 2, 3)\n",
      "(1,)\n",
      "(1, 2, 3)\n",
      "('a', 'b', ('an', 'cd'))\n"
     ]
    }
   ],
   "source": [
    "# 튜플 생성\n",
    "\n",
    "t1 = ()\n",
    "t2 = 1, 2, 3\n",
    "t3 = (1,) # 1개의 요소만을 가질 때 반드시 ','가 있어야 함\n",
    "t4 = (1, 2, 3)\n",
    "t5 = ('a', 'b', ('an', 'cd'))\n",
    "print(t1)\n",
    "print(t2)\n",
    "print(t3)\n",
    "print(t4)\n",
    "print(t5)"
   ]
  },
  {
   "cell_type": "code",
   "execution_count": null,
   "id": "65314c90",
   "metadata": {},
   "outputs": [],
   "source": [
    "# tuple 삭제\n",
    "\n",
    "# del t2[0] 처럼 요소 삭제 불가능 "
   ]
  },
  {
   "cell_type": "code",
   "execution_count": 10,
   "id": "86631034",
   "metadata": {},
   "outputs": [],
   "source": [
    "# tuple 삽입\n",
    "# t2[0] = 5 요소 삽입 불가능"
   ]
  },
  {
   "cell_type": "code",
   "execution_count": 19,
   "id": "d615c13b",
   "metadata": {},
   "outputs": [
    {
     "name": "stdout",
     "output_type": "stream",
     "text": [
      "3\n",
      "('a', 'b')\n"
     ]
    }
   ],
   "source": [
    "# 인덱싱, 슬라이싱\n",
    "print(t2[2])\n",
    "print(t5[0:2])"
   ]
  },
  {
   "cell_type": "code",
   "execution_count": 21,
   "id": "2f37fb69",
   "metadata": {},
   "outputs": [
    {
     "name": "stdout",
     "output_type": "stream",
     "text": [
      "(1, 1, 2, 3)\n",
      "(1, 1, 1)\n"
     ]
    }
   ],
   "source": [
    "# +, *\n",
    "t6 = t3 + t4\n",
    "print(t6)\n",
    "\n",
    "t7 = t3 * 3\n",
    "print(t7)"
   ]
  },
  {
   "cell_type": "code",
   "execution_count": 23,
   "id": "33ddf3be",
   "metadata": {},
   "outputs": [
    {
     "data": {
      "text/plain": [
       "3"
      ]
     },
     "execution_count": 23,
     "metadata": {},
     "output_type": "execute_result"
    }
   ],
   "source": [
    "len(t7)\n",
    "\n",
    "# tuple의 사용 용도 : 조회용 (함수의 리턴 타입 같은거)"
   ]
  }
 ],
 "metadata": {
  "kernelspec": {
   "display_name": "venv",
   "language": "python",
   "name": "python3"
  },
  "language_info": {
   "codemirror_mode": {
    "name": "ipython",
    "version": 3
   },
   "file_extension": ".py",
   "mimetype": "text/x-python",
   "name": "python",
   "nbconvert_exporter": "python",
   "pygments_lexer": "ipython3",
   "version": "3.13.3"
  }
 },
 "nbformat": 4,
 "nbformat_minor": 5
}
