{
 "cells": [
  {
   "cell_type": "markdown",
   "id": "3632d602",
   "metadata": {},
   "source": [
    "## 예외 (Except)\n",
    "- SyntaxError : 문법 에러 (보통 PDK에서 잡아줌)\n",
    "- RuntimeError : 실행 중 에러 (이건 못잡죠)\n",
    "    * 1. NameError : 변수 선언 안함\n",
    "    * 2. ZeroDivisionError : 0을 나눔\n",
    "    * 3. IndexError : index 값의 범위를 벗어남\n",
    "    * 4. KeyError : 존재하지 않는 Key를 사용함\n"
   ]
  },
  {
   "cell_type": "code",
   "execution_count": 12,
   "id": "f25818c5",
   "metadata": {},
   "outputs": [],
   "source": [
    "# 변수 선언 안함\n",
    "a, b  = 10, 15\n",
    "# print(c) # NameError : name 'c' is not defined\n",
    "\n",
    "# 0을 나눔\n",
    "\n",
    "# print(10 / 0) # ZeroDivisionError : division by zero\n",
    "\n",
    "# index 값의 범위를 벗어남\n",
    "x = [10, 20, 30]\n",
    "# print(x[10]) # IndexError : list index out of range\n",
    "\n",
    "# 존재하지 않는 Key를 사용함\n",
    "dict1 = {\"name\" : \"kim\", \"age\" : 33, \"city\" : \"seout\"}\n",
    "# print(dict1[\"hobby\"]) # KeyError : 'Key'"
   ]
  },
  {
   "cell_type": "markdown",
   "id": "2b8249b6",
   "metadata": {},
   "source": [
    "### RuntimeError 발생을 처리해보자\n",
    "\n",
    "#### 사용 방법\n",
    "\n",
    "```\n",
    "try:\n",
    "    run code\n",
    "\n",
    "except RuntimeErrors(NameError, ZeroDivisionError, ...) e:\n",
    "    error가 발생할 경우 실행할 코드 (error 종류를 명시해줘야함)\n",
    "\n",
    "else:\n",
    "    error가 발생하지 않았을 경우 실행할 코드\n",
    "\n",
    "finally:\n",
    "    error 발생과 상관없이 무조건 실행할 코드\n",
    "\n",
    "```\n",
    "\n"
   ]
  },
  {
   "cell_type": "code",
   "execution_count": null,
   "id": "49160b09",
   "metadata": {},
   "outputs": [
    {
     "name": "stdout",
     "output_type": "stream",
     "text": [
      "못 찾았음\n"
     ]
    }
   ],
   "source": [
    "names = [\"Kim\", \"Park\", \"Jung\", \"Lee\", \"Sin\"]\n",
    "\n",
    "try:\n",
    "    z= \"Let\"\n",
    "    idx = names.index(z) # index() 는 못찾으면 ValueError 띄움\n",
    "    print(f\"{z} 찾았음 {idx + 1} 위치\")\n",
    "except ValueError as e:\n",
    "    print(\"못 찾았음\")\n"
   ]
  },
  {
   "cell_type": "code",
   "execution_count": null,
   "id": "312ed09b",
   "metadata": {},
   "outputs": [
    {
     "ename": "ValueError",
     "evalue": "'Let' is not in list",
     "output_type": "error",
     "traceback": [
      "\u001b[31m---------------------------------------------------------------------------\u001b[39m",
      "\u001b[31mValueError\u001b[39m                                Traceback (most recent call last)",
      "\u001b[36mCell\u001b[39m\u001b[36m \u001b[39m\u001b[32mIn[28]\u001b[39m\u001b[32m, line 2\u001b[39m\n\u001b[32m      1\u001b[39m z= \u001b[33m\"\u001b[39m\u001b[33mLet\u001b[39m\u001b[33m\"\u001b[39m\n\u001b[32m----> \u001b[39m\u001b[32m2\u001b[39m idx = \u001b[43mnames\u001b[49m\u001b[43m.\u001b[49m\u001b[43mindex\u001b[49m\u001b[43m(\u001b[49m\u001b[43mz\u001b[49m\u001b[43m)\u001b[49m \u001b[38;5;66;03m# index() 는 못찾으면 ValueError 띄움\u001b[39;00m\n\u001b[32m      3\u001b[39m     \u001b[38;5;66;03m# print(f\"{z} 찾았음 {idx + 1} 위치\") # indentationError : unexpected indent\u001b[39;00m\n",
      "\u001b[31mValueError\u001b[39m: 'Let' is not in list"
     ]
    }
   ],
   "source": [
    "z= \"Let\"\n",
    "# idx = names.index(z) # ValueError : 'z' is not in list\n",
    "    # print(f\"{z} 찾았음 {idx + 1} 위치\") # indentationError : unexpected indent"
   ]
  },
  {
   "cell_type": "code",
   "execution_count": 32,
   "id": "9ebf73a8",
   "metadata": {},
   "outputs": [
    {
     "name": "stdout",
     "output_type": "stream",
     "text": [
      "키를 확인해주세요\n"
     ]
    }
   ],
   "source": [
    "try:\n",
    "    print(dict1[\"hobby\"])\n",
    "\n",
    "except KeyError:\n",
    "    print(\"키를 확인해주세요\")"
   ]
  },
  {
   "cell_type": "code",
   "execution_count": 35,
   "id": "38927d7b",
   "metadata": {},
   "outputs": [
    {
     "name": "stdout",
     "output_type": "stream",
     "text": [
      "Kim 찾았음 1 위치\n"
     ]
    }
   ],
   "source": [
    "names = [\"Kim\", \"Park\", \"Jung\", \"Lee\", \"Sin\"]\n",
    "\n",
    "try:\n",
    "    z= \"Kim\"\n",
    "    idx = names.index(z) # index() 는 못찾으면 ValueError 띄움\n",
    "    \n",
    "except ValueError as e:\n",
    "    print(\"못 찾았음\")\n",
    "\n",
    "else:\n",
    "    print(f\"{z} 찾았음 {idx + 1} 위치\")\n"
   ]
  },
  {
   "cell_type": "code",
   "execution_count": null,
   "id": "19f4bf2c",
   "metadata": {},
   "outputs": [
    {
     "name": "stdout",
     "output_type": "stream",
     "text": [
      "못 찾았음\n",
      "'Kimchi' is not in list\n"
     ]
    }
   ],
   "source": [
    "# Exception : Error 조상\n",
    "names = [\"Kim\", \"Park\", \"Jung\", \"Lee\", \"Sin\"]\n",
    "\n",
    "try:\n",
    "    z= \"Kimchi\"\n",
    "    idx = names.index(z) # index() 는 못찾으면 ValueError 띄움\n",
    "    \n",
    "except Exception as e:\n",
    "    print(\"못 찾았음\")\n",
    "    print(e)\n",
    "\n",
    "else:\n",
    "    print(f\"{z} 찾았음 {idx + 1} 위치\")\n"
   ]
  },
  {
   "cell_type": "code",
   "execution_count": 39,
   "id": "a972d18d",
   "metadata": {},
   "outputs": [
    {
     "name": "stdout",
     "output_type": "stream",
     "text": [
      "못 찾았음\n",
      "'Kimchi' is not in list\n",
      "종료\n"
     ]
    }
   ],
   "source": [
    "# Exception : Error 조상\n",
    "names = [\"Kim\", \"Park\", \"Jung\", \"Lee\", \"Sin\"]\n",
    "\n",
    "try:\n",
    "    z= \"Kimchi\"\n",
    "    idx = names.index(z) # index() 는 못찾으면 ValueError 띄움\n",
    "    \n",
    "except Exception as e:\n",
    "    print(\"못 찾았음\")\n",
    "    print(e)\n",
    "\n",
    "else:\n",
    "    print(f\"{z} 찾았음 {idx + 1} 위치\")\n",
    "\n",
    "finally:\n",
    "    print(\"종료\")"
   ]
  },
  {
   "cell_type": "code",
   "execution_count": null,
   "id": "5c04a98b",
   "metadata": {},
   "outputs": [
    {
     "name": "stdout",
     "output_type": "stream",
     "text": [
      "문제 발생\n"
     ]
    }
   ],
   "source": [
    "# 예외를 직접 발생 시키기 : raise\n",
    "\n",
    "try:\n",
    "    a = \"333\"\n",
    "    if a == \"Kim\":\n",
    "        print(\"허가\")\n",
    "    else:\n",
    "        raise ValueError\n",
    "except ValueError:\n",
    "    print(\"문제 발생\")\n",
    "except Exception as e:\n",
    "    print(e)\n",
    "else:\n",
    "    print(\"OK\")\n"
   ]
  }
 ],
 "metadata": {
  "kernelspec": {
   "display_name": "venv",
   "language": "python",
   "name": "python3"
  },
  "language_info": {
   "codemirror_mode": {
    "name": "ipython",
    "version": 3
   },
   "file_extension": ".py",
   "mimetype": "text/x-python",
   "name": "python",
   "nbconvert_exporter": "python",
   "pygments_lexer": "ipython3",
   "version": "3.13.3"
  }
 },
 "nbformat": 4,
 "nbformat_minor": 5
}
