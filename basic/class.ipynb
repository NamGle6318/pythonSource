{
 "cells": [
  {
   "cell_type": "markdown",
   "id": "f8f5427f",
   "metadata": {},
   "source": [
    "# class(python)"
   ]
  },
  {
   "cell_type": "code",
   "execution_count": 112,
   "id": "6d1ef2bc",
   "metadata": {},
   "outputs": [],
   "source": [
    "# class 선언\n",
    "class Userinfo:\n",
    "\n",
    "    # self : 인스턴스 메소드일 때 무조건 선언(상수는 제외)\n",
    "    def user_info(self):\n",
    "        print(\"메소드 실행\")"
   ]
  },
  {
   "cell_type": "code",
   "execution_count": 113,
   "id": "70a017ff",
   "metadata": {},
   "outputs": [
    {
     "name": "stdout",
     "output_type": "stream",
     "text": [
      "메소드 실행\n"
     ]
    }
   ],
   "source": [
    "# 객체 생성\n",
    "user1 = Userinfo()\n",
    "\n",
    "# 객체의 함수 호출\n",
    "user1.user_info()"
   ]
  },
  {
   "cell_type": "code",
   "execution_count": 114,
   "id": "6d02f272",
   "metadata": {},
   "outputs": [],
   "source": [
    "class Car:\n",
    "    color = \"black\"\n",
    "    speed = 15\n",
    "    # self = java에 비유 하자면 this다.\n",
    "    def upSpeed(self, value):\n",
    "        self.speed += value\n",
    "\n",
    "    def downSpeed(self, value):\n",
    "        self.speed -= value\n",
    "\n",
    "    def __str__(self): # == java's toString()\n",
    "        return f\"color {self.color}, speed{self.speed}\"    \n",
    "    \n",
    "\n"
   ]
  },
  {
   "cell_type": "code",
   "execution_count": 115,
   "id": "69a33d14",
   "metadata": {},
   "outputs": [
    {
     "name": "stdout",
     "output_type": "stream",
     "text": [
      "color white, speed30\n",
      "color red, speed5\n",
      "kia status \n",
      "\t color : 30 \n",
      "\t speed : white\n",
      "hyundae status \n",
      "\t color : 5\n",
      "\t speed : red\n"
     ]
    }
   ],
   "source": [
    "# 객체 생성\n",
    "kia = Car()\n",
    "hyundae = Car()\n",
    "\n",
    "# 객체 속성 설정\n",
    "kia.color = \"white\"\n",
    "hyundae.color = \"red\"\n",
    "\n",
    "# 객체 함수 호출\n",
    "kia.upSpeed(15)\n",
    "hyundae.downSpeed(10)\n",
    "\n",
    "# 객체 자체 출력 만약 객체 내 __str__ 갖고 있을 시 toString됨\n",
    "print(kia)\n",
    "print(hyundae) # 객체 자체 접근 시 주소 값 출력\n",
    "\n",
    "\n",
    "# 객체의 속성 출력\n",
    "print(f\"kia status \\n\\t color : {kia.speed} \\n\\t speed : {kia.color}\")\n",
    "print(f\"hyundae status \\n\\t color : {hyundae.speed}\\n\\t speed : {hyundae.color}\")\n",
    "\n"
   ]
  },
  {
   "cell_type": "code",
   "execution_count": 116,
   "id": "f6eba70b",
   "metadata": {},
   "outputs": [],
   "source": [
    "# class 선언\n",
    "class Userinfo:\n",
    "    \n",
    "    # self : 인스턴스 메소드일 때 무조건 선언(상수는 제외)\n",
    "    def user_info(self):\n",
    "        print(\"메소드 실행\")\n",
    "\n",
    "    def __init__(self): # == default 생성자\n",
    "        self.name = \"홍길동\"\n",
    "        self.age = 25\n",
    "\n",
    "    def __str__(self):\n",
    "        return f\"name = {self.name} \\n age = {self.age}\""
   ]
  },
  {
   "cell_type": "code",
   "execution_count": 117,
   "id": "c44a5ba0",
   "metadata": {},
   "outputs": [
    {
     "name": "stdout",
     "output_type": "stream",
     "text": [
      "name = 홍길동 \n",
      " age = 25\n"
     ]
    }
   ],
   "source": [
    "user2 = Userinfo()\n",
    "print(user2)"
   ]
  },
  {
   "cell_type": "code",
   "execution_count": 118,
   "id": "99127e11",
   "metadata": {},
   "outputs": [],
   "source": [
    "# class 선언\n",
    "class Userinfo:\n",
    "    human = True\n",
    "    # self : 인스턴스 메소드일 때 무조건 선언(상수는 제외)\n",
    "    def user_info(self):\n",
    "        print(\"메소드 실행\")\n",
    "\n",
    "    def __init__(self, name, age): \n",
    "        self.name = name\n",
    "        self.age = age\n",
    "\n",
    "    def __str__(self):\n",
    "        return f\"name = {self.name} \\n age = {self.age} \\n human = {self.human}\""
   ]
  },
  {
   "cell_type": "code",
   "execution_count": 119,
   "id": "ee4db319",
   "metadata": {},
   "outputs": [
    {
     "name": "stdout",
     "output_type": "stream",
     "text": [
      "name = 신짱구 \n",
      " age = 5 \n",
      " human = True\n"
     ]
    }
   ],
   "source": [
    "user3 = Userinfo(\"신짱구\", 5)\n",
    "print(user3)\n"
   ]
  },
  {
   "cell_type": "code",
   "execution_count": 120,
   "id": "5fbd4339",
   "metadata": {},
   "outputs": [],
   "source": [
    "class Car:\n",
    "    color = \"black\"\n",
    "    speed = 15\n",
    "    # self = java에 비유 하자면 this다.\n",
    "    def upSpeed(self, value):\n",
    "        self.speed += value\n",
    "\n",
    "    def downSpeed(self, value):\n",
    "        self.speed -= value\n",
    "\n",
    "    def __init__(self, color, speed):\n",
    "        self.color = color\n",
    "        self.speed = speed\n",
    "    \n",
    "    def __str__(self): # == java's toString()\n",
    "        return f\"color {self.color}, speed{self.speed}\"\n",
    "    \n",
    "    \n",
    "\n"
   ]
  },
  {
   "cell_type": "code",
   "execution_count": 121,
   "id": "4a893ec7",
   "metadata": {},
   "outputs": [
    {
     "name": "stdout",
     "output_type": "stream",
     "text": [
      "color blue, speed5\n"
     ]
    }
   ],
   "source": [
    "myCar = Car(\"blue\", 5)\n",
    "\n",
    "print(myCar)"
   ]
  },
  {
   "cell_type": "code",
   "execution_count": 122,
   "id": "06756445",
   "metadata": {},
   "outputs": [],
   "source": [
    "# class 선언\n",
    "class Userinfo:\n",
    "    # 생성자 오버로딩은 없음\n",
    "    # name = \"이름\"\n",
    "    # age = 15\n",
    "    # email = \"email\"\n",
    "    \n",
    "    def user_info(self):\n",
    "        print(\"메소드 실행\")\n",
    "\n",
    "    def __init__(self, name, age, email=None): # None = 초기값 지정\n",
    "        self.name = name\n",
    "        self.age = age\n",
    "        self.email = email\n",
    "\n",
    "    def __str__(self):\n",
    "\n",
    "        return f\"name = {self.name} \\n age = {self.age} \\n email = {self.email}\""
   ]
  },
  {
   "cell_type": "code",
   "execution_count": 123,
   "id": "01664cfa",
   "metadata": {},
   "outputs": [
    {
     "name": "stderr",
     "output_type": "stream",
     "text": [
      "Exception ignored in: <function Userinfo.__del__ at 0x000001DC37B8DDA0>\n",
      "Traceback (most recent call last):\n",
      "  File \"C:\\Users\\soldesk\\AppData\\Local\\Temp\\ipykernel_10996\\1689956312.py\", line 25, in __del__\n",
      "AttributeError: type object 'Userinfo' has no attribute 'userCnt'\n"
     ]
    },
    {
     "name": "stdout",
     "output_type": "stream",
     "text": [
      "name = 홍길동 \n",
      " age = 30 \n",
      " email = None\n",
      "name = 흉길동 \n",
      " age = 31 \n",
      " email = test@gamil.com\n"
     ]
    }
   ],
   "source": [
    "info1 = Userinfo(\"홍길동\", 30)\n",
    "info2 = Userinfo(\"흉길동\", 31, \"test@gamil.com\")\n",
    "\n",
    "print(info1)\n",
    "print(info2)"
   ]
  },
  {
   "cell_type": "code",
   "execution_count": null,
   "id": "e0b08321",
   "metadata": {},
   "outputs": [],
   "source": [
    "# 클래스 변수, 클래스 메소드 : static(java)\n",
    "# 인스턴스 변수, 인스턴스 메소드 : self \n",
    "\n",
    "# 클래스 선언\n",
    "class Userinfo:\n",
    "    \n",
    "    userCnt = 0 # 클래스 변수\n",
    "    \n",
    "    def user_info(self):\n",
    "        print(\"메소드 실행\")\n",
    "\n",
    "    def __init__(self, name, age, email=None):\n",
    "        self.name = name\n",
    "        self.age = age\n",
    "        self.email = email\n",
    "        # 클래스 변수 선언\n",
    "        Userinfo.userCnt += 1 # 클래스명을 통해 접근\n",
    "\n",
    "\n",
    "    def __str__(self):\n",
    "\n",
    "        return f\"name = {self.name} \\n age = {self.age} \\n email = {self.email} \\n UserCnt = {Userinfo.userCnt}\"\n",
    "    \n",
    "    def __del__(self): # del 호출 시 자동 호출\n",
    "        Userinfo.userCnt -= 1"
   ]
  },
  {
   "cell_type": "code",
   "execution_count": 145,
   "id": "2d377369",
   "metadata": {},
   "outputs": [
    {
     "name": "stdout",
     "output_type": "stream",
     "text": [
      "유저 수 1\n",
      "name = 홍길동 \n",
      " age = 30 \n",
      " email = None \n",
      " UserCnt = 1\n",
      "name = 흉길동 \n",
      " age = 31 \n",
      " email = test@gamil.com \n",
      " UserCnt = 1\n",
      "유저 수 0\n"
     ]
    }
   ],
   "source": [
    "info1 = Userinfo(\"홍길동\", 30)\n",
    "info2 = Userinfo(\"흉길동\", 31, \"test@gamil.com\")\n",
    "print(f\"유저 수 {Userinfo.userCnt}\")\n",
    "print(info1)\n",
    "print(info2)\n",
    "\n",
    "\n",
    "del info1\n",
    "print(f\"유저 수 {Userinfo.userCnt}\")\n"
   ]
  },
  {
   "cell_type": "code",
   "execution_count": null,
   "id": "4b892747",
   "metadata": {},
   "outputs": [],
   "source": [
    "class SelfTest(): # 괄호 생략 가능함\n",
    "    @classmethod # 클래스 함수임을 명시하고 매개값으로 cls 넣어주기 = 생략 가능한듯\n",
    "    def function1(cls): # 클래스 함수\n",
    "        print(\"function 1\")\n",
    "\n",
    "    def function2(self):\n",
    "        print(\"function2\")"
   ]
  },
  {
   "cell_type": "code",
   "execution_count": 155,
   "id": "37a33ab6",
   "metadata": {},
   "outputs": [
    {
     "name": "stdout",
     "output_type": "stream",
     "text": [
      "function 1\n",
      "function2\n"
     ]
    }
   ],
   "source": [
    "test = SelfTest()\n",
    "\n",
    "SelfTest.function1() # 클래스 함수를 호출 시 클래스를 통해 접근해야함\n",
    "test.function2()"
   ]
  },
  {
   "cell_type": "code",
   "execution_count": 163,
   "id": "7afc5c66",
   "metadata": {},
   "outputs": [],
   "source": [
    "# Calc\n",
    "# 4개의 method = 사칙연산 기능\n",
    "# 생성자 (num1, num2) , 4개 사칙연산\n",
    "\n",
    "class Calc():\n",
    "    \n",
    "# 연산자 생성자\n",
    "    def __init__(self, num1 = 0, num2 = 0):\n",
    "        self.num1 = num1\n",
    "        self.num2 = num2\n",
    "\n",
    "# 사칙연산 함수들\n",
    "    def add(self):\n",
    "        return self.num1 + self.num2\n",
    "    \n",
    "    def sub(self):\n",
    "        return self.num1 - self.num2\n",
    "    \n",
    "    def multiply(self):\n",
    "        return self.num1 * self.num2\n",
    "    \n",
    "    def divide(self):\n",
    "        return self.num1 / self.num2"
   ]
  },
  {
   "cell_type": "code",
   "execution_count": null,
   "id": "8126d8e1",
   "metadata": {},
   "outputs": [
    {
     "name": "stdout",
     "output_type": "stream",
     "text": [
      "13\n",
      "-3\n",
      "40\n",
      "0.625\n"
     ]
    }
   ],
   "source": [
    "calc = Calc(5, 8)\n",
    "\n",
    "result = calc.add()\n",
    "print(result)\n",
    "result = calc.sub()\n",
    "print(result)\n",
    "result = calc.multiply()\n",
    "print(result)\n",
    "result = calc.divide()\n",
    "print(result)\n"
   ]
  },
  {
   "cell_type": "code",
   "execution_count": null,
   "id": "543fb45f",
   "metadata": {},
   "outputs": [],
   "source": [
    "# Account\n",
    "# 멤버변수 : ano(계좌), name(예금주), balance(잔액)\n",
    "# 함수 : withdraw(+), deposit(-)\n",
    "# __str__ : name, balance \n",
    "\n",
    "class Account():\n",
    "\n",
    "    def __init__(self, ano, name, amount):\n",
    "        self.ano = ano\n",
    "        self.name = name\n",
    "        self.balance = amount\n",
    "\n",
    "# 예금\n",
    "    def withdraw(self, ano, amount):\n",
    "        if(self.ano != ano): return print(\"계좌를 확인해주세요\")\n",
    "        \n",
    "        self.balance += amount\n",
    "    \n",
    "# 출금\n",
    "    def deposit(self, ano, balance):\n",
    "        if(self.ano != ano): return print(\"계좌를 확인해주세요\")\n",
    "        \n",
    "        self.balance -= balance\n",
    "    \n",
    "# 예금주 & 잔액 조회\n",
    "    def __str__(self):\n",
    "        return f\"예금주 : {self.name}\\n잔액 : {self.balance}\""
   ]
  },
  {
   "cell_type": "code",
   "execution_count": 177,
   "id": "05710bd2",
   "metadata": {},
   "outputs": [
    {
     "name": "stdout",
     "output_type": "stream",
     "text": [
      "계좌를 확인해주세요\n",
      "예금주 : 정현우\n",
      "잔액 : 15000\n",
      "계좌를 확인해주세요\n",
      "예금주 : 정현우\n",
      "잔액 : 10000\n"
     ]
    }
   ],
   "source": [
    "myAccount = Account(\"1-2-3-4\", \"정현우\", 10000)\n",
    "\n",
    "# 잘못된 계좌 입력 시, 올바른 계좌 입력 시 \n",
    "myAccount.withdraw(\"1-2-3-3\", 5000) # 계좌를 확인해주세요\n",
    "myAccount.withdraw(\"1-2-3-4\", 5000) \n",
    "\n",
    "print(myAccount)\n",
    "\n",
    "myAccount.deposit(\"1-2-3-3\", 5000) # 계좌를 확인해주세요\n",
    "myAccount.deposit(\"1-2-3-4\", 5000)\n",
    "\n",
    "print(myAccount)\n",
    "\n"
   ]
  },
  {
   "cell_type": "code",
   "execution_count": 187,
   "id": "503f775e",
   "metadata": {},
   "outputs": [],
   "source": [
    "# 상속\n",
    "\n",
    "class Parent:\n",
    "    def __init__(self):\n",
    "        self.value = \"테스트\"\n",
    "        print(\"Parent 클래스 - __init__ 실행\")\n",
    "\n",
    "    def test(self):\n",
    "        print(\"Parent 클래스 - test 실행\")\n",
    "\n",
    "# Parent - Child 상속\n",
    "class Child(Parent):\n",
    "    def __init__(self):\n",
    "        super().__init__() # super() = 부모 클래스\n",
    "        print(\"Child 클래스 - __init__ 실행\")\n"
   ]
  },
  {
   "cell_type": "code",
   "execution_count": 189,
   "id": "8325191e",
   "metadata": {},
   "outputs": [
    {
     "name": "stdout",
     "output_type": "stream",
     "text": [
      "Parent 클래스 - __init__ 실행\n",
      "Child 클래스 - __init__ 실행\n",
      "테스트\n"
     ]
    }
   ],
   "source": [
    "child = Child()\n",
    "\n",
    "print(child.value) # Parent의 value를 상속관계로 인해 호출할 수 있게 됨"
   ]
  },
  {
   "cell_type": "code",
   "execution_count": 214,
   "id": "f11ab455",
   "metadata": {},
   "outputs": [],
   "source": [
    "class AudioVisual:\n",
    "    def __init__(self, power, volume):\n",
    "        self.power = power\n",
    "        self.volume = volume\n",
    "    \n",
    "    def switch(self, on_off):\n",
    "        self.power = on_off\n",
    "    \n",
    "    def set_volume(self, volume):\n",
    "        self.volume = volume\n",
    "\n",
    "class Audio(AudioVisual):\n",
    "    def __init__(self, power, volume):\n",
    "        super().__init__(power, volume)\n",
    "\n",
    "    def tune(self):\n",
    "        str = \"La la la....\" if self.power else \"turn it on\"\n",
    "        print(str)\n",
    "\n",
    "class Tv(AudioVisual):\n",
    "    def __init__(self, power, volume, size):\n",
    "        super().__init__(power, volume)\n",
    "        self.size = size\n",
    "\n",
    "    def watch(self):\n",
    "        str = \"have fun!!!\" if self.power else \"switch on\"\n",
    "        print(str)"
   ]
  },
  {
   "cell_type": "code",
   "execution_count": 215,
   "id": "75cf5e91",
   "metadata": {},
   "outputs": [
    {
     "name": "stdout",
     "output_type": "stream",
     "text": [
      "switch on\n",
      "have fun!!!\n"
     ]
    }
   ],
   "source": [
    "tv = Tv(False, 12, 52)\n",
    "tv.watch()\n",
    "tv.switch(True)\n",
    "tv.watch()\n",
    "\n"
   ]
  },
  {
   "cell_type": "code",
   "execution_count": null,
   "id": "656a3ae4",
   "metadata": {},
   "outputs": [],
   "source": [
    "# 오버라이딩\n",
    "\n",
    "# 상속\n",
    "\n",
    "class Parent:\n",
    "    def __init__(self):\n",
    "        self.value = \"테스트\"\n",
    "        print(\"Parent 클래스 - __init__ 실행\")\n",
    "\n",
    "    def func1(self):\n",
    "        print(\"Parent 클래스 - func1 실행\")\n",
    "\n",
    "    def func2(self):\n",
    "        print(\"Parent 클래스 - func2 실행\")\n",
    "\n",
    "# Parent - Child 상속\n",
    "class Child(Parent):\n",
    "    def __init__(self):\n",
    "        super().__init__() # super() = 부모 클래스\n",
    "        print(\"Child 클래스 - __init__ 실행\")\n",
    "\n",
    "    def func1(self): # 오버라이딩\n",
    "        print(\"Child 클래스 - func1 실행\")\n",
    "\n",
    "    def func3(self):\n",
    "        print(\"Child 클래스 - func3 실행\")"
   ]
  },
  {
   "cell_type": "code",
   "execution_count": null,
   "id": "543ef966",
   "metadata": {},
   "outputs": [
    {
     "name": "stdout",
     "output_type": "stream",
     "text": [
      "Parent 클래스 - __init__ 실행\n",
      "Parent 클래스 - __init__ 실행\n",
      "Child 클래스 - __init__ 실행\n",
      "Parent 클래스 - func1 실행\n",
      "Child 클래스 - func1 실행\n"
     ]
    }
   ],
   "source": [
    "parent = Parent()\n",
    "child = Child()\n",
    "\n",
    "parent.func1()\n",
    "child.func1()\n",
    "\n"
   ]
  },
  {
   "cell_type": "code",
   "execution_count": null,
   "id": "0bf22ce3",
   "metadata": {},
   "outputs": [],
   "source": [
    "# private : __변수명\n",
    "\n",
    "import math\n",
    "\n",
    "class Circle:\n",
    "    def __init__(self, radius):\n",
    "        self.__radius = radius\n",
    "    \n",
    "    # 원둘레\n",
    "    def get_circumference(self):\n",
    "        return 2 * math.pi * self.__radius\n",
    "    \n",
    "    # 원면적\n",
    "    def get_circle_area(self):\n",
    "        return math.pi * (self.__radius ** 2) # ** = 제곱\n",
    "    \n",
    "    # getter / setter\n",
    "    def get_radius(self):\n",
    "        return self.__radius\n",
    "    \n",
    "    def set_radius(self, radius):\n",
    "        self.__radius = radius\n"
   ]
  },
  {
   "cell_type": "code",
   "execution_count": 237,
   "id": "28885161",
   "metadata": {},
   "outputs": [
    {
     "name": "stdout",
     "output_type": "stream",
     "text": [
      "125.66370614359172\n",
      "1256.6370614359173\n",
      "20\n",
      "10\n"
     ]
    }
   ],
   "source": [
    "circle = Circle(20)\n",
    "# print(circle.__radius) ## error\n",
    "\n",
    "circumference = circle.get_circumference()\n",
    "area = circle.get_circle_area()\n",
    "\n",
    "print(circumference)\n",
    "print(area)\n",
    "\n",
    "print(circle.get_radius())\n",
    "circle.set_radius(10)\n",
    "print(circle.get_radius())\n",
    "\n"
   ]
  }
 ],
 "metadata": {
  "kernelspec": {
   "display_name": "venv",
   "language": "python",
   "name": "python3"
  },
  "language_info": {
   "codemirror_mode": {
    "name": "ipython",
    "version": 3
   },
   "file_extension": ".py",
   "mimetype": "text/x-python",
   "name": "python",
   "nbconvert_exporter": "python",
   "pygments_lexer": "ipython3",
   "version": "3.13.3"
  }
 },
 "nbformat": 4,
 "nbformat_minor": 5
}
