{
 "cells": [
  {
   "cell_type": "markdown",
   "id": "8856e4bc",
   "metadata": {},
   "source": [
    "## print : 화면 출력"
   ]
  },
  {
   "cell_type": "code",
   "execution_count": 20,
   "id": "3eb61235",
   "metadata": {},
   "outputs": [
    {
     "name": "stdout",
     "output_type": "stream",
     "text": [
      "Hello, World!\n",
      "Hello, World!\n",
      "100\n",
      "25.3\n",
      "True\n",
      "\n",
      "<class 'str'>\n",
      "<class 'str'>\n",
      "<class 'int'>\n",
      "<class 'float'>\n",
      "<class 'bool'>\n",
      "\n",
      "20.3\n",
      "0.6666666666666666\n",
      "2\n"
     ]
    }
   ],
   "source": [
    "print(\"Hello, World!\")\n",
    "print('Hello, World!')\n",
    "print(100)\n",
    "print(25.3)\n",
    "print(True)\n",
    "print()\n",
    "print(type(\"Hello, World!\"))\n",
    "print(type('Hello, World!'))\n",
    "print(type(100))\n",
    "print(type(25.3))\n",
    "print(type(True))\n",
    "print()\n",
    "print(25.3-5)\n",
    "print(2 / 3)\n",
    "print(2 % 3)\n",
    "\n"
   ]
  },
  {
   "cell_type": "code",
   "execution_count": null,
   "id": "3071a604",
   "metadata": {},
   "outputs": [
    {
     "name": "stdout",
     "output_type": "stream",
     "text": [
      "안녕하세요\n",
      "T R U E\n",
      "TRUE\n",
      "T-R-U-E\n",
      "Welcome To Jungle\n"
     ]
    }
   ],
   "source": [
    "str1 = '안녕하세요'\n",
    "print(str1)\n",
    "\n",
    "# 공백포함 출력\n",
    "print('T','R','U','E')\n",
    "\n",
    "# sep : 문자 사이에 연결 문자열을 지정(default : 공백)\n",
    "print('T','R','U','E', sep=\"\")\n",
    "print('T','R','U','E', sep=\"-\")\n",
    "\n",
    "# end : print() 실행 후 줄바꿈 여부\n",
    "print(\"Welcome To \", end=\"\")\n",
    "print(\"Jungle\")"
   ]
  },
  {
   "cell_type": "code",
   "execution_count": 37,
   "id": "70219b93",
   "metadata": {},
   "outputs": [
    {
     "name": "stdout",
     "output_type": "stream",
     "text": [
      "test\n"
     ]
    }
   ],
   "source": [
    "\"\"\"\n",
    "여러 줄 주석\n",
    "코드의 이해를 돕기 위해 사용\n",
    "\"\"\"\n",
    "print(\"test\")"
   ]
  }
 ],
 "metadata": {
  "kernelspec": {
   "display_name": "venv",
   "language": "python",
   "name": "python3"
  },
  "language_info": {
   "codemirror_mode": {
    "name": "ipython",
    "version": 3
   },
   "file_extension": ".py",
   "mimetype": "text/x-python",
   "name": "python",
   "nbconvert_exporter": "python",
   "pygments_lexer": "ipython3",
   "version": "3.13.3"
  }
 },
 "nbformat": 4,
 "nbformat_minor": 5
}
