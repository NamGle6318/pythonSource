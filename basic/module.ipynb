{
 "cells": [
  {
   "cell_type": "markdown",
   "id": "37d64fd6",
   "metadata": {},
   "source": [
    "### 모듈\n",
    "- 함수, 클래스를 모아놓은 파일\n",
    "\n",
    "### 패키지\n",
    "- 관련있는 모듈들의 집합"
   ]
  },
  {
   "cell_type": "code",
   "execution_count": 3,
   "id": "c736c2c3",
   "metadata": {},
   "outputs": [
    {
     "name": "stdout",
     "output_type": "stream",
     "text": [
      "4\n",
      "3\n",
      "0.0015926529164868282\n"
     ]
    }
   ],
   "source": [
    "# 모듈 호출\n",
    "import math\n",
    "\n",
    "print(math.ceil(3.14))\n",
    "print(math.floor(3.14))\n",
    "print(math.sin(3.14))"
   ]
  },
  {
   "cell_type": "code",
   "execution_count": 213,
   "id": "391e521e",
   "metadata": {},
   "outputs": [
    {
     "name": "stdout",
     "output_type": "stream",
     "text": [
      "0.2954463684558303\n",
      "13.055704869377706\n",
      "1\n",
      "5\n",
      "2\n",
      "[1, 7, 4, 2, 5, 3, 6]\n",
      "[7, 2]\n"
     ]
    }
   ],
   "source": [
    "import random\n",
    "\n",
    "# 0.0 <= x < 1.0 사이의 값 무작위 출력\n",
    "print(random.random())\n",
    "\n",
    "# uniform(a, b) : a ~ b 사이의 임의의 값 float type으로 반환\n",
    "print(random.uniform(10, 20))\n",
    "\n",
    "# randrange(max) 0 ~ max 사이의 int 값 반환\n",
    "# randrange(min, max) min ~ max 사이의 int 값 반환\n",
    "print(random.randrange(2)) \n",
    "print(random.randrange(2, 10)) \n",
    "\n",
    "# choice(list) : list의 value 들 중 임의의 값 하나를 가져 옴\n",
    "list1 = [1,2,3,4,5,6,7]\n",
    "print(random.choice(list1))\n",
    "\n",
    "# shuffle(list) : list의 index를 섞어서 저장\n",
    "random.shuffle(list1)\n",
    "print(list1)\n",
    "\n",
    "# sample(list , k=?) : list의 값들 중 k의 value만큼 임의로 가져옴.\n",
    "print(random.sample(list1, k=2))"
   ]
  },
  {
   "cell_type": "code",
   "execution_count": 215,
   "id": "9f62b95c",
   "metadata": {},
   "outputs": [
    {
     "name": "stdout",
     "output_type": "stream",
     "text": [
      "밤이 되었습니다.\n",
      "아침이 밝았습니다.\n"
     ]
    }
   ],
   "source": [
    "import time\n",
    "\n",
    "print(\"밤이 되었습니다.\")\n",
    "time.sleep(5) # sleep(time) : time만큼 일시 정지\n",
    "print(\"아침이 밝았습니다.\")"
   ]
  },
  {
   "cell_type": "code",
   "execution_count": null,
   "id": "c28b3719",
   "metadata": {},
   "outputs": [
    {
     "name": "stdout",
     "output_type": "stream",
     "text": [
      "4\n",
      "3\n",
      "0.0015926529164868282\n"
     ]
    }
   ],
   "source": [
    "# import 모듈명 : 해당 모듈의 전체를 load\n",
    "# from 모듈명 import 함수명, 클래스명... : 사용할 것만 가져옴\n",
    "\n",
    "# 모듈의 일부 함수만 호출\n",
    "from math import ceil, floor, sin\n",
    "\n",
    "print(ceil(3.14))\n",
    "print(floor(3.14))\n",
    "print(sin(3.14))\n"
   ]
  },
  {
   "cell_type": "code",
   "execution_count": 218,
   "id": "5c63b382",
   "metadata": {},
   "outputs": [
    {
     "name": "stdout",
     "output_type": "stream",
     "text": [
      "0.518771638685424\n",
      "15.567275738233946\n",
      "0\n",
      "6\n",
      "5\n",
      "[5, 3, 1, 6, 7, 2, 4]\n",
      "[6, 2]\n"
     ]
    }
   ],
   "source": [
    "from random import random, uniform, randrange, choice, shuffle, sample\n",
    "\n",
    "# 0.0 <= x < 1.0 사이의 값 무작위 출력\n",
    "print(random())\n",
    "\n",
    "# uniform(a, b) : a ~ b 사이의 임의의 값 float type으로 반환\n",
    "print(uniform(10, 20))\n",
    "\n",
    "# randrange(max) 0 ~ max 사이의 int 값 반환\n",
    "# randrange(min, max) min ~ max 사이의 int 값 반환\n",
    "print(randrange(2)) \n",
    "print(randrange(2, 10)) \n",
    "\n",
    "# choice(list) : list의 value 들 중 임의의 값 하나를 가져 옴\n",
    "list1 = [1,2,3,4,5,6,7]\n",
    "print(choice(list1))\n",
    "\n",
    "# shuffle(list) : list의 index를 섞어서 저장\n",
    "shuffle(list1)\n",
    "print(list1)\n",
    "\n",
    "# sample(list , k=?) : list의 값들 중 k의 value만큼 임의로 가져옴.\n",
    "print(sample(list1, k=2))"
   ]
  },
  {
   "cell_type": "code",
   "execution_count": 261,
   "id": "3c1fd2ba",
   "metadata": {},
   "outputs": [
    {
     "name": "stdout",
     "output_type": "stream",
     "text": [
      "15\n",
      "3\n",
      "56\n",
      "1.0\n"
     ]
    }
   ],
   "source": [
    "import mod1 as calc # as 로 별칭? 지정 가능\n",
    "\n",
    "print(calc.add(10, 5))\n",
    "print(calc.sub(9, 6))\n",
    "print(calc.mul(8, 7))\n",
    "print(calc.div(8, 8))"
   ]
  },
  {
   "cell_type": "code",
   "execution_count": 234,
   "id": "af250d0f",
   "metadata": {},
   "outputs": [
    {
     "name": "stdout",
     "output_type": "stream",
     "text": [
      "15\n",
      "3\n",
      "56\n",
      "1.0\n"
     ]
    }
   ],
   "source": [
    "from mod1 import add, sub, mul, div\n",
    "\n",
    "print(add(10, 5))\n",
    "print(sub(9, 6))\n",
    "print(mul(8, 7))\n",
    "print(div(8, 8))"
   ]
  },
  {
   "cell_type": "code",
   "execution_count": 8,
   "id": "3612ce31",
   "metadata": {},
   "outputs": [
    {
     "name": "stdout",
     "output_type": "stream",
     "text": [
      "12.566368\n"
     ]
    }
   ],
   "source": [
    "from mod2 import *\n",
    "\n",
    "math2 = mod2.Math()\n",
    "\n",
    "print(math2.solv(2))"
   ]
  }
 ],
 "metadata": {
  "kernelspec": {
   "display_name": "venv",
   "language": "python",
   "name": "python3"
  },
  "language_info": {
   "codemirror_mode": {
    "name": "ipython",
    "version": 3
   },
   "file_extension": ".py",
   "mimetype": "text/x-python",
   "name": "python",
   "nbconvert_exporter": "python",
   "pygments_lexer": "ipython3",
   "version": "3.13.3"
  }
 },
 "nbformat": 4,
 "nbformat_minor": 5
}
