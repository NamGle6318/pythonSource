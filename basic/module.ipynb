{
 "cells": [
  {
   "cell_type": "markdown",
   "id": "37d64fd6",
   "metadata": {},
   "source": [
    "### 모듈\n",
    "- 함수, 클래스를 모아놓은 파일\n",
    "\n",
    "### 패키지\n",
    "- 관련있는 모듈들의 집합"
   ]
  },
  {
   "cell_type": "code",
   "execution_count": 3,
   "id": "c736c2c3",
   "metadata": {},
   "outputs": [
    {
     "name": "stdout",
     "output_type": "stream",
     "text": [
      "4\n",
      "3\n",
      "0.0015926529164868282\n"
     ]
    }
   ],
   "source": [
    "# 모듈 호출\n",
    "import math\n",
    "\n",
    "print(math.ceil(3.14))\n",
    "print(math.floor(3.14))\n",
    "print(math.sin(3.14))"
   ]
  },
  {
   "cell_type": "code",
   "execution_count": 213,
   "id": "391e521e",
   "metadata": {},
   "outputs": [
    {
     "name": "stdout",
     "output_type": "stream",
     "text": [
      "0.2954463684558303\n",
      "13.055704869377706\n",
      "1\n",
      "5\n",
      "2\n",
      "[1, 7, 4, 2, 5, 3, 6]\n",
      "[7, 2]\n"
     ]
    }
   ],
   "source": [
    "import random\n",
    "\n",
    "# 0.0 <= x < 1.0 사이의 값 무작위 출력\n",
    "print(random.random())\n",
    "\n",
    "# uniform(a, b) : a ~ b 사이의 임의의 값 float type으로 반환\n",
    "print(random.uniform(10, 20))\n",
    "\n",
    "# randrange(max) 0 ~ max 사이의 int 값 반환\n",
    "# randrange(min, max) min ~ max 사이의 int 값 반환\n",
    "print(random.randrange(2)) \n",
    "print(random.randrange(2, 10)) \n",
    "\n",
    "# choice(list) : list의 value 들 중 임의의 값 하나를 가져 옴\n",
    "list1 = [1,2,3,4,5,6,7]\n",
    "print(random.choice(list1))\n",
    "\n",
    "# shuffle(list) : list의 index를 섞어서 저장\n",
    "random.shuffle(list1)\n",
    "print(list1)\n",
    "\n",
    "# sample(list , k=?) : list의 값들 중 k의 value만큼 임의로 가져옴.\n",
    "print(random.sample(list1, k=2))"
   ]
  },
  {
   "cell_type": "code",
   "execution_count": 215,
   "id": "9f62b95c",
   "metadata": {},
   "outputs": [
    {
     "name": "stdout",
     "output_type": "stream",
     "text": [
      "밤이 되었습니다.\n",
      "아침이 밝았습니다.\n"
     ]
    }
   ],
   "source": [
    "import time\n",
    "\n",
    "print(\"밤이 되었습니다.\")\n",
    "time.sleep(5) # sleep(time) : time만큼 일시 정지\n",
    "print(\"아침이 밝았습니다.\")"
   ]
  },
  {
   "cell_type": "code",
   "execution_count": null,
   "id": "c28b3719",
   "metadata": {},
   "outputs": [
    {
     "name": "stdout",
     "output_type": "stream",
     "text": [
      "4\n",
      "3\n",
      "0.0015926529164868282\n"
     ]
    }
   ],
   "source": [
    "# import 모듈명 : 해당 모듈의 전체를 load\n",
    "# from 모듈명 import 함수명, 클래스명... : 사용할 것만 가져옴\n",
    "\n",
    "# 모듈의 일부 함수만 호출\n",
    "from math import ceil, floor, sin\n",
    "\n",
    "print(ceil(3.14))\n",
    "print(floor(3.14))\n",
    "print(sin(3.14))\n"
   ]
  },
  {
   "cell_type": "code",
   "execution_count": 218,
   "id": "5c63b382",
   "metadata": {},
   "outputs": [
    {
     "name": "stdout",
     "output_type": "stream",
     "text": [
      "0.518771638685424\n",
      "15.567275738233946\n",
      "0\n",
      "6\n",
      "5\n",
      "[5, 3, 1, 6, 7, 2, 4]\n",
      "[6, 2]\n"
     ]
    }
   ],
   "source": [
    "from random import random, uniform, randrange, choice, shuffle, sample\n",
    "\n",
    "# 0.0 <= x < 1.0 사이의 값 무작위 출력\n",
    "print(random())\n",
    "\n",
    "# uniform(a, b) : a ~ b 사이의 임의의 값 float type으로 반환\n",
    "print(uniform(10, 20))\n",
    "\n",
    "# randrange(max) 0 ~ max 사이의 int 값 반환\n",
    "# randrange(min, max) min ~ max 사이의 int 값 반환\n",
    "print(randrange(2)) \n",
    "print(randrange(2, 10)) \n",
    "\n",
    "# choice(list) : list의 value 들 중 임의의 값 하나를 가져 옴\n",
    "list1 = [1,2,3,4,5,6,7]\n",
    "print(choice(list1))\n",
    "\n",
    "# shuffle(list) : list의 index를 섞어서 저장\n",
    "shuffle(list1)\n",
    "print(list1)\n",
    "\n",
    "# sample(list , k=?) : list의 값들 중 k의 value만큼 임의로 가져옴.\n",
    "print(sample(list1, k=2))"
   ]
  },
  {
   "cell_type": "code",
   "execution_count": 261,
   "id": "3c1fd2ba",
   "metadata": {},
   "outputs": [
    {
     "name": "stdout",
     "output_type": "stream",
     "text": [
      "15\n",
      "3\n",
      "56\n",
      "1.0\n"
     ]
    }
   ],
   "source": [
    "import mod1 as calc # as 로 별칭? 지정 가능\n",
    "\n",
    "print(calc.add(10, 5))\n",
    "print(calc.sub(9, 6))\n",
    "print(calc.mul(8, 7))\n",
    "print(calc.div(8, 8))"
   ]
  },
  {
   "cell_type": "code",
   "execution_count": 234,
   "id": "af250d0f",
   "metadata": {},
   "outputs": [
    {
     "name": "stdout",
     "output_type": "stream",
     "text": [
      "15\n",
      "3\n",
      "56\n",
      "1.0\n"
     ]
    }
   ],
   "source": [
    "from mod1 import add, sub, mul, div\n",
    "\n",
    "print(add(10, 5))\n",
    "print(sub(9, 6))\n",
    "print(mul(8, 7))\n",
    "print(div(8, 8))"
   ]
  },
  {
   "cell_type": "code",
   "execution_count": 11,
   "id": "3612ce31",
   "metadata": {},
   "outputs": [
    {
     "name": "stdout",
     "output_type": "stream",
     "text": [
      "12.566368\n",
      "5\n"
     ]
    }
   ],
   "source": [
    "from mod2 import *\n",
    "\n",
    "math2 = mod2.Math()\n",
    "\n",
    "print(math2.solv(2))\n",
    "print(add(2, 3))"
   ]
  },
  {
   "cell_type": "code",
   "execution_count": 13,
   "id": "be090161",
   "metadata": {},
   "outputs": [
    {
     "name": "stdout",
     "output_type": "stream",
     "text": [
      "8\n",
      "-2\n",
      "15\n",
      "0.6\n"
     ]
    }
   ],
   "source": [
    "from calc import *\n",
    "\n",
    "calc = Calc(3, 5)\n",
    "\n",
    "print(calc.add())\n",
    "print(calc.sub())\n",
    "print(calc.multiply())\n",
    "print(calc.divide())"
   ]
  },
  {
   "cell_type": "code",
   "execution_count": null,
   "id": "a028102a",
   "metadata": {},
   "outputs": [
    {
     "name": "stdout",
     "output_type": "stream",
     "text": [
      "2025-06-03 12:03:01\n",
      "====================\n",
      "2025-06-09 13:17:11\n",
      "2025-06-09\n",
      "13:17:11\n",
      "2025-06-09\n"
     ]
    },
    {
     "ename": "TypeError",
     "evalue": "unsupported operand type(s) for -: 'datetime.time' and 'datetime.date'",
     "output_type": "error",
     "traceback": [
      "\u001b[31m---------------------------------------------------------------------------\u001b[39m",
      "\u001b[31mTypeError\u001b[39m                                 Traceback (most recent call last)",
      "\u001b[36mCell\u001b[39m\u001b[36m \u001b[39m\u001b[32mIn[3]\u001b[39m\u001b[32m, line 16\u001b[39m\n\u001b[32m     13\u001b[39m day3 = datetime.date(\u001b[32m2025\u001b[39m,\u001b[32m6\u001b[39m,\u001b[32m9\u001b[39m)\n\u001b[32m     14\u001b[39m \u001b[38;5;28mprint\u001b[39m(day3)\n\u001b[32m---> \u001b[39m\u001b[32m16\u001b[39m \u001b[38;5;28mprint\u001b[39m(\u001b[43mday2\u001b[49m\u001b[43m \u001b[49m\u001b[43m-\u001b[49m\u001b[43m \u001b[49m\u001b[43mday3\u001b[49m)\n",
      "\u001b[31mTypeError\u001b[39m: unsupported operand type(s) for -: 'datetime.time' and 'datetime.date'"
     ]
    }
   ],
   "source": [
    "import datetime\n",
    "\n",
    "day1 = datetime.datetime(year = 2025, month = 6, day = 3, hour = 12, minute = 3, second= 1)\n",
    "\n",
    "print(day1)\n",
    "print(\"=\" * 20)\n",
    "day2 = datetime.datetime(2025,6,9,13,17,11)\n",
    "print(day2)\n",
    "day2 = datetime.date(2025,6,9)\n",
    "print(day2)\n",
    "day2 = datetime.time(13,17,11)\n",
    "print(day2)\n",
    "day3 = datetime.date(2025,6,9)\n",
    "print(day3)\n",
    "\n"
   ]
  },
  {
   "cell_type": "code",
   "execution_count": 12,
   "id": "f5f941cc",
   "metadata": {},
   "outputs": [
    {
     "data": {
      "text/plain": [
       "1749516809.3041925"
      ]
     },
     "execution_count": 12,
     "metadata": {},
     "output_type": "execute_result"
    }
   ],
   "source": [
    "import time\n",
    "\n",
    "time.time() # 1970-01-01 00:00:00 을 기준으로 지난 시간 초 단위로 리턴"
   ]
  },
  {
   "cell_type": "code",
   "execution_count": null,
   "id": "54883dff",
   "metadata": {},
   "outputs": [
    {
     "name": "stdout",
     "output_type": "stream",
     "text": [
      "1\n",
      "1 day, 0:00:00\n"
     ]
    }
   ],
   "source": [
    "# weekday() : 요일을 숫자로 처리 (월 = 0)\n",
    "print(day1.weekday())\n",
    "day1 = datetime.date(2025, 6, 9)\n",
    "day2 = datetime.date(2025, 6, 8)\n",
    "print(day1 - day2)"
   ]
  },
  {
   "cell_type": "code",
   "execution_count": 7,
   "id": "d5c6e2cf",
   "metadata": {},
   "outputs": [
    {
     "data": {
      "text/plain": [
       "datetime.datetime(2025, 6, 10, 9, 50, 18, 423124)"
      ]
     },
     "execution_count": 7,
     "metadata": {},
     "output_type": "execute_result"
    }
   ],
   "source": [
    "now = datetime.datetime.now()\n",
    "now"
   ]
  },
  {
   "cell_type": "code",
   "execution_count": 9,
   "id": "53f8f541",
   "metadata": {},
   "outputs": [
    {
     "data": {
      "text/plain": [
       "datetime.datetime(2025, 6, 10, 9, 51, 28, 359572)"
      ]
     },
     "execution_count": 9,
     "metadata": {},
     "output_type": "execute_result"
    }
   ],
   "source": [
    "from datetime import datetime\n",
    "\n",
    "now = datetime.now()\n",
    "now"
   ]
  },
  {
   "cell_type": "code",
   "execution_count": 10,
   "id": "7b27ca6c",
   "metadata": {},
   "outputs": [
    {
     "data": {
      "text/plain": [
       "datetime.datetime(2025, 6, 10, 9, 52, 44, 113754)"
      ]
     },
     "execution_count": 10,
     "metadata": {},
     "output_type": "execute_result"
    }
   ],
   "source": [
    "now = datetime.today()\n",
    "now"
   ]
  },
  {
   "cell_type": "code",
   "execution_count": null,
   "id": "596e78e1",
   "metadata": {},
   "outputs": [
    {
     "name": "stdout",
     "output_type": "stream",
     "text": [
      "1749516885.0903757\n",
      "time.struct_time(tm_year=2025, tm_mon=6, tm_mday=10, tm_hour=9, tm_min=54, tm_sec=45, tm_wday=1, tm_yday=161, tm_isdst=0)\n",
      "Tue Jun 10 09:54:45 2025\n"
     ]
    }
   ],
   "source": [
    "print(time.time())\n",
    "print(time.localtime(time.time())) # 익숙하지 않은 형식?\n",
    "print(time.asctime(time.localtime(time.time()))) # 익숙한 형식"
   ]
  },
  {
   "cell_type": "markdown",
   "id": "4327e4dd",
   "metadata": {},
   "source": [
    "## 내장함수\n"
   ]
  },
  {
   "cell_type": "code",
   "execution_count": 22,
   "id": "27742814",
   "metadata": {},
   "outputs": [
    {
     "name": "stdout",
     "output_type": "stream",
     "text": [
      "body\n",
      "foo\n",
      "boo\n",
      "bar\n",
      "====================\n",
      "0 body\n",
      "1 foo\n",
      "2 boo\n",
      "3 bar\n"
     ]
    }
   ],
   "source": [
    "# enumerate() : 리스트, 튜플, 문자열을 입력으로 받아 인덱스와 enumerate 객체 리턴\n",
    "\n",
    "list1 = [\"body\", \"foo\", \"boo\", \"bar\"]\n",
    "\n",
    "# 기존 방식\n",
    "for item in list1:\n",
    "    print(item)\n",
    "\n",
    "print(\"=\"* 20)\n",
    "# enumrate 사용 방식\n",
    "for idx, item in enumerate(list1):\n",
    "    print(idx, item) # index 값과 item 값을 받을 수 있음"
   ]
  },
  {
   "cell_type": "code",
   "execution_count": null,
   "id": "0b8d25c2",
   "metadata": {},
   "outputs": [
    {
     "name": "stdout",
     "output_type": "stream",
     "text": [
      "<class 'int'>\n",
      "3\n",
      "3.0\n",
      "3.0\n",
      "3.14\n",
      "<class 'str'>\n"
     ]
    }
   ],
   "source": [
    "str1 = \"3\" \n",
    "\n",
    "# str => int로 변경 = int(str타입의 숫자)\n",
    "print(type(int(str1)))\n",
    "print(int(3.7))\n",
    "\n",
    "# 실수 = float()\n",
    "print(float(str1))\n",
    "print(float(3))\n",
    "str2 = \"3.14\"\n",
    "print(float(str2))\n",
    "\n",
    "# 문자 => str \n",
    "print (type(str(3.14)))"
   ]
  },
  {
   "cell_type": "code",
   "execution_count": 35,
   "id": "703c7d34",
   "metadata": {},
   "outputs": [
    {
     "name": "stdout",
     "output_type": "stream",
     "text": [
      "[1, 2, 3]\n",
      "(4, 5, 6)\n",
      "3\n",
      "3\n",
      "12\n"
     ]
    }
   ],
   "source": [
    "# tuple <=> list\n",
    "\n",
    "tuple1 = (1, 2, 3)\n",
    "list1 = [4, 5, 6]\n",
    "\n",
    "list_tuple1 = list(tuple1)\n",
    "tuple_list1 = tuple(list1)\n",
    "\n",
    "print(list_tuple1)\n",
    "print(tuple_list1)\n",
    "\n",
    "# len() : 길이 \n",
    "print(len(tuple1))\n",
    "print(len(list1))\n",
    "print(len(\"123142345245\"))"
   ]
  },
  {
   "cell_type": "code",
   "execution_count": null,
   "id": "75092abb",
   "metadata": {},
   "outputs": [
    {
     "name": "stdout",
     "output_type": "stream",
     "text": [
      "[1, 2, 3, 4, 4, 5, 7]\n",
      "[7, 5, 4, 4, 3, 2, 1]\n"
     ]
    }
   ],
   "source": [
    "# list.sort() = 원본을 변조(정렬) 시킴\n",
    "list1 = [1, 4, 7, 5, 4 ,3 ,2]\n",
    "\n",
    "# 오름차순\n",
    "list1.sort()\n",
    "print(list1)\n",
    "\n",
    "# 내림차순\n",
    "list1.sort(reverse=True)\n",
    "print(list1)"
   ]
  },
  {
   "cell_type": "code",
   "execution_count": null,
   "id": "305725cd",
   "metadata": {},
   "outputs": [
    {
     "name": "stdout",
     "output_type": "stream",
     "text": [
      "[1, 2, 3, 4, 4, 5, 7]\n",
      "[1, 4, 7, 5, 4, 3, 2]\n",
      "[7, 5, 4, 4, 3, 2, 1]\n",
      "[1, 4, 7, 5, 4, 3, 2]\n"
     ]
    }
   ],
   "source": [
    "# 원본을 유지한채로 정렬 시키는 법 = sotred() = 내장함수라 import 하지 않아도 됨 (len(), range(), print(), int(), str(), ...)\n",
    "\n",
    "list1 = [1, 4, 7, 5, 4 ,3 ,2]\n",
    "\n",
    "print(sorted(list1))\n",
    "print(list1)\n",
    "\n",
    "print(sorted(list1, reverse=True))\n",
    "print(list1)"
   ]
  }
 ],
 "metadata": {
  "kernelspec": {
   "display_name": "venv",
   "language": "python",
   "name": "python3"
  },
  "language_info": {
   "codemirror_mode": {
    "name": "ipython",
    "version": 3
   },
   "file_extension": ".py",
   "mimetype": "text/x-python",
   "name": "python",
   "nbconvert_exporter": "python",
   "pygments_lexer": "ipython3",
   "version": "3.13.3"
  }
 },
 "nbformat": 4,
 "nbformat_minor": 5
}
