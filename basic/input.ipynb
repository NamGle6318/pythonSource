{
 "cells": [
  {
   "cell_type": "markdown",
   "id": "15e62594",
   "metadata": {},
   "source": [
    "# 입력 : input()\n",
    "\n"
   ]
  },
  {
   "cell_type": "code",
   "execution_count": 11,
   "id": "9ec57eb7",
   "metadata": {},
   "outputs": [
    {
     "name": "stdout",
     "output_type": "stream",
     "text": [
      "<class 'str'>\n",
      "<class 'int'>\n"
     ]
    }
   ],
   "source": [
    "num = input(\"숫자 입력\") # = scanf\n",
    "print(type(num)) # str\n",
    "# int()\n",
    "num = int(num)\n",
    "print(type(num))"
   ]
  },
  {
   "cell_type": "code",
   "execution_count": 14,
   "id": "3dcfbc00",
   "metadata": {},
   "outputs": [
    {
     "name": "stdout",
     "output_type": "stream",
     "text": [
      "3 + 45 = 48\n"
     ]
    }
   ],
   "source": [
    "num1 = int(input(\"숫자 1 입력\"))\n",
    "num2 = int(input(\"숫자 2 입력\"))\n",
    "print(\"%d + %d = %d\"%(num1, num2, num1 + num2))\n"
   ]
  }
 ],
 "metadata": {
  "kernelspec": {
   "display_name": "venv",
   "language": "python",
   "name": "python3"
  },
  "language_info": {
   "codemirror_mode": {
    "name": "ipython",
    "version": 3
   },
   "file_extension": ".py",
   "mimetype": "text/x-python",
   "name": "python",
   "nbconvert_exporter": "python",
   "pygments_lexer": "ipython3",
   "version": "3.13.3"
  }
 },
 "nbformat": 4,
 "nbformat_minor": 5
}
