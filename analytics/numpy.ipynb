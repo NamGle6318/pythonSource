{
 "cells": [
  {
   "cell_type": "code",
   "execution_count": null,
   "id": "595cd05a",
   "metadata": {},
   "outputs": [],
   "source": [
    "import pandas as pd\n",
    "import numpy as np\n",
    "\n",
    "# pandas : 데이터 처리 및 분석\n",
    "# numpy : 과학계산 및 숫자계산\n",
    "    # - C, C++ 기반으로 작성되어 있어 빠르다.\n",
    "    # - 중간에 C를 불러 쓸 수 있는 api 이용하여 파이썬 환경에서 사용\n",
    "# scipy : 과학계산 및 계산 통계\n",
    "# tensorflow : 머신러닝, 딥러닝\n",
    "# keras : 신경망, 딥러닝\n",
    "# matplotlib, seaborn, plotly : 시각화\n",
    "\n",
    "# numpy 배열\n",
    "# numpy 배열 1차(백터), 2차(매트릭스)\n",
    "\n",
    "# 머신러닝에서 사용되는 데이터 구조\n"
   ]
  },
  {
   "cell_type": "code",
   "execution_count": null,
   "id": "af1b3a09",
   "metadata": {},
   "outputs": [
    {
     "data": {
      "text/plain": [
       "array([1, 2, 3])"
      ]
     },
     "execution_count": 2,
     "metadata": {},
     "output_type": "execute_result"
    }
   ],
   "source": [
    "# 1차원 배열\n",
    "\n",
    "arr1 = np.array([1, 2, 3]) # 이것은 벡터다.\n",
    "arr1"
   ]
  },
  {
   "cell_type": "code",
   "execution_count": 3,
   "id": "305cc182",
   "metadata": {},
   "outputs": [
    {
     "data": {
      "text/plain": [
       "(3,)"
      ]
     },
     "execution_count": 3,
     "metadata": {},
     "output_type": "execute_result"
    }
   ],
   "source": [
    "arr1.shape"
   ]
  },
  {
   "cell_type": "code",
   "execution_count": 6,
   "id": "f68a8ce6",
   "metadata": {},
   "outputs": [
    {
     "name": "stdout",
     "output_type": "stream",
     "text": [
      "[[1 2 3]\n",
      " [4 5 6]]\n",
      "(2, 3)\n"
     ]
    }
   ],
   "source": [
    "# 2차원 배열(매트릭스)\n",
    "arr2 = np.array([[1, 2, 3], [4, 5, 6]])\n",
    "print(arr2)\n",
    "print(arr2.shape)"
   ]
  },
  {
   "cell_type": "code",
   "execution_count": 7,
   "id": "6aca1d1c",
   "metadata": {},
   "outputs": [
    {
     "name": "stdout",
     "output_type": "stream",
     "text": [
      "[[1 2 3]]\n",
      "(1, 3)\n"
     ]
    }
   ],
   "source": [
    "arr3 = np.array([[1, 2, 3]])\n",
    "print(arr3)\n",
    "print(arr3.shape)"
   ]
  },
  {
   "cell_type": "code",
   "execution_count": null,
   "id": "797528bd",
   "metadata": {},
   "outputs": [
    {
     "name": "stdout",
     "output_type": "stream",
     "text": [
      "차원 1\n",
      "차원 2\n",
      "차원 2\n"
     ]
    }
   ],
   "source": [
    "# 차원 확인\n",
    "print(\"차원\", arr1.ndim)\n",
    "print(\"차원\", arr2.ndim)\n",
    "print(\"차원\", arr3.ndim) "
   ]
  },
  {
   "cell_type": "code",
   "execution_count": 11,
   "id": "fa13b489",
   "metadata": {},
   "outputs": [
    {
     "data": {
      "text/plain": [
       "array([1, 2, 3])"
      ]
     },
     "execution_count": 11,
     "metadata": {},
     "output_type": "execute_result"
    }
   ],
   "source": [
    "list1 = [1, 2, 3]\n",
    "arr1 = np.array(list1)\n",
    "arr1"
   ]
  },
  {
   "cell_type": "code",
   "execution_count": 13,
   "id": "aea7c46a",
   "metadata": {},
   "outputs": [
    {
     "name": "stdout",
     "output_type": "stream",
     "text": [
      "int64\n",
      "<class 'numpy.ndarray'>\n"
     ]
    }
   ],
   "source": [
    "print(arr1.dtype)\n",
    "print(type(arr1))"
   ]
  },
  {
   "cell_type": "code",
   "execution_count": 14,
   "id": "73dce98e",
   "metadata": {},
   "outputs": [
    {
     "data": {
      "text/plain": [
       "array([1., 2., 3.])"
      ]
     },
     "execution_count": 14,
     "metadata": {},
     "output_type": "execute_result"
    }
   ],
   "source": [
    "arr1.astype(\"float64\")"
   ]
  },
  {
   "cell_type": "markdown",
   "id": "e63e31a0",
   "metadata": {},
   "source": [
    "## 넘파이 배열 생성 함수"
   ]
  },
  {
   "cell_type": "code",
   "execution_count": null,
   "id": "8ebc644f",
   "metadata": {},
   "outputs": [
    {
     "data": {
      "text/plain": [
       "array([0, 1, 2, 3, 4, 5, 6, 7, 8, 9])"
      ]
     },
     "execution_count": 18,
     "metadata": {},
     "output_type": "execute_result"
    }
   ],
   "source": [
    "np.arange(10) # 해당 입력한 숫자만큼길이의 리스트 생성(오름차순) 또는\n",
    "\n"
   ]
  },
  {
   "cell_type": "code",
   "execution_count": null,
   "id": "92f1feeb",
   "metadata": {},
   "outputs": [
    {
     "data": {
      "text/plain": [
       "array([5, 6, 7, 8, 9])"
      ]
     },
     "execution_count": 19,
     "metadata": {},
     "output_type": "execute_result"
    }
   ],
   "source": [
    "np.arange(5, 10) # 5부터 시작해서 10까지의 리스트"
   ]
  },
  {
   "cell_type": "code",
   "execution_count": null,
   "id": "16c7a76e",
   "metadata": {},
   "outputs": [
    {
     "data": {
      "text/plain": [
       "array([1, 3, 5, 7, 9])"
      ]
     },
     "execution_count": 20,
     "metadata": {},
     "output_type": "execute_result"
    }
   ],
   "source": [
    "np.arange(1, 10, 2) # 1부터 10까지, 2간격으로"
   ]
  },
  {
   "cell_type": "code",
   "execution_count": null,
   "id": "f57b8617",
   "metadata": {},
   "outputs": [
    {
     "data": {
      "text/plain": [
       "array([0., 0., 0., 0., 0.])"
      ]
     },
     "execution_count": 22,
     "metadata": {},
     "output_type": "execute_result"
    }
   ],
   "source": [
    "np.zeros(5) # 0으로 채운 리스트 생성 len:5"
   ]
  },
  {
   "cell_type": "code",
   "execution_count": null,
   "id": "3e4d7fc1",
   "metadata": {},
   "outputs": [
    {
     "data": {
      "text/plain": [
       "array([[0, 0, 0],\n",
       "       [0, 0, 0]])"
      ]
     },
     "execution_count": 23,
     "metadata": {},
     "output_type": "execute_result"
    }
   ],
   "source": [
    "np.zeros((2,3), dtype='int64') # 2차원의 리스트 int 데이터를 넣는 생성"
   ]
  },
  {
   "cell_type": "code",
   "execution_count": null,
   "id": "ab25c3c4",
   "metadata": {},
   "outputs": [
    {
     "data": {
      "text/plain": [
       "array([[[0, 0, 0],\n",
       "        [0, 0, 0]],\n",
       "\n",
       "       [[0, 0, 0],\n",
       "        [0, 0, 0]],\n",
       "\n",
       "       [[0, 0, 0],\n",
       "        [0, 0, 0]]])"
      ]
     },
     "execution_count": 24,
     "metadata": {},
     "output_type": "execute_result"
    }
   ],
   "source": [
    "np.zeros((3, 2, 3), dtype='int64') # 3차원도 가능"
   ]
  },
  {
   "cell_type": "code",
   "execution_count": null,
   "id": "8484c9a5",
   "metadata": {},
   "outputs": [
    {
     "data": {
      "text/plain": [
       "array([1., 1., 1., 1., 1.])"
      ]
     },
     "execution_count": 25,
     "metadata": {},
     "output_type": "execute_result"
    }
   ],
   "source": [
    "np.ones(5) # 1로 채우는 리스트"
   ]
  },
  {
   "cell_type": "code",
   "execution_count": null,
   "id": "fc56ba96",
   "metadata": {},
   "outputs": [
    {
     "data": {
      "text/plain": [
       "array([6.23042070e-307, 4.67296746e-307, 1.69121096e-306, 1.19880322e-311])"
      ]
     },
     "execution_count": 26,
     "metadata": {},
     "output_type": "execute_result"
    }
   ],
   "source": [
    "np.empty(4) # 임의로 생성된 값"
   ]
  },
  {
   "cell_type": "code",
   "execution_count": 27,
   "id": "ab0f767b",
   "metadata": {},
   "outputs": [
    {
     "data": {
      "text/plain": [
       "array([[      2426432949800,                  64,                   0,\n",
       "                          0],\n",
       "       [  30962724179542016, 3474587809873146935, 4121133838459036771,\n",
       "        7233172845200893493],\n",
       "       [4122591601899287351, 3546922503101833785, 3486457020695262007,\n",
       "        7018406166710465588]])"
      ]
     },
     "execution_count": 27,
     "metadata": {},
     "output_type": "execute_result"
    }
   ],
   "source": [
    "np.empty((3,4), dtype='int64')"
   ]
  },
  {
   "cell_type": "code",
   "execution_count": 28,
   "id": "ab384fde",
   "metadata": {},
   "outputs": [
    {
     "data": {
      "text/plain": [
       "array([[7, 7, 7, 7],\n",
       "       [7, 7, 7, 7],\n",
       "       [7, 7, 7, 7]])"
      ]
     },
     "execution_count": 28,
     "metadata": {},
     "output_type": "execute_result"
    }
   ],
   "source": [
    "np.full((3, 4), 7) # 3열 4행의 리스트에 7로 채우기"
   ]
  },
  {
   "cell_type": "code",
   "execution_count": null,
   "id": "8dd071f0",
   "metadata": {},
   "outputs": [
    {
     "data": {
      "text/plain": [
       "array([[1., 0., 0.],\n",
       "       [0., 1., 0.],\n",
       "       [0., 0., 1.]])"
      ]
     },
     "execution_count": 29,
     "metadata": {},
     "output_type": "execute_result"
    }
   ],
   "source": [
    "np.eye(3) # 단위행렬 생성 "
   ]
  },
  {
   "cell_type": "code",
   "execution_count": 30,
   "id": "721d6741",
   "metadata": {},
   "outputs": [
    {
     "data": {
      "text/plain": [
       "array([[0., 0., 0., 0., 0., 0.],\n",
       "       [1., 0., 0., 0., 0., 0.],\n",
       "       [0., 1., 0., 0., 0., 0.],\n",
       "       [0., 0., 1., 0., 0., 0.],\n",
       "       [0., 0., 0., 1., 0., 0.],\n",
       "       [0., 0., 0., 0., 1., 0.]])"
      ]
     },
     "execution_count": 30,
     "metadata": {},
     "output_type": "execute_result"
    }
   ],
   "source": [
    "np.eye(6, k=-1)"
   ]
  },
  {
   "cell_type": "code",
   "execution_count": null,
   "id": "82f8da9a",
   "metadata": {},
   "outputs": [
    {
     "data": {
      "text/plain": [
       "array([ 1.  ,  3.25,  5.5 ,  7.75, 10.  ])"
      ]
     },
     "execution_count": 35,
     "metadata": {},
     "output_type": "execute_result"
    }
   ],
   "source": [
    "np.linspace(1, 10, 5) # 1에서 10까지 일정한 간격의 숫자를 5개 생성"
   ]
  },
  {
   "cell_type": "code",
   "execution_count": null,
   "id": "40a54d5d",
   "metadata": {},
   "outputs": [
    {
     "data": {
      "text/plain": [
       "array([[0.95396817, 0.56674805, 0.48542797],\n",
       "       [0.94234172, 0.72118788, 0.55927426]])"
      ]
     },
     "execution_count": 37,
     "metadata": {},
     "output_type": "execute_result"
    }
   ],
   "source": [
    "np.random.rand(2, 3) # 0~1 사이의 랜덤한 수를 2행 3열로 생성"
   ]
  },
  {
   "cell_type": "code",
   "execution_count": null,
   "id": "49ec7d06",
   "metadata": {},
   "outputs": [
    {
     "data": {
      "text/plain": [
       "0.2040466622708553"
      ]
     },
     "execution_count": 38,
     "metadata": {},
     "output_type": "execute_result"
    }
   ],
   "source": [
    "np.random.randn() # 정규분포표로 샘플링 된 랜덤 값"
   ]
  },
  {
   "cell_type": "code",
   "execution_count": 39,
   "id": "ed1f9c5d",
   "metadata": {},
   "outputs": [
    {
     "data": {
      "text/plain": [
       "array([ 0.85864807,  0.8398454 , -1.19937219, -1.66807074,  0.65873447])"
      ]
     },
     "execution_count": 39,
     "metadata": {},
     "output_type": "execute_result"
    }
   ],
   "source": [
    "np.random.randn(5) # 정규분포표로 샘플링 된 랜덤 값 5개 생성"
   ]
  },
  {
   "cell_type": "code",
   "execution_count": null,
   "id": "ae7d2268",
   "metadata": {},
   "outputs": [
    {
     "data": {
      "text/plain": [
       "array([3, 2, 1, 7, 3], dtype=int32)"
      ]
     },
     "execution_count": 83,
     "metadata": {},
     "output_type": "execute_result"
    }
   ],
   "source": [
    "np.random.randint(1, 10, 5) # 1에서 10 사이의 숫자를 5개 생성"
   ]
  },
  {
   "cell_type": "code",
   "execution_count": null,
   "id": "b8db8a45",
   "metadata": {},
   "outputs": [
    {
     "data": {
      "text/plain": [
       "array([[ 5, 63, 91, 16, 62],\n",
       "       [24, 45, 51,  9, 29],\n",
       "       [ 5, 90, 32, 70,  2]], dtype=int32)"
      ]
     },
     "execution_count": 88,
     "metadata": {},
     "output_type": "execute_result"
    }
   ],
   "source": [
    "np.random.seed(25) # 마인크래프트 맵 마냥 정해진 seed가 있음.\n",
    "np.random.randint(1, 100, (3,5)) # 1에서 100 사이의 난수를 3행 5열로 생성"
   ]
  },
  {
   "cell_type": "code",
   "execution_count": null,
   "id": "9adbf0d7",
   "metadata": {},
   "outputs": [
    {
     "data": {
      "text/plain": [
       "array([[78, 11, 35, 28],\n",
       "       [80, 50, 54, 37],\n",
       "       [44, 57, 56, 20]], dtype=int32)"
      ]
     },
     "execution_count": 120,
     "metadata": {},
     "output_type": "execute_result"
    }
   ],
   "source": [
    "np.random.choice(100, (3, 4)) # 랜덤한 0~99 까지의 난수를 3행 4열로 생성"
   ]
  },
  {
   "cell_type": "code",
   "execution_count": null,
   "id": "9c127081",
   "metadata": {},
   "outputs": [
    {
     "data": {
      "text/plain": [
       "array([[1.5, 2.6],\n",
       "       [4.9, 1. ]])"
      ]
     },
     "execution_count": 131,
     "metadata": {},
     "output_type": "execute_result"
    }
   ],
   "source": [
    "arr1 = np.array([1, 23, 1.5, 2.6, 4.9])\n",
    "np.random.choice(arr1, (2, 2)) # 랜덤한 수를 arr1에있는 수에서 가져와 2행 2열로 생성\n"
   ]
  },
  {
   "cell_type": "code",
   "execution_count": 132,
   "id": "b2137d76",
   "metadata": {},
   "outputs": [
    {
     "data": {
      "text/plain": [
       "array([[4.9, 2.6],\n",
       "       [1. , 1.5]])"
      ]
     },
     "execution_count": 132,
     "metadata": {},
     "output_type": "execute_result"
    }
   ],
   "source": [
    "np.random.choice(arr1, (2, 2), replace=False) # 동일하나 중복을 허용하지 않음"
   ]
  },
  {
   "cell_type": "code",
   "execution_count": 135,
   "id": "f49bf963",
   "metadata": {},
   "outputs": [
    {
     "data": {
      "text/plain": [
       "array([1, 2, 3, 4, 5, 6, 7, 8, 9])"
      ]
     },
     "execution_count": 135,
     "metadata": {},
     "output_type": "execute_result"
    }
   ],
   "source": [
    "# 인덱싱, 슬라이싱\n",
    "\n",
    "arr1 = np.arange(1, 10)\n",
    "arr1"
   ]
  },
  {
   "cell_type": "code",
   "execution_count": null,
   "id": "0943ebdd",
   "metadata": {},
   "outputs": [
    {
     "data": {
      "text/plain": [
       "array([[1, 2, 3],\n",
       "       [4, 5, 6],\n",
       "       [7, 8, 9]])"
      ]
     },
     "execution_count": 136,
     "metadata": {},
     "output_type": "execute_result"
    }
   ],
   "source": [
    "arr2 = arr1.reshape(3, 3) # arr1 리스트를 3행 3열, 즉 1차원 -> 2차원으로 변환.\n",
    "arr2"
   ]
  },
  {
   "cell_type": "code",
   "execution_count": null,
   "id": "b4692e95",
   "metadata": {},
   "outputs": [
    {
     "data": {
      "text/plain": [
       "array([1, 2, 3])"
      ]
     },
     "execution_count": 138,
     "metadata": {},
     "output_type": "execute_result"
    }
   ],
   "source": [
    "arr1[3] # 당연히 리스트니깐 인덱싱이랑 슬라이싱은 됨\n",
    "arr1[:3]"
   ]
  },
  {
   "cell_type": "code",
   "execution_count": null,
   "id": "6e303a51",
   "metadata": {},
   "outputs": [
    {
     "data": {
      "text/plain": [
       "array([[1],\n",
       "       [4]])"
      ]
     },
     "execution_count": 145,
     "metadata": {},
     "output_type": "execute_result"
    }
   ],
   "source": [
    "# 다차원 리스트 인덱싱 or 슬라이싱 하는 방법 \n",
    "arr2[0:2, 0:1] # 첫번째 축에서 0~2까지, 두번째 축에서 0~1까지를 슬라이싱"
   ]
  },
  {
   "cell_type": "code",
   "execution_count": null,
   "id": "0bdc0b53",
   "metadata": {},
   "outputs": [
    {
     "data": {
      "text/plain": [
       "array([2, 4, 6, 8])"
      ]
     },
     "execution_count": 146,
     "metadata": {},
     "output_type": "execute_result"
    }
   ],
   "source": [
    "# 불린 인덱싱 방법\n",
    "arr1[arr1 % 2 == 0] # 배열 내에서 2로 나눌 때 나머지가 0 인 값들만 고르기"
   ]
  },
  {
   "cell_type": "code",
   "execution_count": null,
   "id": "b9c0a31b",
   "metadata": {},
   "outputs": [
    {
     "data": {
      "text/plain": [
       "array([[ 1,  2,  3],\n",
       "       [ 8, 10, 12]])"
      ]
     },
     "execution_count": 153,
     "metadata": {},
     "output_type": "execute_result"
    }
   ],
   "source": [
    "x = np.array([[1,2,3], [4,5,6]])\n",
    "y = np.array([[1,1,1], [2,2,2]])\n",
    "\n",
    "x + y # numpy로 생성한 리스트는 같은 행 열 축에 해당하는 데이터들끼리 연산이 바로 됨\n",
    "x - y\n",
    "x / y\n",
    "x * y # or  np.multiply(x, y) \n"
   ]
  },
  {
   "cell_type": "code",
   "execution_count": null,
   "id": "c3d08786",
   "metadata": {},
   "outputs": [
    {
     "data": {
      "text/plain": [
       "[[1, 2, 3], [4, 5, 6], [1, 1, 1], [2, 2, 2]]"
      ]
     },
     "execution_count": 148,
     "metadata": {},
     "output_type": "execute_result"
    }
   ],
   "source": [
    "t1 = [[1,2,3], [4,5,6]]\n",
    "t2 = [[1,1,1], [2,2,2]]\n",
    "t1 + t2 # 일반적인 방법으로 생성한 그냥 리스트는 + 를 이어 붙히는 개념으로만 붙게 됨"
   ]
  },
  {
   "cell_type": "code",
   "execution_count": null,
   "id": "047c145f",
   "metadata": {},
   "outputs": [
    {
     "data": {
      "text/plain": [
       "np.float64(2.9166666666666665)"
      ]
     },
     "execution_count": 158,
     "metadata": {},
     "output_type": "execute_result"
    }
   ],
   "source": [
    "np.mean(x) \n",
    "np.var(x)\n",
    "# 집계함수도 있음"
   ]
  }
 ],
 "metadata": {
  "kernelspec": {
   "display_name": "venv",
   "language": "python",
   "name": "python3"
  },
  "language_info": {
   "codemirror_mode": {
    "name": "ipython",
    "version": 3
   },
   "file_extension": ".py",
   "mimetype": "text/x-python",
   "name": "python",
   "nbconvert_exporter": "python",
   "pygments_lexer": "ipython3",
   "version": "3.13.3"
  }
 },
 "nbformat": 4,
 "nbformat_minor": 5
}
