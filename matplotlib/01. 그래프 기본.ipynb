{
 "cells": [
  {
   "cell_type": "markdown",
   "id": "85144bf0",
   "metadata": {
    "id": "85144bf0"
   },
   "source": [
    "## matplotlib (https://matplotlib.org)\n",
    "\n",
    "- 다양한 형태의 그래프를 통해서 데이터 시각화를 할 수 있는 라이브러리\n",
    "<img src='https://matplotlib.org/stable/_images/anatomy.png' width='700' height='600'>"
   ]
  },
  {
   "cell_type": "code",
   "execution_count": null,
   "id": "OhZEQzIMxR3G",
   "metadata": {
    "id": "OhZEQzIMxR3G"
   },
   "outputs": [],
   "source": [
    "# matplotlib 한글 처리\n",
    "!pip install matplotlib\n",
    "!pip install koreanize_matplotlib"
   ]
  },
  {
   "cell_type": "code",
   "execution_count": null,
   "id": "c64790b7",
   "metadata": {
    "id": "c64790b7"
   },
   "outputs": [],
   "source": [
    "# 라이브러리 로드"
   ]
  },
  {
   "cell_type": "code",
   "execution_count": null,
   "id": "5d708721",
   "metadata": {
    "id": "5d708721"
   },
   "outputs": [],
   "source": []
  },
  {
   "cell_type": "markdown",
   "id": "9f6a0bdd",
   "metadata": {
    "id": "9f6a0bdd"
   },
   "source": [
    "### 기본 차트 생성"
   ]
  },
  {
   "cell_type": "markdown",
   "id": "2c95a35a",
   "metadata": {
    "id": "2c95a35a"
   },
   "source": [
    "><b>리스트를 그래프로 나타내기</b>"
   ]
  },
  {
   "cell_type": "code",
   "execution_count": null,
   "id": "fcbe8d8d",
   "metadata": {
    "id": "fcbe8d8d"
   },
   "outputs": [],
   "source": []
  },
  {
   "cell_type": "code",
   "execution_count": null,
   "id": "a091ac3a",
   "metadata": {
    "id": "a091ac3a"
   },
   "outputs": [],
   "source": [
    "\n",
    "\n"
   ]
  },
  {
   "cell_type": "markdown",
   "id": "ec005aa5",
   "metadata": {
    "id": "ec005aa5"
   },
   "source": [
    "><b>파이썬 딕셔너리를 그래프로 나타내기</b>"
   ]
  },
  {
   "cell_type": "code",
   "execution_count": null,
   "id": "9060f34c",
   "metadata": {
    "id": "9060f34c"
   },
   "outputs": [],
   "source": [
    "\n",
    "\n"
   ]
  },
  {
   "cell_type": "markdown",
   "id": "5d13f73e",
   "metadata": {
    "id": "5d13f73e"
   },
   "source": [
    "### 타이틀 설정"
   ]
  },
  {
   "cell_type": "code",
   "execution_count": null,
   "id": "e2162902",
   "metadata": {
    "id": "e2162902"
   },
   "outputs": [],
   "source": []
  },
  {
   "cell_type": "code",
   "execution_count": null,
   "id": "de929dd7",
   "metadata": {
    "id": "de929dd7"
   },
   "outputs": [],
   "source": []
  },
  {
   "cell_type": "markdown",
   "id": "2cacf27c",
   "metadata": {
    "id": "2cacf27c"
   },
   "source": [
    "### 그리드"
   ]
  },
  {
   "cell_type": "markdown",
   "id": "2c2c2435",
   "metadata": {
    "id": "2c2c2435"
   },
   "source": [
    "**전체설정**"
   ]
  },
  {
   "cell_type": "code",
   "execution_count": null,
   "id": "9885a4b5",
   "metadata": {
    "id": "9885a4b5"
   },
   "outputs": [],
   "source": []
  },
  {
   "cell_type": "markdown",
   "id": "688a956e",
   "metadata": {
    "id": "688a956e"
   },
   "source": [
    "**x축설정**"
   ]
  },
  {
   "cell_type": "code",
   "execution_count": null,
   "id": "ee8b73dd",
   "metadata": {
    "id": "ee8b73dd"
   },
   "outputs": [],
   "source": []
  },
  {
   "cell_type": "markdown",
   "id": "c722b1ae",
   "metadata": {
    "id": "c722b1ae"
   },
   "source": [
    "**y축설정**"
   ]
  },
  {
   "cell_type": "code",
   "execution_count": null,
   "id": "c9e455ae",
   "metadata": {
    "id": "c9e455ae"
   },
   "outputs": [],
   "source": []
  }
 ],
 "metadata": {
  "colab": {
   "provenance": []
  },
  "kernelspec": {
   "display_name": "Python 3 (ipykernel)",
   "language": "python",
   "name": "python3"
  },
  "language_info": {
   "codemirror_mode": {
    "name": "ipython",
    "version": 3
   },
   "file_extension": ".py",
   "mimetype": "text/x-python",
   "name": "python",
   "nbconvert_exporter": "python",
   "pygments_lexer": "ipython3",
   "version": "3.10.4"
  }
 },
 "nbformat": 4,
 "nbformat_minor": 5
}
