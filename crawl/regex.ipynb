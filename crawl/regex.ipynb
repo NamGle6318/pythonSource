{
 "cells": [
  {
   "cell_type": "markdown",
   "id": "3995e4bb",
   "metadata": {},
   "source": [
    "# 정규 표현식\n",
    "- JS에서 했던 것과 동일"
   ]
  },
  {
   "cell_type": "code",
   "execution_count": 51,
   "id": "19797a5d",
   "metadata": {},
   "outputs": [
    {
     "name": "stdout",
     "output_type": "stream",
     "text": [
      "\n",
      "park\n",
      "park 800905-*******\n",
      "kia\n",
      "kia 700905-*******\n",
      "\n"
     ]
    }
   ],
   "source": [
    "# 주민등록번호의 뒷자리를 *로 변경하기\n",
    "\n",
    "data = \"\"\"\n",
    "park 800905-1049118\n",
    "kia 700905-1059119\n",
    "\"\"\"\n",
    "\n",
    "# 출력 예시\n",
    "# park 800905-*******\n",
    "# kia 700905-*******\n",
    "\n",
    "# 1. 정규식을 사용하지 않을 시\n",
    "\n",
    "# data = data.split(\"\\n\") # 문자열별로 자르기\n",
    "\n",
    "result = []\n",
    "for line in data.split(\"\\n\"): # 줄별로 나누기\n",
    "    word_result = []\n",
    "    for word in line.split(\" \"): # 이름과 주민번호 분리\n",
    "        if len(word) == 14 and word[:6].isdigit() and word[7:].isdigit(): # 주민번호 총 길이와 앞 뒷자리가 숫자가 맞는지 확인\n",
    "            word = word[:6] + \"-\" + \"*******\"\n",
    "        word_result.append(word)\n",
    "        result.append(\" \".join(word_result)) # 리스트 => 문자열로 변경\n",
    "\n",
    "\n",
    "print(\"\\n\".join(result))\n",
    "\n",
    "\n",
    "\n",
    "\n"
   ]
  },
  {
   "cell_type": "markdown",
   "id": "3b0010eb",
   "metadata": {},
   "source": [
    "### 정규식을 사용\n",
    "- 문자열이 가지고 있는 메소드 사용\n",
    "    - re 모듈\n",
    "    - 메소드\n",
    "        + match() : 문자열 처음에서 검색해서 매칭되는 패턴을 찾아서 리턴(처음이 일치하지 않으면 None)\n",
    "        + search() : 문자열 전체 검색해서 정규식과 매칭되는 패턴을 찾아서 리턴\n",
    "        + findall()\n",
    "        + finditer()\n",
    "        + replace()\n",
    "        + compile()\n"
   ]
  },
  {
   "cell_type": "code",
   "execution_count": null,
   "id": "8bbb9737",
   "metadata": {},
   "outputs": [
    {
     "name": "stdout",
     "output_type": "stream",
     "text": [
      "<re.Match object; span=(0, 3), match='DAA'>\n",
      "패턴 시작 위치 0\n",
      "패턴 종료 위치 3\n",
      "패턴과 일치하는 문자열 반환 (0, 3)\n"
     ]
    }
   ],
   "source": [
    "import re\n",
    "\n",
    "# 패턴 지정\n",
    "pattern = re.compile(\"D.A\") # D*A 문자 탐색 (* : any)\n",
    "\n",
    "result = pattern.search(\"DAA\")\n",
    "\n",
    "print(result)\n",
    "\n",
    "print(\"패턴 시작 위치\", result.start())\n",
    "print(\"패턴 종료 위치\", result.end())\n",
    "print(\"패턴과 일치하는 문자열 반환\", result.span())\n",
    "\n",
    "\n",
    "\n"
   ]
  },
  {
   "cell_type": "code",
   "execution_count": 57,
   "id": "35f21bb6",
   "metadata": {},
   "outputs": [
    {
     "name": "stdout",
     "output_type": "stream",
     "text": [
      "<re.Match object; span=(4, 7), match='D1A'>\n",
      "패턴 시작 위치 4\n",
      "패턴 종료 위치 7\n",
      "패턴과 일치하는 문자열 반환 (4, 7)\n"
     ]
    }
   ],
   "source": [
    "# 정규식 예시 +\n",
    "# 패턴 지정\n",
    "\n",
    "result = pattern.search(\"d0A D1A 0111\")\n",
    "\n",
    "print(result)\n",
    "\n",
    "print(\"패턴 시작 위치\", result.start())\n",
    "print(\"패턴 종료 위치\", result.end())\n",
    "print(\"패턴과 일치하는 문자열 반환\", result.span())"
   ]
  },
  {
   "cell_type": "code",
   "execution_count": null,
   "id": "7dd9750f",
   "metadata": {},
   "outputs": [
    {
     "name": "stdout",
     "output_type": "stream",
     "text": [
      "<re.Match object; span=(0, 1), match='A'>\n",
      "<re.Match object; span=(0, 2), match='DA'>\n",
      "<re.Match object; span=(0, 1), match='A'>\n",
      " ================= \n",
      "None\n",
      "<re.Match object; span=(0, 12), match='DDDDDDDDDDDA'>\n",
      "None\n",
      " ================= \n",
      "<re.Match object; span=(0, 1), match='A'>\n",
      "<re.Match object; span=(0, 12), match='DDDDDDDDDDDA'>\n",
      "<re.Match object; span=(0, 1), match='A'>\n",
      " ================= \n",
      "None\n",
      "<re.Match object; span=(9, 16), match='DDDDDDA'>\n",
      "<re.Match object; span=(0, 6), match='DDDDDA'>\n"
     ]
    }
   ],
   "source": [
    "# 정규식 패턴 상기 시키기\n",
    "\n",
    "# 1. 반복 숫자 : *, +, ?, {3}, {3, 5}\n",
    "\n",
    "# ? : 최소 0 ~ 최대 1\n",
    "pattern = re.compile(\"D?A\") # D가 있을 수도, 없을 수도 있음\n",
    "\n",
    "print(pattern.search(\"A\"))\n",
    "print(pattern.search(\"DA\"))\n",
    "print(pattern.search(\"AA\"))\n",
    "\n",
    "print(\" ================= \")\n",
    "# + : 최소 1 ~ 최대 무한\n",
    "pattern = re.compile(\"D+A\") # D로 시작해야하고, 없을 수도 있음\n",
    "\n",
    "print(pattern.search(\"A\"))\n",
    "print(pattern.search(\"DDDDDDDDDDDA\"))\n",
    "print(pattern.search(\"AAAAA\"))\n",
    "\n",
    "print(\" ================= \")\n",
    "# * : 최소 0 ~ 최대 무한\n",
    "pattern = re.compile(\"D*A\") # \n",
    "\n",
    "print(pattern.search(\"A\"))\n",
    "print(pattern.search(\"DDDDDDDDDDDA\"))\n",
    "print(pattern.search(\"AAAAA\"))\n",
    "\n",
    "print(\" ================= \")\n",
    "# {최소, 최대}\n",
    "pattern = re.compile(\"D{2,6}A\") # D로 시작하고, D는 최소 2개 최대 6개고, A로 끝나는 거 찾기\n",
    "\n",
    "print(pattern.search(\"DA\"))\n",
    "print(pattern.search(\"DDDDDDDDDDDDDDDA\"))\n",
    "print(pattern.search(\"DDDDDA\"))\n"
   ]
  },
  {
   "cell_type": "code",
   "execution_count": null,
   "id": "723e5aea",
   "metadata": {},
   "outputs": [
    {
     "name": "stdout",
     "output_type": "stream",
     "text": [
      "<re.Match object; span=(0, 1), match='a'>\n",
      "None\n",
      " ================= \n",
      "<re.Match object; span=(0, 1), match='a'>\n",
      "None\n",
      " ================= \n",
      "None\n",
      "<re.Match object; span=(0, 1), match='z'>\n",
      " ================= \n"
     ]
    }
   ],
   "source": [
    "# [abc] : a or b or c\n",
    "# [a-z] : a ~ z\n",
    "# [0-9] : 0 ~ 9\n",
    "# [0-9a-zA-Z] 대소문자 or 숫자\n",
    "# [^0-9a-zA-Z] 대소문자 or 숫자를 제외한\n",
    "# [가-힣] : 한글\n",
    "\n",
    "pattern = re.compile(\"[abcdefgABCDEFG]\") # D가 있을 수도, 없을 수도 있음\n",
    "\n",
    "print(pattern.search(\"a1234\"))\n",
    "print(pattern.search(\"z4567\"))\n",
    "\n",
    "print(\" ================= \")\n",
    "\n",
    "pattern = re.compile(\"[a-gA-G]\") # D가 있을 수도, 없을 수도 있음\n",
    "\n",
    "print(pattern.search(\"a1234\"))\n",
    "print(pattern.search(\"z4567\"))\n",
    "\n",
    "print(\" ================= \")\n",
    "\n",
    "pattern = re.compile(\"[^a-gA-G0-9]\")\n",
    "\n",
    "print(pattern.search(\"a1234\"))\n",
    "print(pattern.search(\"z4567\"))\n",
    "\n",
    "print(\" ================= \")"
   ]
  },
  {
   "cell_type": "code",
   "execution_count": null,
   "id": "1cf5abc5",
   "metadata": {},
   "outputs": [
    {
     "name": "stdout",
     "output_type": "stream",
     "text": [
      "None\n",
      "<re.Match object; span=(1, 4), match='ave'>\n",
      "Dave Dave Dave DA\n",
      "['ame', 'of', 'ife', 'in', 'ython']\n",
      "['python', 'java']\n"
     ]
    }
   ],
   "source": [
    "pattern = re.compile(\"[a-z]+\") # 소문자 알파벳으로 시작하는 아무 단어\n",
    "\n",
    "matched = pattern.match(\"Dave\") # 해당 문자열의 처음부터 검색\n",
    "\n",
    "print(matched) \n",
    "\n",
    "searched = pattern.search(\"Dave\") # 해당 문자열의 전체 검색\n",
    "print(searched)\n",
    "\n",
    "origin = \"DDA DIA DDA DA\"\n",
    "\n",
    "# re.sub(패턴, 바꿀문자열, 원본문자열) : 원본문자열에서 패턴에 해당하는 문자를 바꾼다\n",
    "# . : \\n을 제외한 모든 문자 == [가-힣o-9a-zA-Z]\n",
    "print(re.sub(\"D.A\", \"Dave\", origin))\n",
    "\n",
    "#findall()\n",
    "pattern = re.compile(\"[a-z]+\")\n",
    "# findall() : 헤당 문자열에서 패턴에 해당하는 모든 부분들을 리스트화\n",
    "print(pattern.findall(\"Game of Life in Python\")) \n",
    "\n",
    "# re.split : 정규식에 해당하는 문자열을 기준으로 자름\n",
    "pattern = re.compile(\":\")\n",
    "print(pattern.split(\"python:java\"))\n",
    "\n",
    "\n"
   ]
  },
  {
   "cell_type": "code",
   "execution_count": null,
   "id": "a7507b60",
   "metadata": {},
   "outputs": [
    {
     "name": "stdout",
     "output_type": "stream",
     "text": [
      "['python', 'java']\n",
      "python\n",
      "java\n",
      "['801025', '*******']\n"
     ]
    },
    {
     "data": {
      "text/plain": [
       "'801025-*******'"
      ]
     },
     "execution_count": 115,
     "metadata": {},
     "output_type": "execute_result"
    }
   ],
   "source": [
    "origin = \"python VS java\"\n",
    "\n",
    "# VS 를 기준으로 분리\n",
    "\n",
    "pattern = re.compile(\" VS \")\n",
    "\n",
    "result = pattern.split(origin)\n",
    "print(result) # 리스트\n",
    "print(\"\\n\".join(result)) # 문자열\n",
    "\n",
    "# 정규식을 사용하여 뒷자리를 *로 변경\n",
    "villager = \"801025-1011323\"\n",
    "\n",
    "\n",
    "result = villager.split(\"-\") # 주민번호 앞, 뒷자리 분리\n",
    "pattern = re.compile(\"[0-9]{7}\")\n",
    "result[1] = pattern.sub(\"*******\", result[1]) # 주민번호 뒷자리(숫자 -> * 로 변경)\n",
    "print(result)\n",
    "jumin = result[0] + \"-\" + result[1] # 분리된 주민번호 다시 이어 붙히기\n",
    "jumin\n",
    "\n"
   ]
  },
  {
   "cell_type": "code",
   "execution_count": null,
   "id": "3b667204",
   "metadata": {},
   "outputs": [],
   "source": [
    "# 주민등록번호의 뒷자리를 *로 변경하기\n",
    "\n",
    "data = \"\"\"\n",
    "park 800905-1049118\n",
    "kia 700905-1059119\n",
    "\"\"\"\n",
    "\n",
    "# 출력 예시\n",
    "# park 800905-*******\n",
    "# kia 700905-*******\n",
    "\n",
    "# 2. 정규식을 사용시\n",
    "\n",
    "# data = data.split(\"\\n\") # 문자열별로 자르기\n",
    "\n",
    "result = []\n",
    "for line in data.split(\"\\n\"): # 줄별로 나누기\n",
    "    word_result = []\n",
    "    for word in line.split(\" \"): # 이름과 주민번호 분리\n",
    "        if len(word) == 14 and word[:6].isdigit() and word[7:].isdigit(): # 주민번호 총 길이와 앞 뒷자리가 숫자가 맞는지 확인\n",
    "            word = word[:6] + \"-\" + \"*******\"\n",
    "        word_result.append(word)\n",
    "        result.append(\" \".join(word_result)) # 리스트 => 문자열로 변경\n",
    "\n",
    "\n",
    "print(\"\\n\".join(result))\n",
    "\n",
    "\n",
    "\n",
    "\n"
   ]
  }
 ],
 "metadata": {
  "kernelspec": {
   "display_name": "venv",
   "language": "python",
   "name": "python3"
  },
  "language_info": {
   "codemirror_mode": {
    "name": "ipython",
    "version": 3
   },
   "file_extension": ".py",
   "mimetype": "text/x-python",
   "name": "python",
   "nbconvert_exporter": "python",
   "pygments_lexer": "ipython3",
   "version": "3.13.3"
  }
 },
 "nbformat": 4,
 "nbformat_minor": 5
}
