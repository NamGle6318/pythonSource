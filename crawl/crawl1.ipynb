{
 "cells": [
  {
   "cell_type": "markdown",
   "id": "a7547a86",
   "metadata": {},
   "source": [
    "## 크롤링 vs 스크랩핑\n",
    "\n",
    "- 크롤링 : 주기적으로, 무작위로 데이터를 수집하는 것(데이터의 양을 우선으로 수집하는 방식)\n",
    "    - 사이트에서 허용하는 경로만 가능\n",
    "- 스크랩핑 : 어떤 특정 카테고리를 선택해서 데이터를 수집(크롤링보다 작은 개념)"
   ]
  },
  {
   "cell_type": "code",
   "execution_count": null,
   "id": "4e8a8b2b",
   "metadata": {},
   "outputs": [
    {
     "name": "stdout",
     "output_type": "stream",
     "text": [
      "Date: Wed, 11 Jun 2025 04:11:38 GMT\n",
      "Expires: -1\n",
      "Cache-Control: private, max-age=0\n",
      "Content-Type: text/html; charset=ISO-8859-1\n",
      "Content-Security-Policy-Report-Only: object-src 'none';base-uri 'self';script-src 'nonce-WGCjtYUPT_xU8t1y--1O9Q' 'strict-dynamic' 'report-sample' 'unsafe-eval' 'unsafe-inline' https: http:;report-uri https://csp.withgoogle.com/csp/gws/other-hp\n",
      "Accept-CH: Sec-CH-Prefers-Color-Scheme\n",
      "P3P: CP=\"This is not a P3P policy! See g.co/p3phelp for more info.\"\n",
      "Server: gws\n",
      "X-XSS-Protection: 0\n",
      "X-Frame-Options: SAMEORIGIN\n",
      "Set-Cookie: AEC=AVh_V2gwWrTVcjN3Jg8K47g9BoLycHFyAgOMozMUb2cD3ylgmoeRZ9DE7A; expires=Mon, 08-Dec-2025 04:11:38 GMT; path=/; domain=.google.com; Secure; HttpOnly; SameSite=lax\n",
      "Set-Cookie: NID=524=QX8n2CoZrhKTX9Ojwm6R8Xgjug97S50wHZQ0GceZDy-Wd2x6sGzCeEI_gpl6NcW2wflua-ozCK2U1Jf1pCwpJSeaf_270r-JJNoTC5QHpNZbNuSE3E35JKDOUQLdsZuWnxt_l4FRTu2KgEpv3taDVgovqeCZJNglxdf0q2vuOirfz5uOV_a-JeHY2QcixEIp1QrunhHGs55oL5YbdPU; expires=Thu, 11-Dec-2025 04:11:38 GMT; path=/; domain=.google.com; HttpOnly\n",
      "Alt-Svc: h3=\":443\"; ma=2592000,h3-29=\":443\"; ma=2592000\n",
      "Accept-Ranges: none\n",
      "Vary: Accept-Encoding\n",
      "Connection: close\n",
      "Transfer-Encoding: chunked\n",
      "\n",
      "\n"
     ]
    }
   ],
   "source": [
    "import urllib.request as req\n",
    "\n",
    "# urlretrieve : 요청하는 url 정보를 로컬파일로 저장\n",
    "\n",
    "url = \"https://www.google.com/\"\n",
    "file1, header1 = req.urlretrieve(url, \"./google.html\") # 요청하면 2개를 반환하는데 하나는 요청한 url의 로컬파일, 다른 하나는 header다\n",
    "print(header1)\n",
    "\n"
   ]
  },
  {
   "cell_type": "code",
   "execution_count": 4,
   "id": "f854ac41",
   "metadata": {},
   "outputs": [
    {
     "name": "stdout",
     "output_type": "stream",
     "text": [
      "date: Wed, 11 Jun 2025 00:04:56 GMT\n",
      "etag: 6a84f3e2d30d9fc8943b320a3f2daf10\n",
      "server: ATS/9.2.9\n",
      "content-type: image/png\n",
      "content-disposition: inline;filename*=UTF-8''Python-logo-notext.svg.png\n",
      "last-modified: Thu, 18 Jul 2024 04:03:47 GMT\n",
      "content-length: 96986\n",
      "age: 15053\n",
      "accept-ranges: bytes\n",
      "x-cache: cp5032 hit, cp5032 hit/37\n",
      "x-cache-status: hit-front\n",
      "server-timing: cache;desc=\"hit-front\", host;desc=\"cp5032\"\n",
      "strict-transport-security: max-age=106384710; includeSubDomains; preload\n",
      "report-to: { \"group\": \"wm_nel\", \"max_age\": 604800, \"endpoints\": [{ \"url\": \"https://intake-logging.wikimedia.org/v1/events?stream=w3c.reportingapi.network_error&schema_uri=/w3c/reportingapi/network_error/1.0.0\" }] }\n",
      "nel: { \"report_to\": \"wm_nel\", \"max_age\": 604800, \"failure_fraction\": 0.05, \"success_fraction\": 0.0}\n",
      "x-client-ip: 121.160.41.53\n",
      "x-content-type-options: nosniff\n",
      "access-control-allow-origin: *\n",
      "access-control-expose-headers: Age, Date, Content-Length, Content-Range, X-Content-Duration, X-Cache\n",
      "timing-allow-origin: *\n",
      "set-cookie: WMF-Uniq=-MahnX-rgarNMr_IjrrXEQIPAAAAAFvdIt--t4js7ck-ONKAbp2kWHsrnCXhajhI;Domain=upload.wikimedia.org;Path=/;HttpOnly;secure;SameSite=None;Expires=Thu, 11 Jun 2026 00:00:00 GMT\n",
      "connection: close\n",
      "\n",
      "\n"
     ]
    }
   ],
   "source": [
    "# 이미지 따오기\n",
    "url = \"https://upload.wikimedia.org/wikipedia/commons/thumb/c/c3/Python-logo-notext.svg/1200px-Python-logo-notext.svg.png\"\n",
    "\n",
    "file1, header1 = req.urlretrieve(url, \"./python.png\")\n",
    "print(header1)"
   ]
  },
  {
   "cell_type": "markdown",
   "id": "f7f23c68",
   "metadata": {},
   "source": []
  }
 ],
 "metadata": {
  "kernelspec": {
   "display_name": "venv",
   "language": "python",
   "name": "python3"
  },
  "language_info": {
   "codemirror_mode": {
    "name": "ipython",
    "version": 3
   },
   "file_extension": ".py",
   "mimetype": "text/x-python",
   "name": "python",
   "nbconvert_exporter": "python",
   "pygments_lexer": "ipython3",
   "version": "3.13.3"
  }
 },
 "nbformat": 4,
 "nbformat_minor": 5
}
