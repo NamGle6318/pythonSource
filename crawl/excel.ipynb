{
 "cells": [
  {
   "cell_type": "markdown",
   "id": "4446ab96",
   "metadata": {},
   "source": [
    "## EXCEL\n",
    "\n"
   ]
  },
  {
   "cell_type": "code",
   "execution_count": 8,
   "id": "34ab24b4",
   "metadata": {},
   "outputs": [],
   "source": [
    "# pip install openpyxl\n",
    "\n",
    "from openpyxl import Workbook, load_workbook\n",
    "\n",
    "\n"
   ]
  },
  {
   "cell_type": "code",
   "execution_count": null,
   "id": "87d1dbbf",
   "metadata": {},
   "outputs": [],
   "source": [
    "# 엑셀파일 생성\n",
    "\n",
    "wb = Workbook() # 엑셀파일 생성\n",
    "\n",
    "ws = wb.active # 첫번째 sheet 가져오기\n",
    "\n",
    "ws.title = \"test\" # 시트명 변경\n",
    "\n",
    "wb.save(\"./data/sample1.xlsx\") # 엑셀파일 저장\n",
    "wb.close()\n",
    "\n"
   ]
  },
  {
   "cell_type": "code",
   "execution_count": 7,
   "id": "54891d33",
   "metadata": {},
   "outputs": [],
   "source": [
    "from random import randint\n",
    "wb = Workbook() # 엑셀파일 생성\n",
    "\n",
    "ws = wb.active # 첫번째 sheet 가져오기\n",
    "\n",
    "ws.title = \"test\" # 시트명 변경\n",
    "\n",
    "# 두번째 sheet 생성\n",
    "ws2 = wb.create_sheet()\n",
    "ws2.title = \"MySheet\"\n",
    "ws2.sheet_properties.tabColor=\"ff66ff\"\n",
    "\n",
    "# 시트 복사\n",
    "new_ws = wb.copy_worksheet(ws)\n",
    "new_ws.title = \"Copied Sheet\"\n",
    "\n",
    "# 셀 접근\n",
    "ws[\"A1\"] = 1\n",
    "ws[\"A2\"] = 2\n",
    "ws[\"A3\"] = 3\n",
    "\n",
    "ws[\"B1\"] = 4\n",
    "ws[\"B2\"] = 5\n",
    "ws[\"B3\"] = 6\n",
    "\n",
    "for i in range(1 , 11):\n",
    "    for j in range(1, 11):\n",
    "        ws.cell(row=i, column=j, value=randint(0, 100))\n",
    "\n",
    "\n",
    "# 액셀파일 저장\n",
    "wb.save(\"./data/sample1.xlsx\")\n",
    "wb.close()\n",
    "\n",
    "wb.save(\"./data/sample1.xlsx\") # 엑셀파일 저장\n",
    "wb.close()"
   ]
  },
  {
   "cell_type": "code",
   "execution_count": null,
   "id": "1779bafe",
   "metadata": {},
   "outputs": [
    {
     "name": "stdout",
     "output_type": "stream",
     "text": [
      "25 56 70 69 37 88 35 9 71 81 \n",
      "43 0 61 38 85 99 64 61 100 15 \n",
      "76 87 72 17 85 84 79 96 58 69 \n",
      "67 76 82 24 70 54 92 0 21 33 \n",
      "12 68 29 15 98 24 0 49 6 15 \n",
      "90 7 50 29 82 41 0 3 9 80 \n",
      "7 18 15 92 94 10 52 68 28 52 \n",
      "24 3 84 99 86 35 61 21 88 46 \n",
      "77 83 92 94 96 13 1 40 94 69 \n",
      "13 83 25 22 49 88 97 70 65 12 \n"
     ]
    }
   ],
   "source": [
    "# 읽어오기 \n",
    "load_workbook(\"./data/sample1.xlsx\")\n",
    "ws = wb.active\n",
    "\n",
    "for i in range(1 , 11):\n",
    "    for j in range(1, 11):\n",
    "        print(ws.cell(row=i, column=j).value, end=' ')\n",
    "    print()\n",
    "\n",
    "wb.close()\n",
    "\n"
   ]
  },
  {
   "cell_type": "code",
   "execution_count": null,
   "id": "0f092ea8",
   "metadata": {},
   "outputs": [],
   "source": [
    "# 엑셀 저장은 다음 시간에~"
   ]
  }
 ],
 "metadata": {
  "kernelspec": {
   "display_name": "venv",
   "language": "python",
   "name": "python3"
  },
  "language_info": {
   "codemirror_mode": {
    "name": "ipython",
    "version": 3
   },
   "file_extension": ".py",
   "mimetype": "text/x-python",
   "name": "python",
   "nbconvert_exporter": "python",
   "pygments_lexer": "ipython3",
   "version": "3.13.3"
  }
 },
 "nbformat": 4,
 "nbformat_minor": 5
}
