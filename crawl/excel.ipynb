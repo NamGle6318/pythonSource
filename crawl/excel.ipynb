{
 "cells": [
  {
   "cell_type": "markdown",
   "id": "4446ab96",
   "metadata": {},
   "source": [
    "## EXCEL\n",
    "\n"
   ]
  },
  {
   "cell_type": "code",
   "execution_count": null,
   "id": "34ab24b4",
   "metadata": {},
   "outputs": [],
   "source": [
    "# pip install openpyxl\n",
    "\n",
    "from openpyxl import Workbook, load workbook\n",
    "\n"
   ]
  },
  {
   "cell_type": "code",
   "execution_count": null,
   "id": "87d1dbbf",
   "metadata": {},
   "outputs": [],
   "source": [
    "# 엑셀파일 생성\n",
    "\n",
    "wb = Workbook() # 엑셀파일 생성\n",
    "\n",
    "ws = wb.active # 첫번째 sheet 가져오기\n",
    "\n",
    "ws.title = \"test\" # 시트명 변경\n",
    "\n",
    "wb.save(\"./data/sample1.xlsx\") # 엑셀파일 저장\n",
    "wb.close()"
   ]
  },
  {
   "cell_type": "code",
   "execution_count": null,
   "id": "54891d33",
   "metadata": {},
   "outputs": [],
   "source": [
    "wb = Workbook() # 엑셀파일 생성\n",
    "\n",
    "ws = wb.active # 첫번째 sheet 가져오기\n",
    "\n",
    "ws.title = \"test\" # 시트명 변경\n",
    "\n",
    "# 두번째 sheet 생성\n",
    "ws2 = wb.create_sheet()\n",
    "ws2.title = \"MySheet\"\n",
    "ws2.sheet_properties.tabColor=\"ff66ff\"\n",
    "\n",
    "# 시트 복사\n",
    "new_ws = wb.copy_worksheet(ws)\n",
    "new+ws.title = \"Copied Sheet\"\n",
    "\n",
    "# 셀 접근\n",
    "ws[\"A1\"] = 1\n",
    "ws[\"A2\"] = 2\n",
    "ws[\"A3\"] = 3\n",
    "\n",
    "ws[\"B1\"] = 4\n",
    "ws[\"B2\"] = 5\n",
    "ws[\"B3\"] = 6\n",
    "\n",
    "\n",
    "# 액셀파일 저장\n",
    "wb.save(\"./data/sample1.xlsx\")\n",
    "wb.close()\n",
    "\n",
    "wb.save(\"./data/sample1.xlsx\") # 엑셀파일 저장\n",
    "wb.close()"
   ]
  }
 ],
 "metadata": {
  "kernelspec": {
   "display_name": "venv",
   "language": "python",
   "name": "python3"
  },
  "language_info": {
   "name": "python",
   "version": "3.13.3"
  }
 },
 "nbformat": 4,
 "nbformat_minor": 5
}
